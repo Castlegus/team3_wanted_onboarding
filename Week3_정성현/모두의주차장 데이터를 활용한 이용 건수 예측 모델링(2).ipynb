{
 "cells": [
  {
   "cell_type": "code",
   "execution_count": 1,
   "metadata": {},
   "outputs": [],
   "source": [
    "import pandas as pd\n",
    "import matplotlib.pyplot as plt\n",
    "import seaborn as sns\n",
    "import numpy as np\n",
    "\n",
    "plt.rc('font', family='Malgun Gothic')\n",
    "plt.rcParams['axes.unicode_minus'] = False\n",
    "np.random.seed(42)"
   ]
  },
  {
   "cell_type": "code",
   "execution_count": 2,
   "metadata": {},
   "outputs": [],
   "source": [
    "df = pd.read_csv('실전db.csv')"
   ]
  },
  {
   "cell_type": "code",
   "execution_count": 3,
   "metadata": {},
   "outputs": [],
   "source": [
    "df['JOIN_DATE'] = pd.to_datetime(df['JOIN_DATE'])\n",
    "df['DATE'] = pd.to_datetime(df['DATE'])\n",
    "\n",
    "df['USER_ID'] = df['USER_ID'].astype(str)\n",
    "df['STORE_ID'] = df['STORE_ID'].astype(str)"
   ]
  },
  {
   "cell_type": "code",
   "execution_count": 4,
   "metadata": {},
   "outputs": [],
   "source": [
    "Train = df.query('DATE <= \"2020.09.30\"')\n",
    "Test = df.query('\"2020.10.01\"<=DATE<=\"2020.12.31\"')"
   ]
  },
  {
   "cell_type": "code",
   "execution_count": 5,
   "metadata": {},
   "outputs": [],
   "source": [
    "df['요일'] = df['DATE'].dt.day_name()"
   ]
  },
  {
   "cell_type": "code",
   "execution_count": 6,
   "metadata": {},
   "outputs": [
    {
     "data": {
      "text/plain": [
       "Friday       137917\n",
       "Thursday     133616\n",
       "Wednesday    132285\n",
       "Saturday     131480\n",
       "Tuesday      130681\n",
       "Monday       127052\n",
       "Sunday        86240\n",
       "Name: 요일, dtype: int64"
      ]
     },
     "execution_count": 6,
     "metadata": {},
     "output_type": "execute_result"
    }
   ],
   "source": [
    "df['요일'].value_counts()"
   ]
  },
  {
   "cell_type": "code",
   "execution_count": 7,
   "metadata": {},
   "outputs": [
    {
     "data": {
      "text/plain": [
       "165425"
      ]
     },
     "execution_count": 7,
     "metadata": {},
     "output_type": "execute_result"
    }
   ],
   "source": [
    "df['USER_ID'].nunique()"
   ]
  },
  {
   "cell_type": "code",
   "execution_count": 8,
   "metadata": {},
   "outputs": [
    {
     "data": {
      "text/plain": [
       "AA    493166\n",
       "BB    384541\n",
       "CC      1564\n",
       "Name: D_TYPE, dtype: int64"
      ]
     },
     "execution_count": 8,
     "metadata": {},
     "output_type": "execute_result"
    }
   ],
   "source": [
    "df['D_TYPE'].value_counts()"
   ]
  },
  {
   "cell_type": "code",
   "execution_count": 9,
   "metadata": {},
   "outputs": [],
   "source": [
    "df['월'] = df['DATE'].dt.month"
   ]
  },
  {
   "cell_type": "code",
   "execution_count": 10,
   "metadata": {},
   "outputs": [
    {
     "data": {
      "text/html": [
       "<div>\n",
       "<style scoped>\n",
       "    .dataframe tbody tr th:only-of-type {\n",
       "        vertical-align: middle;\n",
       "    }\n",
       "\n",
       "    .dataframe tbody tr th {\n",
       "        vertical-align: top;\n",
       "    }\n",
       "\n",
       "    .dataframe thead th {\n",
       "        text-align: right;\n",
       "    }\n",
       "</style>\n",
       "<table border=\"1\" class=\"dataframe\">\n",
       "  <thead>\n",
       "    <tr style=\"text-align: right;\">\n",
       "      <th></th>\n",
       "      <th>USER_ID</th>\n",
       "      <th>JOIN_DATE</th>\n",
       "      <th>D_TYPE</th>\n",
       "      <th>STORE_ID</th>\n",
       "      <th>GOODS_TYPE</th>\n",
       "      <th>DATE</th>\n",
       "      <th>COUNT</th>\n",
       "      <th>AD1</th>\n",
       "      <th>요일</th>\n",
       "      <th>월</th>\n",
       "    </tr>\n",
       "  </thead>\n",
       "  <tbody>\n",
       "    <tr>\n",
       "      <th>176320</th>\n",
       "      <td>1071641</td>\n",
       "      <td>1970-01-01</td>\n",
       "      <td>CC</td>\n",
       "      <td>221045</td>\n",
       "      <td>A</td>\n",
       "      <td>2020-04-03</td>\n",
       "      <td>1</td>\n",
       "      <td>GN</td>\n",
       "      <td>Friday</td>\n",
       "      <td>4</td>\n",
       "    </tr>\n",
       "    <tr>\n",
       "      <th>625539</th>\n",
       "      <td>1686813</td>\n",
       "      <td>1970-01-01</td>\n",
       "      <td>CC</td>\n",
       "      <td>223023</td>\n",
       "      <td>A</td>\n",
       "      <td>2020-10-02</td>\n",
       "      <td>1</td>\n",
       "      <td>YD</td>\n",
       "      <td>Friday</td>\n",
       "      <td>10</td>\n",
       "    </tr>\n",
       "    <tr>\n",
       "      <th>226658</th>\n",
       "      <td>859401</td>\n",
       "      <td>1970-01-01</td>\n",
       "      <td>CC</td>\n",
       "      <td>102276</td>\n",
       "      <td>B</td>\n",
       "      <td>2020-04-27</td>\n",
       "      <td>1</td>\n",
       "      <td>SC</td>\n",
       "      <td>Monday</td>\n",
       "      <td>4</td>\n",
       "    </tr>\n",
       "    <tr>\n",
       "      <th>226415</th>\n",
       "      <td>654237</td>\n",
       "      <td>1970-01-01</td>\n",
       "      <td>CC</td>\n",
       "      <td>181777</td>\n",
       "      <td>C</td>\n",
       "      <td>2020-04-27</td>\n",
       "      <td>1</td>\n",
       "      <td>BF</td>\n",
       "      <td>Monday</td>\n",
       "      <td>4</td>\n",
       "    </tr>\n",
       "    <tr>\n",
       "      <th>226042</th>\n",
       "      <td>1552374</td>\n",
       "      <td>1970-01-01</td>\n",
       "      <td>CC</td>\n",
       "      <td>28018</td>\n",
       "      <td>C</td>\n",
       "      <td>2020-04-26</td>\n",
       "      <td>1</td>\n",
       "      <td>JRR</td>\n",
       "      <td>Sunday</td>\n",
       "      <td>4</td>\n",
       "    </tr>\n",
       "    <tr>\n",
       "      <th>...</th>\n",
       "      <td>...</td>\n",
       "      <td>...</td>\n",
       "      <td>...</td>\n",
       "      <td>...</td>\n",
       "      <td>...</td>\n",
       "      <td>...</td>\n",
       "      <td>...</td>\n",
       "      <td>...</td>\n",
       "      <td>...</td>\n",
       "      <td>...</td>\n",
       "    </tr>\n",
       "    <tr>\n",
       "      <th>879214</th>\n",
       "      <td>1829871</td>\n",
       "      <td>2020-12-31</td>\n",
       "      <td>AA</td>\n",
       "      <td>223058</td>\n",
       "      <td>B</td>\n",
       "      <td>2020-12-31</td>\n",
       "      <td>1</td>\n",
       "      <td>BF</td>\n",
       "      <td>Thursday</td>\n",
       "      <td>12</td>\n",
       "    </tr>\n",
       "    <tr>\n",
       "      <th>879213</th>\n",
       "      <td>1829862</td>\n",
       "      <td>2020-12-31</td>\n",
       "      <td>AA</td>\n",
       "      <td>109877</td>\n",
       "      <td>C</td>\n",
       "      <td>2020-12-31</td>\n",
       "      <td>1</td>\n",
       "      <td>GN</td>\n",
       "      <td>Thursday</td>\n",
       "      <td>12</td>\n",
       "    </tr>\n",
       "    <tr>\n",
       "      <th>879212</th>\n",
       "      <td>1829858</td>\n",
       "      <td>2020-12-31</td>\n",
       "      <td>AA</td>\n",
       "      <td>173268</td>\n",
       "      <td>A</td>\n",
       "      <td>2020-12-31</td>\n",
       "      <td>1</td>\n",
       "      <td>J</td>\n",
       "      <td>Thursday</td>\n",
       "      <td>12</td>\n",
       "    </tr>\n",
       "    <tr>\n",
       "      <th>879230</th>\n",
       "      <td>1829959</td>\n",
       "      <td>2020-12-31</td>\n",
       "      <td>BB</td>\n",
       "      <td>230814</td>\n",
       "      <td>A</td>\n",
       "      <td>2020-12-31</td>\n",
       "      <td>1</td>\n",
       "      <td>MP</td>\n",
       "      <td>Thursday</td>\n",
       "      <td>12</td>\n",
       "    </tr>\n",
       "    <tr>\n",
       "      <th>879270</th>\n",
       "      <td>1830598</td>\n",
       "      <td>2020-12-31</td>\n",
       "      <td>AA</td>\n",
       "      <td>220959</td>\n",
       "      <td>B</td>\n",
       "      <td>2020-12-31</td>\n",
       "      <td>1</td>\n",
       "      <td>SC</td>\n",
       "      <td>Thursday</td>\n",
       "      <td>12</td>\n",
       "    </tr>\n",
       "  </tbody>\n",
       "</table>\n",
       "<p>879271 rows × 10 columns</p>\n",
       "</div>"
      ],
      "text/plain": [
       "        USER_ID  JOIN_DATE D_TYPE STORE_ID GOODS_TYPE       DATE  COUNT  AD1  \\\n",
       "176320  1071641 1970-01-01     CC   221045          A 2020-04-03      1   GN   \n",
       "625539  1686813 1970-01-01     CC   223023          A 2020-10-02      1   YD   \n",
       "226658   859401 1970-01-01     CC   102276          B 2020-04-27      1   SC   \n",
       "226415   654237 1970-01-01     CC   181777          C 2020-04-27      1   BF   \n",
       "226042  1552374 1970-01-01     CC    28018          C 2020-04-26      1  JRR   \n",
       "...         ...        ...    ...      ...        ...        ...    ...  ...   \n",
       "879214  1829871 2020-12-31     AA   223058          B 2020-12-31      1   BF   \n",
       "879213  1829862 2020-12-31     AA   109877          C 2020-12-31      1   GN   \n",
       "879212  1829858 2020-12-31     AA   173268          A 2020-12-31      1    J   \n",
       "879230  1829959 2020-12-31     BB   230814          A 2020-12-31      1   MP   \n",
       "879270  1830598 2020-12-31     AA   220959          B 2020-12-31      1   SC   \n",
       "\n",
       "              요일   월  \n",
       "176320    Friday   4  \n",
       "625539    Friday  10  \n",
       "226658    Monday   4  \n",
       "226415    Monday   4  \n",
       "226042    Sunday   4  \n",
       "...          ...  ..  \n",
       "879214  Thursday  12  \n",
       "879213  Thursday  12  \n",
       "879212  Thursday  12  \n",
       "879230  Thursday  12  \n",
       "879270  Thursday  12  \n",
       "\n",
       "[879271 rows x 10 columns]"
      ]
     },
     "execution_count": 10,
     "metadata": {},
     "output_type": "execute_result"
    }
   ],
   "source": [
    "df.sort_values('JOIN_DATE')"
   ]
  },
  {
   "cell_type": "code",
   "execution_count": 25,
   "metadata": {},
   "outputs": [
    {
     "name": "stdout",
     "output_type": "stream",
     "text": [
      "<class 'pandas.core.frame.DataFrame'>\n",
      "RangeIndex: 879271 entries, 0 to 879270\n",
      "Data columns (total 10 columns):\n",
      " #   Column      Non-Null Count   Dtype         \n",
      "---  ------      --------------   -----         \n",
      " 0   USER_ID     879271 non-null  object        \n",
      " 1   JOIN_DATE   879271 non-null  datetime64[ns]\n",
      " 2   D_TYPE      879271 non-null  object        \n",
      " 3   STORE_ID    879271 non-null  object        \n",
      " 4   GOODS_TYPE  879271 non-null  object        \n",
      " 5   DATE        879271 non-null  datetime64[ns]\n",
      " 6   COUNT       879271 non-null  int64         \n",
      " 7   AD1         879271 non-null  object        \n",
      " 8   요일          879271 non-null  object        \n",
      " 9   월           879271 non-null  int64         \n",
      "dtypes: datetime64[ns](2), int64(2), object(6)\n",
      "memory usage: 67.1+ MB\n"
     ]
    }
   ],
   "source": [
    "df.info()"
   ]
  },
  {
   "cell_type": "code",
   "execution_count": 12,
   "metadata": {},
   "outputs": [],
   "source": [
    "df['월'] = df['월'].astype(str)\n",
    "df['월'] = df['월'].str.zfill(2)"
   ]
  },
  {
   "cell_type": "code",
   "execution_count": 27,
   "metadata": {},
   "outputs": [
    {
     "data": {
      "text/html": [
       "<div>\n",
       "<style scoped>\n",
       "    .dataframe tbody tr th:only-of-type {\n",
       "        vertical-align: middle;\n",
       "    }\n",
       "\n",
       "    .dataframe tbody tr th {\n",
       "        vertical-align: top;\n",
       "    }\n",
       "\n",
       "    .dataframe thead th {\n",
       "        text-align: right;\n",
       "    }\n",
       "</style>\n",
       "<table border=\"1\" class=\"dataframe\">\n",
       "  <thead>\n",
       "    <tr style=\"text-align: right;\">\n",
       "      <th></th>\n",
       "      <th></th>\n",
       "      <th>COUNT</th>\n",
       "    </tr>\n",
       "    <tr>\n",
       "      <th>USER_ID</th>\n",
       "      <th>D_TYPE</th>\n",
       "      <th></th>\n",
       "    </tr>\n",
       "  </thead>\n",
       "  <tbody>\n",
       "    <tr>\n",
       "      <th>1000024</th>\n",
       "      <th>AA</th>\n",
       "      <td>1</td>\n",
       "    </tr>\n",
       "    <tr>\n",
       "      <th>1000036</th>\n",
       "      <th>AA</th>\n",
       "      <td>3</td>\n",
       "    </tr>\n",
       "    <tr>\n",
       "      <th>1000100</th>\n",
       "      <th>BB</th>\n",
       "      <td>2</td>\n",
       "    </tr>\n",
       "    <tr>\n",
       "      <th>1000108</th>\n",
       "      <th>AA</th>\n",
       "      <td>3</td>\n",
       "    </tr>\n",
       "    <tr>\n",
       "      <th>1000111</th>\n",
       "      <th>BB</th>\n",
       "      <td>3</td>\n",
       "    </tr>\n",
       "    <tr>\n",
       "      <th>...</th>\n",
       "      <th>...</th>\n",
       "      <td>...</td>\n",
       "    </tr>\n",
       "    <tr>\n",
       "      <th>999911</th>\n",
       "      <th>BB</th>\n",
       "      <td>4</td>\n",
       "    </tr>\n",
       "    <tr>\n",
       "      <th>999916</th>\n",
       "      <th>AA</th>\n",
       "      <td>6</td>\n",
       "    </tr>\n",
       "    <tr>\n",
       "      <th>999932</th>\n",
       "      <th>AA</th>\n",
       "      <td>1</td>\n",
       "    </tr>\n",
       "    <tr>\n",
       "      <th>999933</th>\n",
       "      <th>BB</th>\n",
       "      <td>1</td>\n",
       "    </tr>\n",
       "    <tr>\n",
       "      <th>999993</th>\n",
       "      <th>AA</th>\n",
       "      <td>4</td>\n",
       "    </tr>\n",
       "  </tbody>\n",
       "</table>\n",
       "<p>165425 rows × 1 columns</p>\n",
       "</div>"
      ],
      "text/plain": [
       "                COUNT\n",
       "USER_ID D_TYPE       \n",
       "1000024 AA          1\n",
       "1000036 AA          3\n",
       "1000100 BB          2\n",
       "1000108 AA          3\n",
       "1000111 BB          3\n",
       "...               ...\n",
       "999911  BB          4\n",
       "999916  AA          6\n",
       "999932  AA          1\n",
       "999933  BB          1\n",
       "999993  AA          4\n",
       "\n",
       "[165425 rows x 1 columns]"
      ]
     },
     "execution_count": 27,
     "metadata": {},
     "output_type": "execute_result"
    }
   ],
   "source": [
    "df.groupby(['USER_ID','D_TYPE'])[['COUNT']].sum()"
   ]
  },
  {
   "cell_type": "markdown",
   "metadata": {},
   "source": [
    "- USER_ID별로 D_TYPE은 1개씩 부여됨 (가입시에 부여되는 것으로 보임)"
   ]
  },
  {
   "cell_type": "markdown",
   "metadata": {},
   "source": [
    "### 요일별 결제 건수"
   ]
  },
  {
   "cell_type": "code",
   "execution_count": 28,
   "metadata": {},
   "outputs": [
    {
     "data": {
      "text/plain": [
       "<AxesSubplot:xlabel='요일', ylabel='COUNT'>"
      ]
     },
     "execution_count": 28,
     "metadata": {},
     "output_type": "execute_result"
    },
    {
     "data": {
      "image/png": "[encoded data removed]",
      "text/plain": [
       "<Figure size 720x360 with 1 Axes>"
      ]
     },
     "metadata": {
      "needs_background": "light"
     },
     "output_type": "display_data"
    }
   ],
   "source": [
    "# 요일별 결제 건수\n",
    "plt.figure(figsize=(10,5))\n",
    "sns.barplot(data=df, x='요일', y='COUNT', \n",
    "            order=['Monday','Tuesday','Wednesday','Thursday','Friday','Saturday','Sunday'], estimator=sum)"
   ]
  },
  {
   "cell_type": "markdown",
   "metadata": {},
   "source": [
    "- 일요일에 결제 건수가 매우 낮음"
   ]
  },
  {
   "cell_type": "markdown",
   "metadata": {},
   "source": [
    "### 요일별 goods_type별 결제 건수"
   ]
  },
  {
   "cell_type": "code",
   "execution_count": 29,
   "metadata": {},
   "outputs": [
    {
     "data": {
      "text/plain": [
       "<AxesSubplot:xlabel='요일', ylabel='COUNT'>"
      ]
     },
     "execution_count": 29,
     "metadata": {},
     "output_type": "execute_result"
    },
    {
     "data": {
      "image/png": "[encoded data removed]",
      "text/plain": [
       "<Figure size 720x360 with 1 Axes>"
      ]
     },
     "metadata": {
      "needs_background": "light"
     },
     "output_type": "display_data"
    }
   ],
   "source": [
    "# 요일별 goods_type별 결제 건수\n",
    "plt.figure(figsize=(10,5))\n",
    "sns.barplot(data=df, x='요일', y='COUNT',hue='GOODS_TYPE', order=['Monday','Tuesday','Wednesday','Thursday','Friday','Saturday','Sunday'],\n",
    "             hue_order=['A','B','C','D'], estimator=sum)"
   ]
  },
  {
   "cell_type": "markdown",
   "metadata": {},
   "source": [
    "- 주말에는 B TYPE 결제 건수가 급격히 감소\n",
    "- 특히 일요일의 경우 A TYPE도 감소\n",
    "\n",
    "- A 타입: 월~토\n",
    "- B 타입: 월~금 평일\n",
    "- C 타입: 요일별 차이 적음\n",
    "- D 타입: 월~금 평일"
   ]
  },
  {
   "cell_type": "markdown",
   "metadata": {},
   "source": [
    "### 월별 결제 건수\n"
   ]
  },
  {
   "cell_type": "code",
   "execution_count": 30,
   "metadata": {},
   "outputs": [
    {
     "data": {
      "text/plain": [
       "<AxesSubplot:xlabel='월', ylabel='COUNT'>"
      ]
     },
     "execution_count": 30,
     "metadata": {},
     "output_type": "execute_result"
    },
    {
     "data": {
      "image/png": "[encoded data removed]",
      "text/plain": [
       "<Figure size 720x360 with 1 Axes>"
      ]
     },
     "metadata": {
      "needs_background": "light"
     },
     "output_type": "display_data"
    }
   ],
   "source": [
    "# 월별 결제 건수\n",
    "plt.figure(figsize=(10,5))\n",
    "sns.barplot(data=df, x='월', y='COUNT', estimator=sum)"
   ]
  },
  {
   "cell_type": "markdown",
   "metadata": {},
   "source": [
    "- 우상향 하는 모습을 보임\n",
    "- 내년 데이터가 있었으면 좋았을듯함.\n",
    "- 계절적 요인이 있다고 보기는 어려울듯"
   ]
  },
  {
   "cell_type": "markdown",
   "metadata": {},
   "source": [
    "### 월별 goods_type별 평균 구매 \n"
   ]
  },
  {
   "cell_type": "code",
   "execution_count": 31,
   "metadata": {},
   "outputs": [
    {
     "data": {
      "text/plain": [
       "<AxesSubplot:xlabel='월', ylabel='COUNT'>"
      ]
     },
     "execution_count": 31,
     "metadata": {},
     "output_type": "execute_result"
    },
    {
     "data": {
      "image/png": "[encoded data removed]",
      "text/plain": [
       "<Figure size 720x360 with 1 Axes>"
      ]
     },
     "metadata": {
      "needs_background": "light"
     },
     "output_type": "display_data"
    }
   ],
   "source": [
    "# 월별 goods_type별 평균 구매 \n",
    "plt.figure(figsize=(10,5))\n",
    "sns.barplot(data=df, x='월', y='COUNT', hue='GOODS_TYPE',hue_order=['A','B','C','D'])"
   ]
  },
  {
   "cell_type": "markdown",
   "metadata": {},
   "source": [
    "- 평균은 역시나 비슷하다\n",
    "- 월별로 goods type별 결제 건수의 차이를 확인해보는 것이 좋을듯"
   ]
  },
  {
   "cell_type": "code",
   "execution_count": 32,
   "metadata": {},
   "outputs": [
    {
     "data": {
      "text/plain": [
       "1.0290786344596832"
      ]
     },
     "execution_count": 32,
     "metadata": {},
     "output_type": "execute_result"
    }
   ],
   "source": [
    "df['COUNT'].mean()"
   ]
  },
  {
   "cell_type": "code",
   "execution_count": 33,
   "metadata": {},
   "outputs": [
    {
     "data": {
      "text/plain": [
       "J      179383\n",
       "GN     172967\n",
       "JRR    126586\n",
       "SC      75856\n",
       "MP      67819\n",
       "        ...  \n",
       "ADS         1\n",
       "VO          1\n",
       "NW          1\n",
       "GR          1\n",
       "DY          1\n",
       "Name: AD1, Length: 85, dtype: int64"
      ]
     },
     "execution_count": 33,
     "metadata": {},
     "output_type": "execute_result"
    }
   ],
   "source": [
    "df['AD1'].value_counts()"
   ]
  },
  {
   "cell_type": "code",
   "execution_count": 208,
   "metadata": {},
   "outputs": [],
   "source": [
    "order_list = df['AD1'].value_counts().index.to_list()"
   ]
  },
  {
   "cell_type": "markdown",
   "metadata": {},
   "source": [
    "- AD1의 값들은 대한민국의 구 이름으로 보임"
   ]
  },
  {
   "cell_type": "markdown",
   "metadata": {},
   "source": [
    "### 결제 건수 상위 10개 지역\n"
   ]
  },
  {
   "cell_type": "code",
   "execution_count": 223,
   "metadata": {},
   "outputs": [
    {
     "data": {
      "text/plain": [
       "<AxesSubplot:xlabel='AD1', ylabel='COUNT'>"
      ]
     },
     "execution_count": 223,
     "metadata": {},
     "output_type": "execute_result"
    },
    {
     "data": {
      "image/png": "[encoded data removed]",
      "text/plain": [
       "<Figure size 432x288 with 1 Axes>"
      ]
     },
     "metadata": {
      "needs_background": "light"
     },
     "output_type": "display_data"
    }
   ],
   "source": [
    "# 결제 건수 상위 10개 지역\n",
    "sns.barplot(data=df, x='AD1', y='COUNT',order=order_list[:10], estimator=sum)"
   ]
  },
  {
   "cell_type": "markdown",
   "metadata": {},
   "source": [
    "###  월별 요일별 지역별 결제 건수"
   ]
  },
  {
   "cell_type": "code",
   "execution_count": 36,
   "metadata": {},
   "outputs": [
    {
     "data": {
      "text/html": [
       "<div>\n",
       "<style scoped>\n",
       "    .dataframe tbody tr th:only-of-type {\n",
       "        vertical-align: middle;\n",
       "    }\n",
       "\n",
       "    .dataframe tbody tr th {\n",
       "        vertical-align: top;\n",
       "    }\n",
       "\n",
       "    .dataframe thead th {\n",
       "        text-align: right;\n",
       "    }\n",
       "</style>\n",
       "<table border=\"1\" class=\"dataframe\">\n",
       "  <thead>\n",
       "    <tr style=\"text-align: right;\">\n",
       "      <th></th>\n",
       "      <th></th>\n",
       "      <th></th>\n",
       "      <th>COUNT</th>\n",
       "    </tr>\n",
       "    <tr>\n",
       "      <th>월</th>\n",
       "      <th>요일</th>\n",
       "      <th>AD1</th>\n",
       "      <th></th>\n",
       "    </tr>\n",
       "  </thead>\n",
       "  <tbody>\n",
       "    <tr>\n",
       "      <th rowspan=\"5\" valign=\"top\">01</th>\n",
       "      <th rowspan=\"5\" valign=\"top\">Friday</th>\n",
       "      <th>J</th>\n",
       "      <td>1747</td>\n",
       "    </tr>\n",
       "    <tr>\n",
       "      <th>GN</th>\n",
       "      <td>1716</td>\n",
       "    </tr>\n",
       "    <tr>\n",
       "      <th>JRR</th>\n",
       "      <td>1529</td>\n",
       "    </tr>\n",
       "    <tr>\n",
       "      <th>MP</th>\n",
       "      <td>905</td>\n",
       "    </tr>\n",
       "    <tr>\n",
       "      <th>SC</th>\n",
       "      <td>894</td>\n",
       "    </tr>\n",
       "    <tr>\n",
       "      <th>...</th>\n",
       "      <th>...</th>\n",
       "      <th>...</th>\n",
       "      <td>...</td>\n",
       "    </tr>\n",
       "    <tr>\n",
       "      <th rowspan=\"5\" valign=\"top\">12</th>\n",
       "      <th rowspan=\"5\" valign=\"top\">Wednesday</th>\n",
       "      <th>CAS</th>\n",
       "      <td>1</td>\n",
       "    </tr>\n",
       "    <tr>\n",
       "      <th>CVB</th>\n",
       "      <td>1</td>\n",
       "    </tr>\n",
       "    <tr>\n",
       "      <th>DOI</th>\n",
       "      <td>1</td>\n",
       "    </tr>\n",
       "    <tr>\n",
       "      <th>VU</th>\n",
       "      <td>1</td>\n",
       "    </tr>\n",
       "    <tr>\n",
       "      <th>WH</th>\n",
       "      <td>1</td>\n",
       "    </tr>\n",
       "  </tbody>\n",
       "</table>\n",
       "<p>4371 rows × 1 columns</p>\n",
       "</div>"
      ],
      "text/plain": [
       "                  COUNT\n",
       "월  요일        AD1       \n",
       "01 Friday    J     1747\n",
       "             GN    1716\n",
       "             JRR   1529\n",
       "             MP     905\n",
       "             SC     894\n",
       "...                 ...\n",
       "12 Wednesday CAS      1\n",
       "             CVB      1\n",
       "             DOI      1\n",
       "             VU       1\n",
       "             WH       1\n",
       "\n",
       "[4371 rows x 1 columns]"
      ]
     },
     "execution_count": 36,
     "metadata": {},
     "output_type": "execute_result"
    }
   ],
   "source": [
    "# 월별 요일별 지역별 결제 건수\n",
    "df.groupby(['월','요일','AD1'])[['COUNT']].sum().sort_values(['월','요일','COUNT'], ascending=[True, True, False])"
   ]
  },
  {
   "cell_type": "code",
   "execution_count": 37,
   "metadata": {},
   "outputs": [
    {
     "data": {
      "text/html": [
       "<div>\n",
       "<style scoped>\n",
       "    .dataframe tbody tr th:only-of-type {\n",
       "        vertical-align: middle;\n",
       "    }\n",
       "\n",
       "    .dataframe tbody tr th {\n",
       "        vertical-align: top;\n",
       "    }\n",
       "\n",
       "    .dataframe thead th {\n",
       "        text-align: right;\n",
       "    }\n",
       "</style>\n",
       "<table border=\"1\" class=\"dataframe\">\n",
       "  <thead>\n",
       "    <tr style=\"text-align: right;\">\n",
       "      <th></th>\n",
       "      <th>월</th>\n",
       "      <th>요일</th>\n",
       "      <th>AD1</th>\n",
       "      <th>COUNT</th>\n",
       "    </tr>\n",
       "  </thead>\n",
       "  <tbody>\n",
       "    <tr>\n",
       "      <th>0</th>\n",
       "      <td>01</td>\n",
       "      <td>Friday</td>\n",
       "      <td>J</td>\n",
       "      <td>1747</td>\n",
       "    </tr>\n",
       "    <tr>\n",
       "      <th>1</th>\n",
       "      <td>01</td>\n",
       "      <td>Friday</td>\n",
       "      <td>GN</td>\n",
       "      <td>1716</td>\n",
       "    </tr>\n",
       "    <tr>\n",
       "      <th>2</th>\n",
       "      <td>01</td>\n",
       "      <td>Friday</td>\n",
       "      <td>JRR</td>\n",
       "      <td>1529</td>\n",
       "    </tr>\n",
       "    <tr>\n",
       "      <th>3</th>\n",
       "      <td>01</td>\n",
       "      <td>Friday</td>\n",
       "      <td>MP</td>\n",
       "      <td>905</td>\n",
       "    </tr>\n",
       "    <tr>\n",
       "      <th>4</th>\n",
       "      <td>01</td>\n",
       "      <td>Friday</td>\n",
       "      <td>SC</td>\n",
       "      <td>894</td>\n",
       "    </tr>\n",
       "    <tr>\n",
       "      <th>...</th>\n",
       "      <td>...</td>\n",
       "      <td>...</td>\n",
       "      <td>...</td>\n",
       "      <td>...</td>\n",
       "    </tr>\n",
       "    <tr>\n",
       "      <th>4366</th>\n",
       "      <td>12</td>\n",
       "      <td>Wednesday</td>\n",
       "      <td>CAS</td>\n",
       "      <td>1</td>\n",
       "    </tr>\n",
       "    <tr>\n",
       "      <th>4367</th>\n",
       "      <td>12</td>\n",
       "      <td>Wednesday</td>\n",
       "      <td>CVB</td>\n",
       "      <td>1</td>\n",
       "    </tr>\n",
       "    <tr>\n",
       "      <th>4368</th>\n",
       "      <td>12</td>\n",
       "      <td>Wednesday</td>\n",
       "      <td>DOI</td>\n",
       "      <td>1</td>\n",
       "    </tr>\n",
       "    <tr>\n",
       "      <th>4369</th>\n",
       "      <td>12</td>\n",
       "      <td>Wednesday</td>\n",
       "      <td>VU</td>\n",
       "      <td>1</td>\n",
       "    </tr>\n",
       "    <tr>\n",
       "      <th>4370</th>\n",
       "      <td>12</td>\n",
       "      <td>Wednesday</td>\n",
       "      <td>WH</td>\n",
       "      <td>1</td>\n",
       "    </tr>\n",
       "  </tbody>\n",
       "</table>\n",
       "<p>4371 rows × 4 columns</p>\n",
       "</div>"
      ],
      "text/plain": [
       "       월         요일  AD1  COUNT\n",
       "0     01     Friday    J   1747\n",
       "1     01     Friday   GN   1716\n",
       "2     01     Friday  JRR   1529\n",
       "3     01     Friday   MP    905\n",
       "4     01     Friday   SC    894\n",
       "...   ..        ...  ...    ...\n",
       "4366  12  Wednesday  CAS      1\n",
       "4367  12  Wednesday  CVB      1\n",
       "4368  12  Wednesday  DOI      1\n",
       "4369  12  Wednesday   VU      1\n",
       "4370  12  Wednesday   WH      1\n",
       "\n",
       "[4371 rows x 4 columns]"
      ]
     },
     "execution_count": 37,
     "metadata": {},
     "output_type": "execute_result"
    }
   ],
   "source": [
    "grouped = df.groupby(['월','요일','AD1'])[['COUNT']].sum().sort_values(['월','요일','COUNT'], ascending=[True, True, False]).reset_index()\n",
    "grouped"
   ]
  },
  {
   "cell_type": "markdown",
   "metadata": {},
   "source": [
    "### 월별 요일별 top5 지역"
   ]
  },
  {
   "cell_type": "code",
   "execution_count": 38,
   "metadata": {},
   "outputs": [
    {
     "data": {
      "text/html": [
       "<div>\n",
       "<style scoped>\n",
       "    .dataframe tbody tr th:only-of-type {\n",
       "        vertical-align: middle;\n",
       "    }\n",
       "\n",
       "    .dataframe tbody tr th {\n",
       "        vertical-align: top;\n",
       "    }\n",
       "\n",
       "    .dataframe thead th {\n",
       "        text-align: right;\n",
       "    }\n",
       "</style>\n",
       "<table border=\"1\" class=\"dataframe\">\n",
       "  <thead>\n",
       "    <tr style=\"text-align: right;\">\n",
       "      <th></th>\n",
       "      <th>월</th>\n",
       "      <th>요일</th>\n",
       "      <th>AD1</th>\n",
       "      <th>COUNT</th>\n",
       "    </tr>\n",
       "  </thead>\n",
       "  <tbody>\n",
       "    <tr>\n",
       "      <th>0</th>\n",
       "      <td>01</td>\n",
       "      <td>Friday</td>\n",
       "      <td>J</td>\n",
       "      <td>1747</td>\n",
       "    </tr>\n",
       "    <tr>\n",
       "      <th>1</th>\n",
       "      <td>01</td>\n",
       "      <td>Friday</td>\n",
       "      <td>GN</td>\n",
       "      <td>1716</td>\n",
       "    </tr>\n",
       "    <tr>\n",
       "      <th>2</th>\n",
       "      <td>01</td>\n",
       "      <td>Friday</td>\n",
       "      <td>JRR</td>\n",
       "      <td>1529</td>\n",
       "    </tr>\n",
       "    <tr>\n",
       "      <th>3</th>\n",
       "      <td>01</td>\n",
       "      <td>Friday</td>\n",
       "      <td>MP</td>\n",
       "      <td>905</td>\n",
       "    </tr>\n",
       "    <tr>\n",
       "      <th>4</th>\n",
       "      <td>01</td>\n",
       "      <td>Friday</td>\n",
       "      <td>SC</td>\n",
       "      <td>894</td>\n",
       "    </tr>\n",
       "    <tr>\n",
       "      <th>...</th>\n",
       "      <td>...</td>\n",
       "      <td>...</td>\n",
       "      <td>...</td>\n",
       "      <td>...</td>\n",
       "    </tr>\n",
       "    <tr>\n",
       "      <th>4312</th>\n",
       "      <td>12</td>\n",
       "      <td>Wednesday</td>\n",
       "      <td>J</td>\n",
       "      <td>3521</td>\n",
       "    </tr>\n",
       "    <tr>\n",
       "      <th>4313</th>\n",
       "      <td>12</td>\n",
       "      <td>Wednesday</td>\n",
       "      <td>GN</td>\n",
       "      <td>2636</td>\n",
       "    </tr>\n",
       "    <tr>\n",
       "      <th>4314</th>\n",
       "      <td>12</td>\n",
       "      <td>Wednesday</td>\n",
       "      <td>JRR</td>\n",
       "      <td>2272</td>\n",
       "    </tr>\n",
       "    <tr>\n",
       "      <th>4315</th>\n",
       "      <td>12</td>\n",
       "      <td>Wednesday</td>\n",
       "      <td>SC</td>\n",
       "      <td>1091</td>\n",
       "    </tr>\n",
       "    <tr>\n",
       "      <th>4316</th>\n",
       "      <td>12</td>\n",
       "      <td>Wednesday</td>\n",
       "      <td>YD</td>\n",
       "      <td>904</td>\n",
       "    </tr>\n",
       "  </tbody>\n",
       "</table>\n",
       "<p>420 rows × 4 columns</p>\n",
       "</div>"
      ],
      "text/plain": [
       "       월         요일  AD1  COUNT\n",
       "0     01     Friday    J   1747\n",
       "1     01     Friday   GN   1716\n",
       "2     01     Friday  JRR   1529\n",
       "3     01     Friday   MP    905\n",
       "4     01     Friday   SC    894\n",
       "...   ..        ...  ...    ...\n",
       "4312  12  Wednesday    J   3521\n",
       "4313  12  Wednesday   GN   2636\n",
       "4314  12  Wednesday  JRR   2272\n",
       "4315  12  Wednesday   SC   1091\n",
       "4316  12  Wednesday   YD    904\n",
       "\n",
       "[420 rows x 4 columns]"
      ]
     },
     "execution_count": 38,
     "metadata": {},
     "output_type": "execute_result"
    }
   ],
   "source": [
    "# 월별 요일별 top5 지역\n",
    "top_5 = grouped.groupby(['월','요일']).head(5)\n",
    "top_5"
   ]
  },
  {
   "cell_type": "code",
   "execution_count": 39,
   "metadata": {},
   "outputs": [],
   "source": [
    "월_list = top_5['월'].unique().tolist()"
   ]
  },
  {
   "cell_type": "markdown",
   "metadata": {},
   "source": [
    "### 월별 요일별 지역별 결제 건수"
   ]
  },
  {
   "cell_type": "code",
   "execution_count": 40,
   "metadata": {
    "scrolled": false
   },
   "outputs": [
    {
     "data": {
      "image/png": "[encoded data removed]",
      "text/plain": [
       "<Figure size 720x360 with 1 Axes>"
      ]
     },
     "metadata": {
      "needs_background": "light"
     },
     "output_type": "display_data"
    },
    {
     "data": {
      "image/png": "[encoded data removed]",
      "text/plain": [
       "<Figure size 720x360 with 1 Axes>"
      ]
     },
     "metadata": {
      "needs_background": "light"
     },
     "output_type": "display_data"
    },
    {
     "data": {
      "image/png": "[encoded data removed]",
      "text/plain": [
       "<Figure size 720x360 with 1 Axes>"
      ]
     },
     "metadata": {
      "needs_background": "light"
     },
     "output_type": "display_data"
    },
    {
     "data": {
      "image/png": "[encoded data removed]",
      "text/plain": [
       "<Figure size 720x360 with 1 Axes>"
      ]
     },
     "metadata": {
      "needs_background": "light"
     },
     "output_type": "display_data"
    },
    {
     "data": {
      "image/png": "[encoded data removed]",
      "text/plain": [
       "<Figure size 720x360 with 1 Axes>"
      ]
     },
     "metadata": {
      "needs_background": "light"
     },
     "output_type": "display_data"
    },
    {
     "data": {
      "image/png": "[encoded data removed]",
      "text/plain": [
       "<Figure size 720x360 with 1 Axes>"
      ]
     },
     "metadata": {
      "needs_background": "light"
     },
     "output_type": "display_data"
    },
    {
     "data": {
      "image/png": "[encoded data removed]",
      "text/plain": [
       "<Figure size 720x360 with 1 Axes>"
      ]
     },
     "metadata": {
      "needs_background": "light"
     },
     "output_type": "display_data"
    },
    {
     "data": {
      "image/png": "[encoded data removed]",
      "text/plain": [
       "<Figure size 720x360 with 1 Axes>"
      ]
     },
     "metadata": {
      "needs_background": "light"
     },
     "output_type": "display_data"
    },
    {
     "data": {
      "image/png": "[encoded data removed]",
      "text/plain": [
       "<Figure size 720x360 with 1 Axes>"
      ]
     },
     "metadata": {
      "needs_background": "light"
     },
     "output_type": "display_data"
    },
    {
     "data": {
      "image/png": "[encoded data removed]",
      "text/plain": [
       "<Figure size 720x360 with 1 Axes>"
      ]
     },
     "metadata": {
      "needs_background": "light"
     },
     "output_type": "display_data"
    },
    {
     "data": {
      "image/png": "[encoded data removed]",
      "text/plain": [
       "<Figure size 720x360 with 1 Axes>"
      ]
     },
     "metadata": {
      "needs_background": "light"
     },
     "output_type": "display_data"
    },
    {
     "data": {
      "image/png": "[encoded data removed]",
      "text/plain": [
       "<Figure size 720x360 with 1 Axes>"
      ]
     },
     "metadata": {
      "needs_background": "light"
     },
     "output_type": "display_data"
    }
   ],
   "source": [
    "# 월별 요일별 지역별 결제 건수\n",
    "\n",
    "for 월 in 월_list:\n",
    "    plt.figure(figsize=(10,5))\n",
    "    sns.barplot(data=top_5[top_5['월']==월], x='요일', y='COUNT', hue='AD1',\n",
    "               order=['Monday','Tuesday','Wednesday','Thursday','Friday','Saturday','Sunday'])\n",
    "    plt.title(월 +'월')"
   ]
  },
  {
   "cell_type": "markdown",
   "metadata": {},
   "source": [
    "### 요일별 지역별 결제 건수"
   ]
  },
  {
   "cell_type": "code",
   "execution_count": 50,
   "metadata": {},
   "outputs": [
    {
     "data": {
      "text/plain": [
       "<AxesSubplot:xlabel='요일', ylabel='COUNT'>"
      ]
     },
     "execution_count": 50,
     "metadata": {},
     "output_type": "execute_result"
    },
    {
     "data": {
      "image/png": "[encoded data removed]",
      "text/plain": [
       "<Figure size 720x360 with 1 Axes>"
      ]
     },
     "metadata": {
      "needs_background": "light"
     },
     "output_type": "display_data"
    }
   ],
   "source": [
    "# 요일별 지역별 결제 건수\n",
    "plt.figure(figsize=(10,5))\n",
    "sns.barplot(data=top_5, x='요일', y='COUNT', hue='AD1', estimator=sum,\n",
    "           order=['Monday','Tuesday','Wednesday','Thursday','Friday','Saturday','Sunday'])"
   ]
  },
  {
   "cell_type": "markdown",
   "metadata": {},
   "source": [
    "### 결제 횟수별로 user의 등급을 나눠보자"
   ]
  },
  {
   "cell_type": "code",
   "execution_count": 25,
   "metadata": {},
   "outputs": [
    {
     "data": {
      "text/html": [
       "<div>\n",
       "<style scoped>\n",
       "    .dataframe tbody tr th:only-of-type {\n",
       "        vertical-align: middle;\n",
       "    }\n",
       "\n",
       "    .dataframe tbody tr th {\n",
       "        vertical-align: top;\n",
       "    }\n",
       "\n",
       "    .dataframe thead th {\n",
       "        text-align: right;\n",
       "    }\n",
       "</style>\n",
       "<table border=\"1\" class=\"dataframe\">\n",
       "  <thead>\n",
       "    <tr style=\"text-align: right;\">\n",
       "      <th></th>\n",
       "      <th>USER_ID</th>\n",
       "      <th>COUNT</th>\n",
       "    </tr>\n",
       "  </thead>\n",
       "  <tbody>\n",
       "    <tr>\n",
       "      <th>0</th>\n",
       "      <td>1000024</td>\n",
       "      <td>1</td>\n",
       "    </tr>\n",
       "    <tr>\n",
       "      <th>1</th>\n",
       "      <td>1000036</td>\n",
       "      <td>3</td>\n",
       "    </tr>\n",
       "    <tr>\n",
       "      <th>2</th>\n",
       "      <td>1000100</td>\n",
       "      <td>2</td>\n",
       "    </tr>\n",
       "    <tr>\n",
       "      <th>3</th>\n",
       "      <td>1000108</td>\n",
       "      <td>3</td>\n",
       "    </tr>\n",
       "    <tr>\n",
       "      <th>4</th>\n",
       "      <td>1000111</td>\n",
       "      <td>3</td>\n",
       "    </tr>\n",
       "    <tr>\n",
       "      <th>...</th>\n",
       "      <td>...</td>\n",
       "      <td>...</td>\n",
       "    </tr>\n",
       "    <tr>\n",
       "      <th>165420</th>\n",
       "      <td>999911</td>\n",
       "      <td>4</td>\n",
       "    </tr>\n",
       "    <tr>\n",
       "      <th>165421</th>\n",
       "      <td>999916</td>\n",
       "      <td>6</td>\n",
       "    </tr>\n",
       "    <tr>\n",
       "      <th>165422</th>\n",
       "      <td>999932</td>\n",
       "      <td>1</td>\n",
       "    </tr>\n",
       "    <tr>\n",
       "      <th>165423</th>\n",
       "      <td>999933</td>\n",
       "      <td>1</td>\n",
       "    </tr>\n",
       "    <tr>\n",
       "      <th>165424</th>\n",
       "      <td>999993</td>\n",
       "      <td>4</td>\n",
       "    </tr>\n",
       "  </tbody>\n",
       "</table>\n",
       "<p>165425 rows × 2 columns</p>\n",
       "</div>"
      ],
      "text/plain": [
       "        USER_ID  COUNT\n",
       "0       1000024      1\n",
       "1       1000036      3\n",
       "2       1000100      2\n",
       "3       1000108      3\n",
       "4       1000111      3\n",
       "...         ...    ...\n",
       "165420   999911      4\n",
       "165421   999916      6\n",
       "165422   999932      1\n",
       "165423   999933      1\n",
       "165424   999993      4\n",
       "\n",
       "[165425 rows x 2 columns]"
      ]
     },
     "execution_count": 25,
     "metadata": {},
     "output_type": "execute_result"
    }
   ],
   "source": [
    "user별_결제횟수 = df.groupby('USER_ID')[['COUNT']].sum().reset_index()\n",
    "user별_결제횟수"
   ]
  },
  {
   "cell_type": "code",
   "execution_count": 129,
   "metadata": {},
   "outputs": [
    {
     "data": {
      "text/html": [
       "<div>\n",
       "<style scoped>\n",
       "    .dataframe tbody tr th:only-of-type {\n",
       "        vertical-align: middle;\n",
       "    }\n",
       "\n",
       "    .dataframe tbody tr th {\n",
       "        vertical-align: top;\n",
       "    }\n",
       "\n",
       "    .dataframe thead th {\n",
       "        text-align: right;\n",
       "    }\n",
       "</style>\n",
       "<table border=\"1\" class=\"dataframe\">\n",
       "  <thead>\n",
       "    <tr style=\"text-align: right;\">\n",
       "      <th></th>\n",
       "      <th>USER_ID</th>\n",
       "      <th>COUNT</th>\n",
       "    </tr>\n",
       "  </thead>\n",
       "  <tbody>\n",
       "    <tr>\n",
       "      <th>57441</th>\n",
       "      <td>1514190</td>\n",
       "      <td>284</td>\n",
       "    </tr>\n",
       "    <tr>\n",
       "      <th>137064</th>\n",
       "      <td>591610</td>\n",
       "      <td>245</td>\n",
       "    </tr>\n",
       "    <tr>\n",
       "      <th>46821</th>\n",
       "      <td>1467323</td>\n",
       "      <td>239</td>\n",
       "    </tr>\n",
       "    <tr>\n",
       "      <th>32645</th>\n",
       "      <td>1355841</td>\n",
       "      <td>235</td>\n",
       "    </tr>\n",
       "    <tr>\n",
       "      <th>19011</th>\n",
       "      <td>1224426</td>\n",
       "      <td>223</td>\n",
       "    </tr>\n",
       "    <tr>\n",
       "      <th>33627</th>\n",
       "      <td>1365069</td>\n",
       "      <td>222</td>\n",
       "    </tr>\n",
       "    <tr>\n",
       "      <th>38571</th>\n",
       "      <td>1407916</td>\n",
       "      <td>222</td>\n",
       "    </tr>\n",
       "    <tr>\n",
       "      <th>24992</th>\n",
       "      <td>1284291</td>\n",
       "      <td>217</td>\n",
       "    </tr>\n",
       "    <tr>\n",
       "      <th>11523</th>\n",
       "      <td>1144500</td>\n",
       "      <td>213</td>\n",
       "    </tr>\n",
       "    <tr>\n",
       "      <th>158925</th>\n",
       "      <td>909315</td>\n",
       "      <td>209</td>\n",
       "    </tr>\n",
       "    <tr>\n",
       "      <th>55021</th>\n",
       "      <td>1504815</td>\n",
       "      <td>208</td>\n",
       "    </tr>\n",
       "    <tr>\n",
       "      <th>16938</th>\n",
       "      <td>1201981</td>\n",
       "      <td>207</td>\n",
       "    </tr>\n",
       "    <tr>\n",
       "      <th>62113</th>\n",
       "      <td>1532535</td>\n",
       "      <td>201</td>\n",
       "    </tr>\n",
       "    <tr>\n",
       "      <th>138327</th>\n",
       "      <td>612237</td>\n",
       "      <td>201</td>\n",
       "    </tr>\n",
       "    <tr>\n",
       "      <th>135956</th>\n",
       "      <td>571472</td>\n",
       "      <td>201</td>\n",
       "    </tr>\n",
       "    <tr>\n",
       "      <th>140044</th>\n",
       "      <td>640247</td>\n",
       "      <td>200</td>\n",
       "    </tr>\n",
       "    <tr>\n",
       "      <th>28702</th>\n",
       "      <td>1318771</td>\n",
       "      <td>199</td>\n",
       "    </tr>\n",
       "    <tr>\n",
       "      <th>137741</th>\n",
       "      <td>603013</td>\n",
       "      <td>199</td>\n",
       "    </tr>\n",
       "    <tr>\n",
       "      <th>27077</th>\n",
       "      <td>1303371</td>\n",
       "      <td>199</td>\n",
       "    </tr>\n",
       "    <tr>\n",
       "      <th>55441</th>\n",
       "      <td>1506306</td>\n",
       "      <td>197</td>\n",
       "    </tr>\n",
       "  </tbody>\n",
       "</table>\n",
       "</div>"
      ],
      "text/plain": [
       "        USER_ID  COUNT\n",
       "57441   1514190    284\n",
       "137064   591610    245\n",
       "46821   1467323    239\n",
       "32645   1355841    235\n",
       "19011   1224426    223\n",
       "33627   1365069    222\n",
       "38571   1407916    222\n",
       "24992   1284291    217\n",
       "11523   1144500    213\n",
       "158925   909315    209\n",
       "55021   1504815    208\n",
       "16938   1201981    207\n",
       "62113   1532535    201\n",
       "138327   612237    201\n",
       "135956   571472    201\n",
       "140044   640247    200\n",
       "28702   1318771    199\n",
       "137741   603013    199\n",
       "27077   1303371    199\n",
       "55441   1506306    197"
      ]
     },
     "execution_count": 129,
     "metadata": {},
     "output_type": "execute_result"
    }
   ],
   "source": [
    "user별_결제횟수.sort_values(by='COUNT',ascending=False)[:20]"
   ]
  },
  {
   "cell_type": "markdown",
   "metadata": {},
   "source": [
    "#### USER_ID 999665는 도대체 뭐하는 사람일까"
   ]
  },
  {
   "cell_type": "code",
   "execution_count": 77,
   "metadata": {},
   "outputs": [
    {
     "data": {
      "text/html": [
       "<div>\n",
       "<style scoped>\n",
       "    .dataframe tbody tr th:only-of-type {\n",
       "        vertical-align: middle;\n",
       "    }\n",
       "\n",
       "    .dataframe tbody tr th {\n",
       "        vertical-align: top;\n",
       "    }\n",
       "\n",
       "    .dataframe thead th {\n",
       "        text-align: right;\n",
       "    }\n",
       "</style>\n",
       "<table border=\"1\" class=\"dataframe\">\n",
       "  <thead>\n",
       "    <tr style=\"text-align: right;\">\n",
       "      <th></th>\n",
       "      <th>USER_ID</th>\n",
       "      <th>JOIN_DATE</th>\n",
       "      <th>D_TYPE</th>\n",
       "      <th>STORE_ID</th>\n",
       "      <th>GOODS_TYPE</th>\n",
       "      <th>DATE</th>\n",
       "      <th>COUNT</th>\n",
       "      <th>AD1</th>\n",
       "      <th>요일</th>\n",
       "      <th>월</th>\n",
       "    </tr>\n",
       "  </thead>\n",
       "  <tbody>\n",
       "    <tr>\n",
       "      <th>372</th>\n",
       "      <td>999665</td>\n",
       "      <td>2018-12-16</td>\n",
       "      <td>CC</td>\n",
       "      <td>82399</td>\n",
       "      <td>A</td>\n",
       "      <td>2020-01-01</td>\n",
       "      <td>6</td>\n",
       "      <td>JRR</td>\n",
       "      <td>Wednesday</td>\n",
       "      <td>01</td>\n",
       "    </tr>\n",
       "    <tr>\n",
       "      <th>1527</th>\n",
       "      <td>999665</td>\n",
       "      <td>2018-12-16</td>\n",
       "      <td>CC</td>\n",
       "      <td>104988</td>\n",
       "      <td>A</td>\n",
       "      <td>2020-01-02</td>\n",
       "      <td>11</td>\n",
       "      <td>GN</td>\n",
       "      <td>Thursday</td>\n",
       "      <td>01</td>\n",
       "    </tr>\n",
       "    <tr>\n",
       "      <th>3121</th>\n",
       "      <td>999665</td>\n",
       "      <td>2018-12-16</td>\n",
       "      <td>CC</td>\n",
       "      <td>181832</td>\n",
       "      <td>A</td>\n",
       "      <td>2020-01-03</td>\n",
       "      <td>7</td>\n",
       "      <td>SC</td>\n",
       "      <td>Friday</td>\n",
       "      <td>01</td>\n",
       "    </tr>\n",
       "    <tr>\n",
       "      <th>5034</th>\n",
       "      <td>999665</td>\n",
       "      <td>2018-12-16</td>\n",
       "      <td>CC</td>\n",
       "      <td>109223</td>\n",
       "      <td>A</td>\n",
       "      <td>2020-01-04</td>\n",
       "      <td>28</td>\n",
       "      <td>MP</td>\n",
       "      <td>Saturday</td>\n",
       "      <td>01</td>\n",
       "    </tr>\n",
       "    <tr>\n",
       "      <th>6919</th>\n",
       "      <td>999665</td>\n",
       "      <td>2018-12-16</td>\n",
       "      <td>CC</td>\n",
       "      <td>104916</td>\n",
       "      <td>A</td>\n",
       "      <td>2020-01-05</td>\n",
       "      <td>14</td>\n",
       "      <td>GN</td>\n",
       "      <td>Sunday</td>\n",
       "      <td>01</td>\n",
       "    </tr>\n",
       "    <tr>\n",
       "      <th>...</th>\n",
       "      <td>...</td>\n",
       "      <td>...</td>\n",
       "      <td>...</td>\n",
       "      <td>...</td>\n",
       "      <td>...</td>\n",
       "      <td>...</td>\n",
       "      <td>...</td>\n",
       "      <td>...</td>\n",
       "      <td>...</td>\n",
       "      <td>...</td>\n",
       "    </tr>\n",
       "    <tr>\n",
       "      <th>867260</th>\n",
       "      <td>999665</td>\n",
       "      <td>2018-12-16</td>\n",
       "      <td>CC</td>\n",
       "      <td>2428</td>\n",
       "      <td>A</td>\n",
       "      <td>2020-12-27</td>\n",
       "      <td>17</td>\n",
       "      <td>CY</td>\n",
       "      <td>Sunday</td>\n",
       "      <td>12</td>\n",
       "    </tr>\n",
       "    <tr>\n",
       "      <th>868847</th>\n",
       "      <td>999665</td>\n",
       "      <td>2018-12-16</td>\n",
       "      <td>CC</td>\n",
       "      <td>109267</td>\n",
       "      <td>A</td>\n",
       "      <td>2020-12-28</td>\n",
       "      <td>24</td>\n",
       "      <td>J</td>\n",
       "      <td>Monday</td>\n",
       "      <td>12</td>\n",
       "    </tr>\n",
       "    <tr>\n",
       "      <th>871562</th>\n",
       "      <td>999665</td>\n",
       "      <td>2018-12-16</td>\n",
       "      <td>CC</td>\n",
       "      <td>90193</td>\n",
       "      <td>C</td>\n",
       "      <td>2020-12-29</td>\n",
       "      <td>23</td>\n",
       "      <td>GW</td>\n",
       "      <td>Tuesday</td>\n",
       "      <td>12</td>\n",
       "    </tr>\n",
       "    <tr>\n",
       "      <th>874317</th>\n",
       "      <td>999665</td>\n",
       "      <td>2018-12-16</td>\n",
       "      <td>CC</td>\n",
       "      <td>220797</td>\n",
       "      <td>D</td>\n",
       "      <td>2020-12-30</td>\n",
       "      <td>40</td>\n",
       "      <td>GS</td>\n",
       "      <td>Wednesday</td>\n",
       "      <td>12</td>\n",
       "    </tr>\n",
       "    <tr>\n",
       "      <th>877120</th>\n",
       "      <td>999665</td>\n",
       "      <td>2018-12-16</td>\n",
       "      <td>CC</td>\n",
       "      <td>220893</td>\n",
       "      <td>A</td>\n",
       "      <td>2020-12-31</td>\n",
       "      <td>42</td>\n",
       "      <td>J</td>\n",
       "      <td>Thursday</td>\n",
       "      <td>12</td>\n",
       "    </tr>\n",
       "  </tbody>\n",
       "</table>\n",
       "<p>366 rows × 10 columns</p>\n",
       "</div>"
      ],
      "text/plain": [
       "       USER_ID  JOIN_DATE D_TYPE STORE_ID GOODS_TYPE       DATE  COUNT  AD1  \\\n",
       "372     999665 2018-12-16     CC    82399          A 2020-01-01      6  JRR   \n",
       "1527    999665 2018-12-16     CC   104988          A 2020-01-02     11   GN   \n",
       "3121    999665 2018-12-16     CC   181832          A 2020-01-03      7   SC   \n",
       "5034    999665 2018-12-16     CC   109223          A 2020-01-04     28   MP   \n",
       "6919    999665 2018-12-16     CC   104916          A 2020-01-05     14   GN   \n",
       "...        ...        ...    ...      ...        ...        ...    ...  ...   \n",
       "867260  999665 2018-12-16     CC     2428          A 2020-12-27     17   CY   \n",
       "868847  999665 2018-12-16     CC   109267          A 2020-12-28     24    J   \n",
       "871562  999665 2018-12-16     CC    90193          C 2020-12-29     23   GW   \n",
       "874317  999665 2018-12-16     CC   220797          D 2020-12-30     40   GS   \n",
       "877120  999665 2018-12-16     CC   220893          A 2020-12-31     42    J   \n",
       "\n",
       "               요일   월  \n",
       "372     Wednesday  01  \n",
       "1527     Thursday  01  \n",
       "3121       Friday  01  \n",
       "5034     Saturday  01  \n",
       "6919       Sunday  01  \n",
       "...           ...  ..  \n",
       "867260     Sunday  12  \n",
       "868847     Monday  12  \n",
       "871562    Tuesday  12  \n",
       "874317  Wednesday  12  \n",
       "877120   Thursday  12  \n",
       "\n",
       "[366 rows x 10 columns]"
      ]
     },
     "execution_count": 77,
     "metadata": {},
     "output_type": "execute_result"
    }
   ],
   "source": [
    "df[df['USER_ID']=='999665']"
   ]
  },
  {
   "cell_type": "code",
   "execution_count": 82,
   "metadata": {},
   "outputs": [
    {
     "data": {
      "text/html": [
       "<div>\n",
       "<style scoped>\n",
       "    .dataframe tbody tr th:only-of-type {\n",
       "        vertical-align: middle;\n",
       "    }\n",
       "\n",
       "    .dataframe tbody tr th {\n",
       "        vertical-align: top;\n",
       "    }\n",
       "\n",
       "    .dataframe thead th {\n",
       "        text-align: right;\n",
       "    }\n",
       "</style>\n",
       "<table border=\"1\" class=\"dataframe\">\n",
       "  <thead>\n",
       "    <tr style=\"text-align: right;\">\n",
       "      <th></th>\n",
       "      <th>COUNT</th>\n",
       "    </tr>\n",
       "  </thead>\n",
       "  <tbody>\n",
       "    <tr>\n",
       "      <th>count</th>\n",
       "      <td>366.000000</td>\n",
       "    </tr>\n",
       "    <tr>\n",
       "      <th>mean</th>\n",
       "      <td>21.636612</td>\n",
       "    </tr>\n",
       "    <tr>\n",
       "      <th>std</th>\n",
       "      <td>11.046188</td>\n",
       "    </tr>\n",
       "    <tr>\n",
       "      <th>min</th>\n",
       "      <td>3.000000</td>\n",
       "    </tr>\n",
       "    <tr>\n",
       "      <th>25%</th>\n",
       "      <td>13.000000</td>\n",
       "    </tr>\n",
       "    <tr>\n",
       "      <th>50%</th>\n",
       "      <td>19.000000</td>\n",
       "    </tr>\n",
       "    <tr>\n",
       "      <th>75%</th>\n",
       "      <td>28.000000</td>\n",
       "    </tr>\n",
       "    <tr>\n",
       "      <th>max</th>\n",
       "      <td>61.000000</td>\n",
       "    </tr>\n",
       "  </tbody>\n",
       "</table>\n",
       "</div>"
      ],
      "text/plain": [
       "            COUNT\n",
       "count  366.000000\n",
       "mean    21.636612\n",
       "std     11.046188\n",
       "min      3.000000\n",
       "25%     13.000000\n",
       "50%     19.000000\n",
       "75%     28.000000\n",
       "max     61.000000"
      ]
     },
     "execution_count": 82,
     "metadata": {},
     "output_type": "execute_result"
    }
   ],
   "source": [
    "df[df['USER_ID']=='999665'].describe()"
   ]
  },
  {
   "cell_type": "markdown",
   "metadata": {},
   "source": [
    "- 매일 매일 결제를 했으며 일 평균 21회 결제했고, 하루 최소 3번, 최대 61번 결제했음.\n",
    "- 이상치로 판단되니 drop하자"
   ]
  },
  {
   "cell_type": "code",
   "execution_count": 83,
   "metadata": {},
   "outputs": [],
   "source": [
    "df = df[df['USER_ID']!='999665']"
   ]
  },
  {
   "cell_type": "code",
   "execution_count": 85,
   "metadata": {},
   "outputs": [],
   "source": [
    "user별_결제횟수 = user별_결제횟수[user별_결제횟수['USER_ID']!='999665']"
   ]
  },
  {
   "cell_type": "code",
   "execution_count": 95,
   "metadata": {},
   "outputs": [
    {
     "data": {
      "text/plain": [
       "0         (0.717, 29.3]\n",
       "1         (0.717, 29.3]\n",
       "2         (0.717, 29.3]\n",
       "3         (0.717, 29.3]\n",
       "4         (0.717, 29.3]\n",
       "              ...      \n",
       "165420    (0.717, 29.3]\n",
       "165421    (0.717, 29.3]\n",
       "165422    (0.717, 29.3]\n",
       "165423    (0.717, 29.3]\n",
       "165424    (0.717, 29.3]\n",
       "Name: COUNT, Length: 165424, dtype: category\n",
       "Categories (10, interval[float64]): [(0.717, 29.3] < (29.3, 57.6] < (57.6, 85.9] < (85.9, 114.2] ... (170.8, 199.1] < (199.1, 227.4] < (227.4, 255.7] < (255.7, 284.0]]"
      ]
     },
     "execution_count": 95,
     "metadata": {},
     "output_type": "execute_result"
    }
   ],
   "source": [
    "pd.cut(user별_결제횟수['COUNT'], bins=10)"
   ]
  },
  {
   "cell_type": "code",
   "execution_count": 131,
   "metadata": {},
   "outputs": [
    {
     "data": {
      "text/plain": [
       "(0.717, 29.3]     159871\n",
       "(29.3, 57.6]        3718\n",
       "(57.6, 85.9]        1082\n",
       "(85.9, 114.2]        427\n",
       "(114.2, 142.5]       189\n",
       "(142.5, 170.8]        82\n",
       "(170.8, 199.1]        39\n",
       "(199.1, 227.4]        12\n",
       "(227.4, 255.7]         3\n",
       "(255.7, 284.0]         1\n",
       "Name: COUNT, dtype: int64"
      ]
     },
     "execution_count": 131,
     "metadata": {},
     "output_type": "execute_result"
    }
   ],
   "source": [
    "pd.cut(user별_결제횟수['COUNT'], bins=10).value_counts().sort_index()"
   ]
  },
  {
   "cell_type": "code",
   "execution_count": 177,
   "metadata": {},
   "outputs": [],
   "source": [
    "# 총 유저는165424명\n",
    "bins = [1,2,6,20,10000]"
   ]
  },
  {
   "cell_type": "code",
   "execution_count": 178,
   "metadata": {},
   "outputs": [
    {
     "data": {
      "text/plain": [
       "[1, 2)         73947\n",
       "[2, 6)         56998\n",
       "[6, 20)        24998\n",
       "[20, 10000)     9481\n",
       "Name: COUNT, dtype: int64"
      ]
     },
     "execution_count": 178,
     "metadata": {},
     "output_type": "execute_result"
    }
   ],
   "source": [
    "pd.cut(user별_결제횟수['COUNT'], right=False, bins=bins).value_counts().sort_index()"
   ]
  },
  {
   "cell_type": "code",
   "execution_count": 179,
   "metadata": {},
   "outputs": [
    {
     "data": {
      "text/html": [
       "<div>\n",
       "<style scoped>\n",
       "    .dataframe tbody tr th:only-of-type {\n",
       "        vertical-align: middle;\n",
       "    }\n",
       "\n",
       "    .dataframe tbody tr th {\n",
       "        vertical-align: top;\n",
       "    }\n",
       "\n",
       "    .dataframe thead th {\n",
       "        text-align: right;\n",
       "    }\n",
       "</style>\n",
       "<table border=\"1\" class=\"dataframe\">\n",
       "  <thead>\n",
       "    <tr style=\"text-align: right;\">\n",
       "      <th></th>\n",
       "      <th>COUNT</th>\n",
       "      <th>비율(%)</th>\n",
       "    </tr>\n",
       "  </thead>\n",
       "  <tbody>\n",
       "    <tr>\n",
       "      <th>[1, 2)</th>\n",
       "      <td>73947</td>\n",
       "      <td>44.701494</td>\n",
       "    </tr>\n",
       "    <tr>\n",
       "      <th>[2, 6)</th>\n",
       "      <td>56998</td>\n",
       "      <td>34.455702</td>\n",
       "    </tr>\n",
       "    <tr>\n",
       "      <th>[6, 20)</th>\n",
       "      <td>24998</td>\n",
       "      <td>15.111471</td>\n",
       "    </tr>\n",
       "    <tr>\n",
       "      <th>[20, 10000)</th>\n",
       "      <td>9481</td>\n",
       "      <td>5.731333</td>\n",
       "    </tr>\n",
       "  </tbody>\n",
       "</table>\n",
       "</div>"
      ],
      "text/plain": [
       "             COUNT      비율(%)\n",
       "[1, 2)       73947  44.701494\n",
       "[2, 6)       56998  34.455702\n",
       "[6, 20)      24998  15.111471\n",
       "[20, 10000)   9481   5.731333"
      ]
     },
     "execution_count": 179,
     "metadata": {},
     "output_type": "execute_result"
    }
   ],
   "source": [
    "tdf = pd.DataFrame(pd.cut(user별_결제횟수['COUNT'], right=False, bins=bins).value_counts().sort_index())\n",
    "tdf['비율(%)'] = tdf['COUNT'] /165424 * 100\n",
    "tdf"
   ]
  },
  {
   "cell_type": "markdown",
   "metadata": {},
   "source": [
    "#### 1년 기준\n",
    "- 결제 횟수 1번 : D등급 (약 45%)\n",
    "- 결제 횟수 2번~5번 : C등급 (약 35%)\n",
    "- 결제 횟수 6~19번: 결제자: B등급 (약 15%)\n",
    "- 20번 이상 결제자: A등급 (약 5%)\n",
    "\n",
    "#### 파레토의 법칙\n",
    "- A,B 등급의 매출이 전체 매출의 80%를 차지함\n",
    "> 즉, 현재 기준으로 연 1~5회 결제자들을 연 6회 이상 결제하도록 유도하는 전략 필요"
   ]
  },
  {
   "cell_type": "code",
   "execution_count": 182,
   "metadata": {},
   "outputs": [],
   "source": [
    "bins_label = ['D등급','C등급','B등급','A등급']"
   ]
  },
  {
   "cell_type": "code",
   "execution_count": 184,
   "metadata": {},
   "outputs": [
    {
     "data": {
      "text/html": [
       "<div>\n",
       "<style scoped>\n",
       "    .dataframe tbody tr th:only-of-type {\n",
       "        vertical-align: middle;\n",
       "    }\n",
       "\n",
       "    .dataframe tbody tr th {\n",
       "        vertical-align: top;\n",
       "    }\n",
       "\n",
       "    .dataframe thead th {\n",
       "        text-align: right;\n",
       "    }\n",
       "</style>\n",
       "<table border=\"1\" class=\"dataframe\">\n",
       "  <thead>\n",
       "    <tr style=\"text-align: right;\">\n",
       "      <th></th>\n",
       "      <th>COUNT</th>\n",
       "      <th>비율(%)</th>\n",
       "    </tr>\n",
       "  </thead>\n",
       "  <tbody>\n",
       "    <tr>\n",
       "      <th>D등급</th>\n",
       "      <td>73947</td>\n",
       "      <td>44.701494</td>\n",
       "    </tr>\n",
       "    <tr>\n",
       "      <th>C등급</th>\n",
       "      <td>56998</td>\n",
       "      <td>34.455702</td>\n",
       "    </tr>\n",
       "    <tr>\n",
       "      <th>B등급</th>\n",
       "      <td>24998</td>\n",
       "      <td>15.111471</td>\n",
       "    </tr>\n",
       "    <tr>\n",
       "      <th>A등급</th>\n",
       "      <td>9481</td>\n",
       "      <td>5.731333</td>\n",
       "    </tr>\n",
       "  </tbody>\n",
       "</table>\n",
       "</div>"
      ],
      "text/plain": [
       "     COUNT      비율(%)\n",
       "D등급  73947  44.701494\n",
       "C등급  56998  34.455702\n",
       "B등급  24998  15.111471\n",
       "A등급   9481   5.731333"
      ]
     },
     "execution_count": 184,
     "metadata": {},
     "output_type": "execute_result"
    }
   ],
   "source": [
    "tdf = pd.DataFrame(pd.cut(user별_결제횟수['COUNT'], right=False, bins=bins,\n",
    "                         labels=bins_label).value_counts().sort_index())\n",
    "tdf['비율(%)'] = tdf['COUNT'] /165424 * 100\n",
    "tdf"
   ]
  },
  {
   "cell_type": "code",
   "execution_count": 196,
   "metadata": {},
   "outputs": [],
   "source": [
    "# 함수 만들기\n",
    "def count_category(count):\n",
    "    category = ''\n",
    "    if count == 1:\n",
    "        category = 'D등급'\n",
    "    elif 2 <= count <= 5:\n",
    "        category = 'C등급'\n",
    "    elif 6 <= count <= 19:\n",
    "        category = 'B등급'\n",
    "    else:\n",
    "        category = 'A등급'\n",
    "        \n",
    "    return category"
   ]
  },
  {
   "cell_type": "code",
   "execution_count": 197,
   "metadata": {},
   "outputs": [
    {
     "name": "stderr",
     "output_type": "stream",
     "text": [
      "<ipython-input-197-c3ce470152db>:1: SettingWithCopyWarning: \n",
      "A value is trying to be set on a copy of a slice from a DataFrame.\n",
      "Try using .loc[row_indexer,col_indexer] = value instead\n",
      "\n",
      "See the caveats in the documentation: https://pandas.pydata.org/pandas-docs/stable/user_guide/indexing.html#returning-a-view-versus-a-copy\n",
      "  user별_결제횟수['회원등급'] = user별_결제횟수['COUNT'].apply(count_category)\n"
     ]
    }
   ],
   "source": [
    "user별_결제횟수['회원등급'] = user별_결제횟수['COUNT'].apply(count_category)"
   ]
  },
  {
   "cell_type": "code",
   "execution_count": 199,
   "metadata": {},
   "outputs": [
    {
     "data": {
      "text/html": [
       "<div>\n",
       "<style scoped>\n",
       "    .dataframe tbody tr th:only-of-type {\n",
       "        vertical-align: middle;\n",
       "    }\n",
       "\n",
       "    .dataframe tbody tr th {\n",
       "        vertical-align: top;\n",
       "    }\n",
       "\n",
       "    .dataframe thead th {\n",
       "        text-align: right;\n",
       "    }\n",
       "</style>\n",
       "<table border=\"1\" class=\"dataframe\">\n",
       "  <thead>\n",
       "    <tr style=\"text-align: right;\">\n",
       "      <th></th>\n",
       "      <th>USER_ID</th>\n",
       "      <th>COUNT</th>\n",
       "      <th>회원등급</th>\n",
       "    </tr>\n",
       "  </thead>\n",
       "  <tbody>\n",
       "    <tr>\n",
       "      <th>0</th>\n",
       "      <td>1000024</td>\n",
       "      <td>1</td>\n",
       "      <td>D등급</td>\n",
       "    </tr>\n",
       "    <tr>\n",
       "      <th>1</th>\n",
       "      <td>1000036</td>\n",
       "      <td>3</td>\n",
       "      <td>C등급</td>\n",
       "    </tr>\n",
       "    <tr>\n",
       "      <th>2</th>\n",
       "      <td>1000100</td>\n",
       "      <td>2</td>\n",
       "      <td>C등급</td>\n",
       "    </tr>\n",
       "    <tr>\n",
       "      <th>3</th>\n",
       "      <td>1000108</td>\n",
       "      <td>3</td>\n",
       "      <td>C등급</td>\n",
       "    </tr>\n",
       "    <tr>\n",
       "      <th>4</th>\n",
       "      <td>1000111</td>\n",
       "      <td>3</td>\n",
       "      <td>C등급</td>\n",
       "    </tr>\n",
       "    <tr>\n",
       "      <th>...</th>\n",
       "      <td>...</td>\n",
       "      <td>...</td>\n",
       "      <td>...</td>\n",
       "    </tr>\n",
       "    <tr>\n",
       "      <th>165420</th>\n",
       "      <td>999911</td>\n",
       "      <td>4</td>\n",
       "      <td>C등급</td>\n",
       "    </tr>\n",
       "    <tr>\n",
       "      <th>165421</th>\n",
       "      <td>999916</td>\n",
       "      <td>6</td>\n",
       "      <td>B등급</td>\n",
       "    </tr>\n",
       "    <tr>\n",
       "      <th>165422</th>\n",
       "      <td>999932</td>\n",
       "      <td>1</td>\n",
       "      <td>D등급</td>\n",
       "    </tr>\n",
       "    <tr>\n",
       "      <th>165423</th>\n",
       "      <td>999933</td>\n",
       "      <td>1</td>\n",
       "      <td>D등급</td>\n",
       "    </tr>\n",
       "    <tr>\n",
       "      <th>165424</th>\n",
       "      <td>999993</td>\n",
       "      <td>4</td>\n",
       "      <td>C등급</td>\n",
       "    </tr>\n",
       "  </tbody>\n",
       "</table>\n",
       "<p>165424 rows × 3 columns</p>\n",
       "</div>"
      ],
      "text/plain": [
       "        USER_ID  COUNT 회원등급\n",
       "0       1000024      1  D등급\n",
       "1       1000036      3  C등급\n",
       "2       1000100      2  C등급\n",
       "3       1000108      3  C등급\n",
       "4       1000111      3  C등급\n",
       "...         ...    ...  ...\n",
       "165420   999911      4  C등급\n",
       "165421   999916      6  B등급\n",
       "165422   999932      1  D등급\n",
       "165423   999933      1  D등급\n",
       "165424   999993      4  C등급\n",
       "\n",
       "[165424 rows x 3 columns]"
      ]
     },
     "execution_count": 199,
     "metadata": {},
     "output_type": "execute_result"
    }
   ],
   "source": [
    "user별_결제횟수"
   ]
  },
  {
   "cell_type": "code",
   "execution_count": 203,
   "metadata": {},
   "outputs": [
    {
     "data": {
      "text/html": [
       "<div>\n",
       "<style scoped>\n",
       "    .dataframe tbody tr th:only-of-type {\n",
       "        vertical-align: middle;\n",
       "    }\n",
       "\n",
       "    .dataframe tbody tr th {\n",
       "        vertical-align: top;\n",
       "    }\n",
       "\n",
       "    .dataframe thead th {\n",
       "        text-align: right;\n",
       "    }\n",
       "</style>\n",
       "<table border=\"1\" class=\"dataframe\">\n",
       "  <thead>\n",
       "    <tr style=\"text-align: right;\">\n",
       "      <th></th>\n",
       "      <th>USER_ID</th>\n",
       "      <th>JOIN_DATE</th>\n",
       "      <th>D_TYPE</th>\n",
       "      <th>STORE_ID</th>\n",
       "      <th>GOODS_TYPE</th>\n",
       "      <th>DATE</th>\n",
       "      <th>COUNT_x</th>\n",
       "      <th>AD1</th>\n",
       "      <th>요일</th>\n",
       "      <th>월</th>\n",
       "      <th>COUNT_y</th>\n",
       "      <th>회원등급</th>\n",
       "    </tr>\n",
       "  </thead>\n",
       "  <tbody>\n",
       "    <tr>\n",
       "      <th>0</th>\n",
       "      <td>2858</td>\n",
       "      <td>2014-01-07</td>\n",
       "      <td>AA</td>\n",
       "      <td>1892</td>\n",
       "      <td>A</td>\n",
       "      <td>2020-01-01</td>\n",
       "      <td>1</td>\n",
       "      <td>GN</td>\n",
       "      <td>Wednesday</td>\n",
       "      <td>01</td>\n",
       "      <td>1</td>\n",
       "      <td>D등급</td>\n",
       "    </tr>\n",
       "    <tr>\n",
       "      <th>1</th>\n",
       "      <td>5647</td>\n",
       "      <td>2014-02-14</td>\n",
       "      <td>BB</td>\n",
       "      <td>182009</td>\n",
       "      <td>A</td>\n",
       "      <td>2020-01-01</td>\n",
       "      <td>1</td>\n",
       "      <td>J</td>\n",
       "      <td>Wednesday</td>\n",
       "      <td>01</td>\n",
       "      <td>2</td>\n",
       "      <td>C등급</td>\n",
       "    </tr>\n",
       "    <tr>\n",
       "      <th>2</th>\n",
       "      <td>5647</td>\n",
       "      <td>2014-02-14</td>\n",
       "      <td>BB</td>\n",
       "      <td>91417</td>\n",
       "      <td>B</td>\n",
       "      <td>2020-02-10</td>\n",
       "      <td>1</td>\n",
       "      <td>SD</td>\n",
       "      <td>Monday</td>\n",
       "      <td>02</td>\n",
       "      <td>2</td>\n",
       "      <td>C등급</td>\n",
       "    </tr>\n",
       "    <tr>\n",
       "      <th>3</th>\n",
       "      <td>33314</td>\n",
       "      <td>2014-11-20</td>\n",
       "      <td>BB</td>\n",
       "      <td>82431</td>\n",
       "      <td>A</td>\n",
       "      <td>2020-01-01</td>\n",
       "      <td>1</td>\n",
       "      <td>SC</td>\n",
       "      <td>Wednesday</td>\n",
       "      <td>01</td>\n",
       "      <td>3</td>\n",
       "      <td>C등급</td>\n",
       "    </tr>\n",
       "    <tr>\n",
       "      <th>4</th>\n",
       "      <td>33314</td>\n",
       "      <td>2014-11-20</td>\n",
       "      <td>BB</td>\n",
       "      <td>220077</td>\n",
       "      <td>C</td>\n",
       "      <td>2020-05-01</td>\n",
       "      <td>1</td>\n",
       "      <td>JRR</td>\n",
       "      <td>Friday</td>\n",
       "      <td>05</td>\n",
       "      <td>3</td>\n",
       "      <td>C등급</td>\n",
       "    </tr>\n",
       "  </tbody>\n",
       "</table>\n",
       "</div>"
      ],
      "text/plain": [
       "  USER_ID  JOIN_DATE D_TYPE STORE_ID GOODS_TYPE       DATE  COUNT_x  AD1  \\\n",
       "0    2858 2014-01-07     AA     1892          A 2020-01-01        1   GN   \n",
       "1    5647 2014-02-14     BB   182009          A 2020-01-01        1    J   \n",
       "2    5647 2014-02-14     BB    91417          B 2020-02-10        1   SD   \n",
       "3   33314 2014-11-20     BB    82431          A 2020-01-01        1   SC   \n",
       "4   33314 2014-11-20     BB   220077          C 2020-05-01        1  JRR   \n",
       "\n",
       "          요일   월  COUNT_y 회원등급  \n",
       "0  Wednesday  01        1  D등급  \n",
       "1  Wednesday  01        2  C등급  \n",
       "2     Monday  02        2  C등급  \n",
       "3  Wednesday  01        3  C등급  \n",
       "4     Friday  05        3  C등급  "
      ]
     },
     "execution_count": 203,
     "metadata": {},
     "output_type": "execute_result"
    }
   ],
   "source": [
    "df2 = pd.merge(df,user별_결제횟수, how='inner',on='USER_ID')\n",
    "df2.head()"
   ]
  },
  {
   "cell_type": "code",
   "execution_count": 205,
   "metadata": {},
   "outputs": [],
   "source": [
    "df2.rename(columns={'COUNT_x' : 'COUNT',\n",
    "                   'COUNT_y' : 'sum(COUNT)'}, inplace=True)"
   ]
  },
  {
   "cell_type": "code",
   "execution_count": 206,
   "metadata": {},
   "outputs": [
    {
     "data": {
      "text/html": [
       "<div>\n",
       "<style scoped>\n",
       "    .dataframe tbody tr th:only-of-type {\n",
       "        vertical-align: middle;\n",
       "    }\n",
       "\n",
       "    .dataframe tbody tr th {\n",
       "        vertical-align: top;\n",
       "    }\n",
       "\n",
       "    .dataframe thead th {\n",
       "        text-align: right;\n",
       "    }\n",
       "</style>\n",
       "<table border=\"1\" class=\"dataframe\">\n",
       "  <thead>\n",
       "    <tr style=\"text-align: right;\">\n",
       "      <th></th>\n",
       "      <th>USER_ID</th>\n",
       "      <th>JOIN_DATE</th>\n",
       "      <th>D_TYPE</th>\n",
       "      <th>STORE_ID</th>\n",
       "      <th>GOODS_TYPE</th>\n",
       "      <th>DATE</th>\n",
       "      <th>COUNT</th>\n",
       "      <th>AD1</th>\n",
       "      <th>요일</th>\n",
       "      <th>월</th>\n",
       "      <th>sum(COUNT)</th>\n",
       "      <th>회원등급</th>\n",
       "    </tr>\n",
       "  </thead>\n",
       "  <tbody>\n",
       "    <tr>\n",
       "      <th>0</th>\n",
       "      <td>2858</td>\n",
       "      <td>2014-01-07</td>\n",
       "      <td>AA</td>\n",
       "      <td>1892</td>\n",
       "      <td>A</td>\n",
       "      <td>2020-01-01</td>\n",
       "      <td>1</td>\n",
       "      <td>GN</td>\n",
       "      <td>Wednesday</td>\n",
       "      <td>01</td>\n",
       "      <td>1</td>\n",
       "      <td>D등급</td>\n",
       "    </tr>\n",
       "    <tr>\n",
       "      <th>1</th>\n",
       "      <td>5647</td>\n",
       "      <td>2014-02-14</td>\n",
       "      <td>BB</td>\n",
       "      <td>182009</td>\n",
       "      <td>A</td>\n",
       "      <td>2020-01-01</td>\n",
       "      <td>1</td>\n",
       "      <td>J</td>\n",
       "      <td>Wednesday</td>\n",
       "      <td>01</td>\n",
       "      <td>2</td>\n",
       "      <td>C등급</td>\n",
       "    </tr>\n",
       "    <tr>\n",
       "      <th>2</th>\n",
       "      <td>5647</td>\n",
       "      <td>2014-02-14</td>\n",
       "      <td>BB</td>\n",
       "      <td>91417</td>\n",
       "      <td>B</td>\n",
       "      <td>2020-02-10</td>\n",
       "      <td>1</td>\n",
       "      <td>SD</td>\n",
       "      <td>Monday</td>\n",
       "      <td>02</td>\n",
       "      <td>2</td>\n",
       "      <td>C등급</td>\n",
       "    </tr>\n",
       "    <tr>\n",
       "      <th>3</th>\n",
       "      <td>33314</td>\n",
       "      <td>2014-11-20</td>\n",
       "      <td>BB</td>\n",
       "      <td>82431</td>\n",
       "      <td>A</td>\n",
       "      <td>2020-01-01</td>\n",
       "      <td>1</td>\n",
       "      <td>SC</td>\n",
       "      <td>Wednesday</td>\n",
       "      <td>01</td>\n",
       "      <td>3</td>\n",
       "      <td>C등급</td>\n",
       "    </tr>\n",
       "    <tr>\n",
       "      <th>4</th>\n",
       "      <td>33314</td>\n",
       "      <td>2014-11-20</td>\n",
       "      <td>BB</td>\n",
       "      <td>220077</td>\n",
       "      <td>C</td>\n",
       "      <td>2020-05-01</td>\n",
       "      <td>1</td>\n",
       "      <td>JRR</td>\n",
       "      <td>Friday</td>\n",
       "      <td>05</td>\n",
       "      <td>3</td>\n",
       "      <td>C등급</td>\n",
       "    </tr>\n",
       "    <tr>\n",
       "      <th>...</th>\n",
       "      <td>...</td>\n",
       "      <td>...</td>\n",
       "      <td>...</td>\n",
       "      <td>...</td>\n",
       "      <td>...</td>\n",
       "      <td>...</td>\n",
       "      <td>...</td>\n",
       "      <td>...</td>\n",
       "      <td>...</td>\n",
       "      <td>...</td>\n",
       "      <td>...</td>\n",
       "      <td>...</td>\n",
       "    </tr>\n",
       "    <tr>\n",
       "      <th>878900</th>\n",
       "      <td>1830551</td>\n",
       "      <td>2020-12-31</td>\n",
       "      <td>BB</td>\n",
       "      <td>219886</td>\n",
       "      <td>B</td>\n",
       "      <td>2020-12-31</td>\n",
       "      <td>1</td>\n",
       "      <td>GN</td>\n",
       "      <td>Thursday</td>\n",
       "      <td>12</td>\n",
       "      <td>1</td>\n",
       "      <td>D등급</td>\n",
       "    </tr>\n",
       "    <tr>\n",
       "      <th>878901</th>\n",
       "      <td>1830570</td>\n",
       "      <td>2020-12-31</td>\n",
       "      <td>BB</td>\n",
       "      <td>82433</td>\n",
       "      <td>B</td>\n",
       "      <td>2020-12-31</td>\n",
       "      <td>1</td>\n",
       "      <td>CY</td>\n",
       "      <td>Thursday</td>\n",
       "      <td>12</td>\n",
       "      <td>1</td>\n",
       "      <td>D등급</td>\n",
       "    </tr>\n",
       "    <tr>\n",
       "      <th>878902</th>\n",
       "      <td>1830580</td>\n",
       "      <td>2020-12-31</td>\n",
       "      <td>AA</td>\n",
       "      <td>92020</td>\n",
       "      <td>B</td>\n",
       "      <td>2020-12-31</td>\n",
       "      <td>1</td>\n",
       "      <td>JRR</td>\n",
       "      <td>Thursday</td>\n",
       "      <td>12</td>\n",
       "      <td>1</td>\n",
       "      <td>D등급</td>\n",
       "    </tr>\n",
       "    <tr>\n",
       "      <th>878903</th>\n",
       "      <td>1830589</td>\n",
       "      <td>2020-12-31</td>\n",
       "      <td>BB</td>\n",
       "      <td>92437</td>\n",
       "      <td>B</td>\n",
       "      <td>2020-12-31</td>\n",
       "      <td>1</td>\n",
       "      <td>J</td>\n",
       "      <td>Thursday</td>\n",
       "      <td>12</td>\n",
       "      <td>1</td>\n",
       "      <td>D등급</td>\n",
       "    </tr>\n",
       "    <tr>\n",
       "      <th>878904</th>\n",
       "      <td>1830598</td>\n",
       "      <td>2020-12-31</td>\n",
       "      <td>AA</td>\n",
       "      <td>220959</td>\n",
       "      <td>B</td>\n",
       "      <td>2020-12-31</td>\n",
       "      <td>1</td>\n",
       "      <td>SC</td>\n",
       "      <td>Thursday</td>\n",
       "      <td>12</td>\n",
       "      <td>1</td>\n",
       "      <td>D등급</td>\n",
       "    </tr>\n",
       "  </tbody>\n",
       "</table>\n",
       "<p>878905 rows × 12 columns</p>\n",
       "</div>"
      ],
      "text/plain": [
       "        USER_ID  JOIN_DATE D_TYPE STORE_ID GOODS_TYPE       DATE  COUNT  AD1  \\\n",
       "0          2858 2014-01-07     AA     1892          A 2020-01-01      1   GN   \n",
       "1          5647 2014-02-14     BB   182009          A 2020-01-01      1    J   \n",
       "2          5647 2014-02-14     BB    91417          B 2020-02-10      1   SD   \n",
       "3         33314 2014-11-20     BB    82431          A 2020-01-01      1   SC   \n",
       "4         33314 2014-11-20     BB   220077          C 2020-05-01      1  JRR   \n",
       "...         ...        ...    ...      ...        ...        ...    ...  ...   \n",
       "878900  1830551 2020-12-31     BB   219886          B 2020-12-31      1   GN   \n",
       "878901  1830570 2020-12-31     BB    82433          B 2020-12-31      1   CY   \n",
       "878902  1830580 2020-12-31     AA    92020          B 2020-12-31      1  JRR   \n",
       "878903  1830589 2020-12-31     BB    92437          B 2020-12-31      1    J   \n",
       "878904  1830598 2020-12-31     AA   220959          B 2020-12-31      1   SC   \n",
       "\n",
       "               요일   월  sum(COUNT) 회원등급  \n",
       "0       Wednesday  01           1  D등급  \n",
       "1       Wednesday  01           2  C등급  \n",
       "2          Monday  02           2  C등급  \n",
       "3       Wednesday  01           3  C등급  \n",
       "4          Friday  05           3  C등급  \n",
       "...           ...  ..         ...  ...  \n",
       "878900   Thursday  12           1  D등급  \n",
       "878901   Thursday  12           1  D등급  \n",
       "878902   Thursday  12           1  D등급  \n",
       "878903   Thursday  12           1  D등급  \n",
       "878904   Thursday  12           1  D등급  \n",
       "\n",
       "[878905 rows x 12 columns]"
      ]
     },
     "execution_count": 206,
     "metadata": {},
     "output_type": "execute_result"
    }
   ],
   "source": [
    "df2"
   ]
  },
  {
   "cell_type": "markdown",
   "metadata": {},
   "source": [
    "### 회원 등급별로 주로 결제하는 장소(AD1)의 차이가 있을까?"
   ]
  },
  {
   "cell_type": "code",
   "execution_count": 219,
   "metadata": {},
   "outputs": [
    {
     "data": {
      "text/plain": [
       "<AxesSubplot:xlabel='AD1', ylabel='COUNT'>"
      ]
     },
     "execution_count": 219,
     "metadata": {},
     "output_type": "execute_result"
    },
    {
     "data": {
      "image/png": "[encoded data removed]",
      "text/plain": [
       "<Figure size 720x360 with 1 Axes>"
      ]
     },
     "metadata": {
      "needs_background": "light"
     },
     "output_type": "display_data"
    }
   ],
   "source": [
    "plt.figure(figsize=(10,5))\n",
    "sns.barplot(data=df2, x='AD1',y='COUNT',hue='회원등급',\n",
    "            order = order_list[:20], hue_order = ['A등급','B등급','C등급','D등급'],\n",
    "           estimator=len)"
   ]
  },
  {
   "cell_type": "code",
   "execution_count": 224,
   "metadata": {},
   "outputs": [
    {
     "data": {
      "text/plain": [
       "<AxesSubplot:xlabel='AD1', ylabel='COUNT'>"
      ]
     },
     "execution_count": 224,
     "metadata": {},
     "output_type": "execute_result"
    },
    {
     "data": {
      "image/png": "[encoded data removed]",
      "text/plain": [
       "<Figure size 720x360 with 1 Axes>"
      ]
     },
     "metadata": {
      "needs_background": "light"
     },
     "output_type": "display_data"
    }
   ],
   "source": [
    "plt.figure(figsize=(10,5))\n",
    "sns.barplot(data=df2, x='AD1', y='COUNT',order=order_list[:20], estimator=len)"
   ]
  },
  {
   "cell_type": "markdown",
   "metadata": {},
   "source": [
    "- C,D 등급을 B등급으로 끌어올리기 위해서는 마포구를 공략하는 전략 필요"
   ]
  },
  {
   "cell_type": "markdown",
   "metadata": {},
   "source": [
    "### 결제요일별 회원등급"
   ]
  },
  {
   "cell_type": "code",
   "execution_count": 226,
   "metadata": {},
   "outputs": [
    {
     "data": {
      "text/plain": [
       "<AxesSubplot:xlabel='요일', ylabel='COUNT'>"
      ]
     },
     "execution_count": 226,
     "metadata": {},
     "output_type": "execute_result"
    },
    {
     "data": {
      "image/png": "[encoded data removed]",
      "text/plain": [
       "<Figure size 720x360 with 1 Axes>"
      ]
     },
     "metadata": {
      "needs_background": "light"
     },
     "output_type": "display_data"
    }
   ],
   "source": [
    "plt.figure(figsize=(10,5))\n",
    "sns.barplot(data=df2, x='요일', y='COUNT', estimator=sum,\n",
    "           hue = '회원등급', hue_order = ['A등급','B등급','C등급','D등급'],\n",
    "           order=['Monday','Tuesday','Wednesday','Thursday','Friday','Saturday','Sunday'])"
   ]
  },
  {
   "cell_type": "markdown",
   "metadata": {},
   "source": [
    "- A등급자들의 경우 평일에 주로 결제하는 것으로 보아 직장인일 것으로 추정됨\n",
    "- 그 외 B,C,D 등급의 경우 A등급 대비 평일보다 주말에 더 많이 결제함\n",
    "- 따라서 직장인 고객을 증가시키기 위해 직장인을 대상으로 프로모션을 진행할 필요가 있음"
   ]
  },
  {
   "cell_type": "code",
   "execution_count": 231,
   "metadata": {},
   "outputs": [],
   "source": [
    "df_평일 = df2[(df2['요일']!='Saturday') & (df2['요일']!='Sunday')]"
   ]
  },
  {
   "cell_type": "code",
   "execution_count": 232,
   "metadata": {},
   "outputs": [
    {
     "data": {
      "text/plain": [
       "Friday       137865\n",
       "Thursday     133563\n",
       "Wednesday    132232\n",
       "Tuesday      130629\n",
       "Monday       127000\n",
       "Name: 요일, dtype: int64"
      ]
     },
     "execution_count": 232,
     "metadata": {},
     "output_type": "execute_result"
    }
   ],
   "source": [
    "df_평일['요일'].value_counts()"
   ]
  },
  {
   "cell_type": "markdown",
   "metadata": {},
   "source": [
    "### 평일 기준, 지역별 회원등급 (직장인으로 추정되는 A가 많은 지역 판단 위함)"
   ]
  },
  {
   "cell_type": "code",
   "execution_count": 233,
   "metadata": {},
   "outputs": [
    {
     "data": {
      "text/plain": [
       "<AxesSubplot:xlabel='AD1', ylabel='COUNT'>"
      ]
     },
     "execution_count": 233,
     "metadata": {},
     "output_type": "execute_result"
    },
    {
     "data": {
      "image/png": "[encoded data removed]",
      "text/plain": [
       "<Figure size 720x360 with 1 Axes>"
      ]
     },
     "metadata": {
      "needs_background": "light"
     },
     "output_type": "display_data"
    }
   ],
   "source": [
    "plt.figure(figsize=(10,5))\n",
    "sns.barplot(data=df_평일, x='AD1',y='COUNT',hue='회원등급',\n",
    "            order = order_list[:12], hue_order = ['A등급','B등급','C등급','D등급'],\n",
    "           estimator=sum)"
   ]
  },
  {
   "cell_type": "code",
   "execution_count": 238,
   "metadata": {},
   "outputs": [
    {
     "data": {
      "text/plain": [
       "False"
      ]
     },
     "execution_count": 238,
     "metadata": {},
     "output_type": "execute_result"
    }
   ],
   "source": [
    "'YDP' in df['AD1'].unique().tolist()"
   ]
  },
  {
   "cell_type": "markdown",
   "metadata": {},
   "source": [
    "- 중구, 강남, 종로(혹은 중랑), 서초, 영등포 등 직장이 밀집되어 있을 것으로 보임\n",
    "- 마포구는 직장인이 별로 없는 것인지 인프라가 부족한 것인지 수가 적음."
   ]
  },
  {
   "cell_type": "code",
   "execution_count": 246,
   "metadata": {},
   "outputs": [],
   "source": [
    "df_주말 = df2[(df2['요일']=='Saturday') | (df2['요일']=='Sunday')]"
   ]
  },
  {
   "cell_type": "code",
   "execution_count": 247,
   "metadata": {},
   "outputs": [
    {
     "data": {
      "text/plain": [
       "Saturday    131428\n",
       "Sunday       86188\n",
       "Name: 요일, dtype: int64"
      ]
     },
     "execution_count": 247,
     "metadata": {},
     "output_type": "execute_result"
    }
   ],
   "source": [
    "df_주말['요일'].value_counts()"
   ]
  },
  {
   "cell_type": "markdown",
   "metadata": {},
   "source": [
    "### 주말 기준, 지역별 회원 등급"
   ]
  },
  {
   "cell_type": "code",
   "execution_count": 248,
   "metadata": {
    "scrolled": true
   },
   "outputs": [
    {
     "data": {
      "text/plain": [
       "<AxesSubplot:xlabel='AD1', ylabel='COUNT'>"
      ]
     },
     "execution_count": 248,
     "metadata": {},
     "output_type": "execute_result"
    },
    {
     "data": {
      "image/png": "[encoded data removed]",
      "text/plain": [
       "<Figure size 720x360 with 1 Axes>"
      ]
     },
     "metadata": {
      "needs_background": "light"
     },
     "output_type": "display_data"
    }
   ],
   "source": [
    "plt.figure(figsize=(10,5))\n",
    "sns.barplot(data=df_주말, x='AD1',y='COUNT',hue='회원등급',\n",
    "            order = order_list[:12], hue_order = ['A등급','B등급','C등급','D등급'],\n",
    "           estimator=sum)"
   ]
  },
  {
   "cell_type": "markdown",
   "metadata": {},
   "source": []
  }
 ],
 "metadata": {
  "kernelspec": {
   "display_name": "Python 3",
   "language": "python",
   "name": "python3"
  },
  "language_info": {
   "codemirror_mode": {
    "name": "ipython",
    "version": 3
   },
   "file_extension": ".py",
   "mimetype": "text/x-python",
   "name": "python",
   "nbconvert_exporter": "python",
   "pygments_lexer": "ipython3",
   "version": "3.8.5"
  }
 },
 "nbformat": 4,
 "nbformat_minor": 4
}
