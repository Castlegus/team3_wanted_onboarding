{
 "cells": [
  {
   "cell_type": "markdown",
   "metadata": {},
   "source": [
    "# 주어진 문제\n",
    "1. 고객의 결제여부에 영향을 미치는 요인들은 무엇인가요?\n",
    "2. 고객의 수수료 결제금액의 합을 높히기 위해서는 어떻게 해야 할까요?"
   ]
  },
  {
   "cell_type": "code",
   "execution_count": 1,
   "metadata": {},
   "outputs": [],
   "source": [
    "import pandas as pd\n",
    "import matplotlib.pyplot as plt\n",
    "import seaborn as sns\n",
    "import numpy as np\n",
    "plt.rc('font', family='Malgun Gothic')\n",
    "plt.rcParams['axes.unicode_minus'] = False"
   ]
  },
  {
   "cell_type": "code",
   "execution_count": 2,
   "metadata": {},
   "outputs": [
    {
     "data": {
      "text/html": [
       "<div>\n",
       "<style scoped>\n",
       "    .dataframe tbody tr th:only-of-type {\n",
       "        vertical-align: middle;\n",
       "    }\n",
       "\n",
       "    .dataframe tbody tr th {\n",
       "        vertical-align: top;\n",
       "    }\n",
       "\n",
       "    .dataframe thead th {\n",
       "        text-align: right;\n",
       "    }\n",
       "</style>\n",
       "<table border=\"1\" class=\"dataframe\">\n",
       "  <thead>\n",
       "    <tr style=\"text-align: right;\">\n",
       "      <th></th>\n",
       "      <th>age</th>\n",
       "      <th>gender</th>\n",
       "      <th>year</th>\n",
       "      <th>refund</th>\n",
       "      <th>fee</th>\n",
       "      <th>has_paid</th>\n",
       "      <th>income_근로</th>\n",
       "      <th>income_사업</th>\n",
       "      <th>income_기타</th>\n",
       "    </tr>\n",
       "  </thead>\n",
       "  <tbody>\n",
       "    <tr>\n",
       "      <th>0</th>\n",
       "      <td>27.0</td>\n",
       "      <td>F</td>\n",
       "      <td>2019</td>\n",
       "      <td>5000.0</td>\n",
       "      <td>400.0</td>\n",
       "      <td>False</td>\n",
       "      <td>10001000.0</td>\n",
       "      <td>61000.0</td>\n",
       "      <td>NaN</td>\n",
       "    </tr>\n",
       "    <tr>\n",
       "      <th>1</th>\n",
       "      <td>34.0</td>\n",
       "      <td>M</td>\n",
       "      <td>2018</td>\n",
       "      <td>100000.0</td>\n",
       "      <td>1700.0</td>\n",
       "      <td>True</td>\n",
       "      <td>18092000.0</td>\n",
       "      <td>NaN</td>\n",
       "      <td>1815000.0</td>\n",
       "    </tr>\n",
       "    <tr>\n",
       "      <th>2</th>\n",
       "      <td>28.0</td>\n",
       "      <td>F</td>\n",
       "      <td>2017</td>\n",
       "      <td>289000.0</td>\n",
       "      <td>11500.0</td>\n",
       "      <td>False</td>\n",
       "      <td>NaN</td>\n",
       "      <td>1461000.0</td>\n",
       "      <td>NaN</td>\n",
       "    </tr>\n",
       "    <tr>\n",
       "      <th>3</th>\n",
       "      <td>27.0</td>\n",
       "      <td>M</td>\n",
       "      <td>2019</td>\n",
       "      <td>410000.0</td>\n",
       "      <td>16200.0</td>\n",
       "      <td>False</td>\n",
       "      <td>NaN</td>\n",
       "      <td>2471000.0</td>\n",
       "      <td>NaN</td>\n",
       "    </tr>\n",
       "    <tr>\n",
       "      <th>4</th>\n",
       "      <td>26.0</td>\n",
       "      <td>F</td>\n",
       "      <td>2016</td>\n",
       "      <td>114000.0</td>\n",
       "      <td>4300.0</td>\n",
       "      <td>True</td>\n",
       "      <td>0.0</td>\n",
       "      <td>689000.0</td>\n",
       "      <td>NaN</td>\n",
       "    </tr>\n",
       "  </tbody>\n",
       "</table>\n",
       "</div>"
      ],
      "text/plain": [
       "    age gender  year    refund      fee  has_paid   income_근로  income_사업  \\\n",
       "0  27.0      F  2019    5000.0    400.0     False  10001000.0    61000.0   \n",
       "1  34.0      M  2018  100000.0   1700.0      True  18092000.0        NaN   \n",
       "2  28.0      F  2017  289000.0  11500.0     False         NaN  1461000.0   \n",
       "3  27.0      M  2019  410000.0  16200.0     False         NaN  2471000.0   \n",
       "4  26.0      F  2016  114000.0   4300.0      True         0.0   689000.0   \n",
       "\n",
       "   income_기타  \n",
       "0        NaN  \n",
       "1  1815000.0  \n",
       "2        NaN  \n",
       "3        NaN  \n",
       "4        NaN  "
      ]
     },
     "execution_count": 2,
     "metadata": {},
     "output_type": "execute_result"
    }
   ],
   "source": [
    "df = pd.read_csv('Jobis_3o3.csv')\n",
    "df.head()"
   ]
  },
  {
   "cell_type": "markdown",
   "metadata": {},
   "source": [
    "# 주어진 데이터\n",
    "- age: 고객의 만 나이입니다.\n",
    "- gender: 고객의 성별입니다.\n",
    "- year: 소득이 발생한 연도(귀속년도)입니다.\n",
    "- refund: 예상환급액입니다.\n",
    "- fee: 수수료입니다.\n",
    "- has_paid: 수수료를 결제했는지의 여부\n",
    "- income_근로: 고객의 근로소득(월급/일용직급여)\n",
    "- income_사업: 고객의 사업소득(프리랜서 소득)\n",
    "- income_기타: 고객의 기타소득(그외 기타 소득)"
   ]
  },
  {
   "cell_type": "markdown",
   "metadata": {},
   "source": [
    "# 분석방법론\n"
   ]
  },
  {
   "cell_type": "code",
   "execution_count": 3,
   "metadata": {},
   "outputs": [],
   "source": [
    "# 수수료를 지불한 사람은 1, 그렇지 않은 사람은 0\n",
    "df['has_paid'] = df['has_paid'].apply(lambda x: 1 if x else 0)"
   ]
  },
  {
   "cell_type": "code",
   "execution_count": 4,
   "metadata": {},
   "outputs": [
    {
     "data": {
      "text/plain": [
       "1    64643\n",
       "0    35357\n",
       "Name: has_paid, dtype: int64"
      ]
     },
     "execution_count": 4,
     "metadata": {},
     "output_type": "execute_result"
    }
   ],
   "source": [
    "df['has_paid'].value_counts()"
   ]
  },
  {
   "cell_type": "code",
   "execution_count": 5,
   "metadata": {},
   "outputs": [
    {
     "name": "stdout",
     "output_type": "stream",
     "text": [
      "<class 'pandas.core.frame.DataFrame'>\n",
      "RangeIndex: 100000 entries, 0 to 99999\n",
      "Data columns (total 9 columns):\n",
      " #   Column     Non-Null Count   Dtype  \n",
      "---  ------     --------------   -----  \n",
      " 0   age        100000 non-null  float64\n",
      " 1   gender     100000 non-null  object \n",
      " 2   year       100000 non-null  int64  \n",
      " 3   refund     100000 non-null  float64\n",
      " 4   fee        100000 non-null  float64\n",
      " 5   has_paid   100000 non-null  int64  \n",
      " 6   income_근로  40791 non-null   float64\n",
      " 7   income_사업  78227 non-null   float64\n",
      " 8   income_기타  25260 non-null   float64\n",
      "dtypes: float64(6), int64(2), object(1)\n",
      "memory usage: 6.9+ MB\n"
     ]
    }
   ],
   "source": [
    "df.info()"
   ]
  },
  {
   "cell_type": "markdown",
   "metadata": {},
   "source": [
    "- 근로소득, 사업소득, 기타소득이 결측값인 경우, 해당 소득이 0인 것으로 생각할 수 있음."
   ]
  },
  {
   "cell_type": "code",
   "execution_count": 6,
   "metadata": {},
   "outputs": [],
   "source": [
    "# 결측값을 0으로 변환\n",
    "df.fillna(0, inplace=True)"
   ]
  },
  {
   "cell_type": "markdown",
   "metadata": {},
   "source": [
    "## 칼럼별로 살펴보기 (문자형)"
   ]
  },
  {
   "cell_type": "code",
   "execution_count": 7,
   "metadata": {},
   "outputs": [
    {
     "data": {
      "image/png": "[encoded data removed]",
      "text/plain": [
       "<Figure size 1080x720 with 3 Axes>"
      ]
     },
     "metadata": {
      "needs_background": "light"
     },
     "output_type": "display_data"
    }
   ],
   "source": [
    "plt.figure(figsize=(15,10))\n",
    "plt.subplot(311)\n",
    "df.groupby('age')['has_paid'].mean().sort_index().plot(kind='bar')\n",
    "plt.subplot(312)\n",
    "df.groupby('gender')['has_paid'].mean().sort_values().plot(kind='bar')\n",
    "plt.subplot(313)\n",
    "df.groupby('year')['has_paid'].mean().sort_index().plot(kind='bar')\n",
    "plt.show()"
   ]
  },
  {
   "cell_type": "markdown",
   "metadata": {},
   "source": [
    "1. 72세가 유독 환급을 받지 않음.-> 몇 명이나 있는지?\n",
    "2. 성별에 결측치가 있음 -> 어떻게 판단할 것인가?\n",
    "3. 2020년에 발생한 수익에 대한 세금을 유독 환급 받지 않음"
   ]
  },
  {
   "cell_type": "code",
   "execution_count": 8,
   "metadata": {},
   "outputs": [
    {
     "data": {
      "text/plain": [
       "70.0    13\n",
       "76.0     7\n",
       "74.0     5\n",
       "71.0     5\n",
       "78.0     4\n",
       "72.0     4\n",
       "81.0     3\n",
       "77.0     2\n",
       "73.0     1\n",
       "79.0     1\n",
       "Name: age, dtype: int64"
      ]
     },
     "execution_count": 8,
     "metadata": {},
     "output_type": "execute_result"
    }
   ],
   "source": [
    "# 70대 이상은 몇명?\n",
    "df[df['age']>=70]['age'].value_counts()"
   ]
  },
  {
   "cell_type": "markdown",
   "metadata": {},
   "source": [
    "1. 환급전환율이 적은 72세 뿐만 아니라, 70대 이상이 매우 적은 숫자이므로 큰 의미는 없음."
   ]
  },
  {
   "cell_type": "code",
   "execution_count": 9,
   "metadata": {},
   "outputs": [
    {
     "data": {
      "text/plain": [
       "M    50477\n",
       "F    49501\n",
       "-       22\n",
       "Name: gender, dtype: int64"
      ]
     },
     "execution_count": 9,
     "metadata": {},
     "output_type": "execute_result"
    }
   ],
   "source": [
    "# 성별의 결측치는 몇개?\n",
    "df['gender'].value_counts()"
   ]
  },
  {
   "cell_type": "markdown",
   "metadata": {},
   "source": [
    "2. 22개의 결측치는 전체 데이터 대비 매우 적은 숫자이므로 큰 의미는 없음."
   ]
  },
  {
   "cell_type": "code",
   "execution_count": 10,
   "metadata": {},
   "outputs": [
    {
     "data": {
      "text/html": [
       "<div>\n",
       "<style scoped>\n",
       "    .dataframe tbody tr th:only-of-type {\n",
       "        vertical-align: middle;\n",
       "    }\n",
       "\n",
       "    .dataframe tbody tr th {\n",
       "        vertical-align: top;\n",
       "    }\n",
       "\n",
       "    .dataframe thead th {\n",
       "        text-align: right;\n",
       "    }\n",
       "</style>\n",
       "<table border=\"1\" class=\"dataframe\">\n",
       "  <thead>\n",
       "    <tr style=\"text-align: right;\">\n",
       "      <th></th>\n",
       "      <th>age</th>\n",
       "      <th>refund</th>\n",
       "      <th>fee</th>\n",
       "      <th>has_paid</th>\n",
       "      <th>income_근로</th>\n",
       "      <th>income_사업</th>\n",
       "      <th>income_기타</th>\n",
       "    </tr>\n",
       "    <tr>\n",
       "      <th>year</th>\n",
       "      <th></th>\n",
       "      <th></th>\n",
       "      <th></th>\n",
       "      <th></th>\n",
       "      <th></th>\n",
       "      <th></th>\n",
       "      <th></th>\n",
       "    </tr>\n",
       "  </thead>\n",
       "  <tbody>\n",
       "    <tr>\n",
       "      <th>2015</th>\n",
       "      <td>30.748808</td>\n",
       "      <td>162656.210790</td>\n",
       "      <td>4396.461731</td>\n",
       "      <td>0.710665</td>\n",
       "      <td>4.291267e+05</td>\n",
       "      <td>7.168088e+05</td>\n",
       "      <td>32737.766625</td>\n",
       "    </tr>\n",
       "    <tr>\n",
       "      <th>2016</th>\n",
       "      <td>30.553511</td>\n",
       "      <td>171084.237763</td>\n",
       "      <td>5579.752749</td>\n",
       "      <td>0.697046</td>\n",
       "      <td>1.993295e+06</td>\n",
       "      <td>9.055580e+05</td>\n",
       "      <td>151482.714008</td>\n",
       "    </tr>\n",
       "    <tr>\n",
       "      <th>2017</th>\n",
       "      <td>29.636296</td>\n",
       "      <td>176735.467276</td>\n",
       "      <td>5852.214919</td>\n",
       "      <td>0.697571</td>\n",
       "      <td>2.125833e+06</td>\n",
       "      <td>9.553367e+05</td>\n",
       "      <td>150700.428694</td>\n",
       "    </tr>\n",
       "    <tr>\n",
       "      <th>2018</th>\n",
       "      <td>28.836261</td>\n",
       "      <td>179430.415853</td>\n",
       "      <td>5994.825602</td>\n",
       "      <td>0.694991</td>\n",
       "      <td>2.542636e+06</td>\n",
       "      <td>9.500879e+05</td>\n",
       "      <td>154357.203623</td>\n",
       "    </tr>\n",
       "    <tr>\n",
       "      <th>2019</th>\n",
       "      <td>28.228049</td>\n",
       "      <td>173935.226946</td>\n",
       "      <td>5831.383744</td>\n",
       "      <td>0.694799</td>\n",
       "      <td>3.115681e+06</td>\n",
       "      <td>8.984142e+05</td>\n",
       "      <td>135792.150465</td>\n",
       "    </tr>\n",
       "    <tr>\n",
       "      <th>2020</th>\n",
       "      <td>28.148179</td>\n",
       "      <td>314651.459087</td>\n",
       "      <td>12021.541502</td>\n",
       "      <td>0.485241</td>\n",
       "      <td>3.364365e+06</td>\n",
       "      <td>2.034195e+06</td>\n",
       "      <td>222154.402489</td>\n",
       "    </tr>\n",
       "  </tbody>\n",
       "</table>\n",
       "</div>"
      ],
      "text/plain": [
       "            age         refund           fee  has_paid     income_근로  \\\n",
       "year                                                                   \n",
       "2015  30.748808  162656.210790   4396.461731  0.710665  4.291267e+05   \n",
       "2016  30.553511  171084.237763   5579.752749  0.697046  1.993295e+06   \n",
       "2017  29.636296  176735.467276   5852.214919  0.697571  2.125833e+06   \n",
       "2018  28.836261  179430.415853   5994.825602  0.694991  2.542636e+06   \n",
       "2019  28.228049  173935.226946   5831.383744  0.694799  3.115681e+06   \n",
       "2020  28.148179  314651.459087  12021.541502  0.485241  3.364365e+06   \n",
       "\n",
       "         income_사업      income_기타  \n",
       "year                               \n",
       "2015  7.168088e+05   32737.766625  \n",
       "2016  9.055580e+05  151482.714008  \n",
       "2017  9.553367e+05  150700.428694  \n",
       "2018  9.500879e+05  154357.203623  \n",
       "2019  8.984142e+05  135792.150465  \n",
       "2020  2.034195e+06  222154.402489  "
      ]
     },
     "execution_count": 10,
     "metadata": {},
     "output_type": "execute_result"
    }
   ],
   "source": [
    "# 연도별로 어떤 차이가 있는가?\n",
    "df.groupby('year').mean()"
   ]
  },
  {
   "cell_type": "code",
   "execution_count": 11,
   "metadata": {},
   "outputs": [],
   "source": [
    "df_describe = df.groupby('year').mean()"
   ]
  },
  {
   "cell_type": "code",
   "execution_count": 12,
   "metadata": {},
   "outputs": [
    {
     "data": {
      "text/plain": [
       "age           95.093321\n",
       "refund       182.123363\n",
       "fee          217.351266\n",
       "has_paid      69.417887\n",
       "income_근로    164.813662\n",
       "income_사업    229.789935\n",
       "income_기타    177.703544\n",
       "dtype: float64"
      ]
     },
     "execution_count": 12,
     "metadata": {},
     "output_type": "execute_result"
    }
   ],
   "source": [
    "# 타 연도 평균 대비 2020년\n",
    "df_describe[df_describe.index == 2020].mean() / df_describe[df_describe.index != 2020].mean() * 100"
   ]
  },
  {
   "cell_type": "markdown",
   "metadata": {},
   "source": [
    "**3. 사업소득과 결제수수료가 매우 큰 폭으로 증가했기 때문에 2020년의 수수료 결제 비율이 줄어들었다고 유추할 수 있다.**\n",
    "#### 따라서 사업 소득과 결제수수료 위주로 action plan을 제시하는 것이 좋아보인다."
   ]
  },
  {
   "cell_type": "markdown",
   "metadata": {},
   "source": [
    "## 칼럼별로 살펴보기 (숫자형)"
   ]
  },
  {
   "cell_type": "code",
   "execution_count": 13,
   "metadata": {},
   "outputs": [
    {
     "name": "stderr",
     "output_type": "stream",
     "text": [
      "C:\\ProgramData\\Anaconda3\\lib\\site-packages\\seaborn\\distributions.py:2551: FutureWarning: `distplot` is a deprecated function and will be removed in a future version. Please adapt your code to use either `displot` (a figure-level function with similar flexibility) or `histplot` (an axes-level function for histograms).\n",
      "  warnings.warn(msg, FutureWarning)\n",
      "C:\\ProgramData\\Anaconda3\\lib\\site-packages\\seaborn\\distributions.py:2551: FutureWarning: `distplot` is a deprecated function and will be removed in a future version. Please adapt your code to use either `displot` (a figure-level function with similar flexibility) or `histplot` (an axes-level function for histograms).\n",
      "  warnings.warn(msg, FutureWarning)\n",
      "C:\\ProgramData\\Anaconda3\\lib\\site-packages\\seaborn\\distributions.py:2551: FutureWarning: `distplot` is a deprecated function and will be removed in a future version. Please adapt your code to use either `displot` (a figure-level function with similar flexibility) or `histplot` (an axes-level function for histograms).\n",
      "  warnings.warn(msg, FutureWarning)\n",
      "C:\\ProgramData\\Anaconda3\\lib\\site-packages\\seaborn\\distributions.py:2551: FutureWarning: `distplot` is a deprecated function and will be removed in a future version. Please adapt your code to use either `displot` (a figure-level function with similar flexibility) or `histplot` (an axes-level function for histograms).\n",
      "  warnings.warn(msg, FutureWarning)\n",
      "C:\\ProgramData\\Anaconda3\\lib\\site-packages\\seaborn\\distributions.py:2551: FutureWarning: `distplot` is a deprecated function and will be removed in a future version. Please adapt your code to use either `displot` (a figure-level function with similar flexibility) or `histplot` (an axes-level function for histograms).\n",
      "  warnings.warn(msg, FutureWarning)\n",
      "C:\\ProgramData\\Anaconda3\\lib\\site-packages\\seaborn\\distributions.py:2551: FutureWarning: `distplot` is a deprecated function and will be removed in a future version. Please adapt your code to use either `displot` (a figure-level function with similar flexibility) or `histplot` (an axes-level function for histograms).\n",
      "  warnings.warn(msg, FutureWarning)\n"
     ]
    },
    {
     "data": {
      "text/plain": [
       "<AxesSubplot:xlabel='income_기타', ylabel='Density'>"
      ]
     },
     "execution_count": 13,
     "metadata": {},
     "output_type": "execute_result"
    },
    {
     "data": {
      "image/png": "[encoded data removed]",
      "text/plain": [
       "<Figure size 864x576 with 6 Axes>"
      ]
     },
     "metadata": {
      "needs_background": "light"
     },
     "output_type": "display_data"
    }
   ],
   "source": [
    "plt.figure(figsize=(12,8))\n",
    "plt.subplot(231)\n",
    "sns.distplot(df['age'])\n",
    "plt.subplot(232)\n",
    "sns.distplot(df['refund'])\n",
    "plt.subplot(233)\n",
    "sns.distplot(df['fee'])\n",
    "plt.subplot(234)\n",
    "sns.distplot(df['income_근로'])\n",
    "plt.subplot(235)\n",
    "sns.distplot(df['income_사업'])\n",
    "plt.subplot(236)\n",
    "sns.distplot(df['income_기타'])"
   ]
  },
  {
   "cell_type": "markdown",
   "metadata": {},
   "source": [
    "- 예상 환급액이 음수인 경우는 뭘까?"
   ]
  },
  {
   "cell_type": "code",
   "execution_count": 14,
   "metadata": {},
   "outputs": [
    {
     "data": {
      "text/html": [
       "<div>\n",
       "<style scoped>\n",
       "    .dataframe tbody tr th:only-of-type {\n",
       "        vertical-align: middle;\n",
       "    }\n",
       "\n",
       "    .dataframe tbody tr th {\n",
       "        vertical-align: top;\n",
       "    }\n",
       "\n",
       "    .dataframe thead th {\n",
       "        text-align: right;\n",
       "    }\n",
       "</style>\n",
       "<table border=\"1\" class=\"dataframe\">\n",
       "  <thead>\n",
       "    <tr style=\"text-align: right;\">\n",
       "      <th></th>\n",
       "      <th>age</th>\n",
       "      <th>gender</th>\n",
       "      <th>year</th>\n",
       "      <th>refund</th>\n",
       "      <th>fee</th>\n",
       "      <th>has_paid</th>\n",
       "      <th>income_근로</th>\n",
       "      <th>income_사업</th>\n",
       "      <th>income_기타</th>\n",
       "    </tr>\n",
       "  </thead>\n",
       "  <tbody>\n",
       "    <tr>\n",
       "      <th>10034</th>\n",
       "      <td>34.0</td>\n",
       "      <td>M</td>\n",
       "      <td>2015</td>\n",
       "      <td>-231000.0</td>\n",
       "      <td>8500.0</td>\n",
       "      <td>1</td>\n",
       "      <td>8989000.0</td>\n",
       "      <td>1714000.0</td>\n",
       "      <td>0.0</td>\n",
       "    </tr>\n",
       "    <tr>\n",
       "      <th>10624</th>\n",
       "      <td>25.0</td>\n",
       "      <td>F</td>\n",
       "      <td>2018</td>\n",
       "      <td>-7000.0</td>\n",
       "      <td>400.0</td>\n",
       "      <td>1</td>\n",
       "      <td>7508000.0</td>\n",
       "      <td>28000.0</td>\n",
       "      <td>0.0</td>\n",
       "    </tr>\n",
       "    <tr>\n",
       "      <th>22506</th>\n",
       "      <td>32.0</td>\n",
       "      <td>F</td>\n",
       "      <td>2019</td>\n",
       "      <td>-5000.0</td>\n",
       "      <td>400.0</td>\n",
       "      <td>0</td>\n",
       "      <td>7118000.0</td>\n",
       "      <td>259000.0</td>\n",
       "      <td>0.0</td>\n",
       "    </tr>\n",
       "    <tr>\n",
       "      <th>29515</th>\n",
       "      <td>41.0</td>\n",
       "      <td>F</td>\n",
       "      <td>2017</td>\n",
       "      <td>-10000.0</td>\n",
       "      <td>400.0</td>\n",
       "      <td>1</td>\n",
       "      <td>19718000.0</td>\n",
       "      <td>162000.0</td>\n",
       "      <td>128000.0</td>\n",
       "    </tr>\n",
       "    <tr>\n",
       "      <th>52648</th>\n",
       "      <td>26.0</td>\n",
       "      <td>F</td>\n",
       "      <td>2020</td>\n",
       "      <td>-397000.0</td>\n",
       "      <td>1300.0</td>\n",
       "      <td>0</td>\n",
       "      <td>8175000.0</td>\n",
       "      <td>247000.0</td>\n",
       "      <td>0.0</td>\n",
       "    </tr>\n",
       "    <tr>\n",
       "      <th>52858</th>\n",
       "      <td>34.0</td>\n",
       "      <td>M</td>\n",
       "      <td>2017</td>\n",
       "      <td>-2328000.0</td>\n",
       "      <td>400.0</td>\n",
       "      <td>0</td>\n",
       "      <td>16759000.0</td>\n",
       "      <td>28000.0</td>\n",
       "      <td>441000.0</td>\n",
       "    </tr>\n",
       "    <tr>\n",
       "      <th>54256</th>\n",
       "      <td>48.0</td>\n",
       "      <td>F</td>\n",
       "      <td>2018</td>\n",
       "      <td>-948000.0</td>\n",
       "      <td>3000.0</td>\n",
       "      <td>1</td>\n",
       "      <td>8157000.0</td>\n",
       "      <td>3975000.0</td>\n",
       "      <td>0.0</td>\n",
       "    </tr>\n",
       "    <tr>\n",
       "      <th>55168</th>\n",
       "      <td>28.0</td>\n",
       "      <td>F</td>\n",
       "      <td>2020</td>\n",
       "      <td>-1658000.0</td>\n",
       "      <td>1700.0</td>\n",
       "      <td>0</td>\n",
       "      <td>10509000.0</td>\n",
       "      <td>570000.0</td>\n",
       "      <td>0.0</td>\n",
       "    </tr>\n",
       "    <tr>\n",
       "      <th>57756</th>\n",
       "      <td>38.0</td>\n",
       "      <td>F</td>\n",
       "      <td>2017</td>\n",
       "      <td>-107000.0</td>\n",
       "      <td>4300.0</td>\n",
       "      <td>1</td>\n",
       "      <td>16619000.0</td>\n",
       "      <td>737000.0</td>\n",
       "      <td>0.0</td>\n",
       "    </tr>\n",
       "    <tr>\n",
       "      <th>68881</th>\n",
       "      <td>33.0</td>\n",
       "      <td>M</td>\n",
       "      <td>2016</td>\n",
       "      <td>-322000.0</td>\n",
       "      <td>400.0</td>\n",
       "      <td>1</td>\n",
       "      <td>0.0</td>\n",
       "      <td>57000.0</td>\n",
       "      <td>0.0</td>\n",
       "    </tr>\n",
       "    <tr>\n",
       "      <th>70198</th>\n",
       "      <td>28.0</td>\n",
       "      <td>M</td>\n",
       "      <td>2020</td>\n",
       "      <td>-583000.0</td>\n",
       "      <td>900.0</td>\n",
       "      <td>0</td>\n",
       "      <td>8389000.0</td>\n",
       "      <td>298000.0</td>\n",
       "      <td>0.0</td>\n",
       "    </tr>\n",
       "    <tr>\n",
       "      <th>82203</th>\n",
       "      <td>32.0</td>\n",
       "      <td>M</td>\n",
       "      <td>2018</td>\n",
       "      <td>-89000.0</td>\n",
       "      <td>3800.0</td>\n",
       "      <td>0</td>\n",
       "      <td>9982000.0</td>\n",
       "      <td>1095000.0</td>\n",
       "      <td>425000.0</td>\n",
       "    </tr>\n",
       "    <tr>\n",
       "      <th>83050</th>\n",
       "      <td>33.0</td>\n",
       "      <td>M</td>\n",
       "      <td>2017</td>\n",
       "      <td>-175000.0</td>\n",
       "      <td>400.0</td>\n",
       "      <td>0</td>\n",
       "      <td>8242000.0</td>\n",
       "      <td>386000.0</td>\n",
       "      <td>289000.0</td>\n",
       "    </tr>\n",
       "    <tr>\n",
       "      <th>94281</th>\n",
       "      <td>39.0</td>\n",
       "      <td>F</td>\n",
       "      <td>2020</td>\n",
       "      <td>-683000.0</td>\n",
       "      <td>39100.0</td>\n",
       "      <td>0</td>\n",
       "      <td>6082000.0</td>\n",
       "      <td>10649000.0</td>\n",
       "      <td>0.0</td>\n",
       "    </tr>\n",
       "    <tr>\n",
       "      <th>98352</th>\n",
       "      <td>33.0</td>\n",
       "      <td>M</td>\n",
       "      <td>2018</td>\n",
       "      <td>-8265000.0</td>\n",
       "      <td>4300.0</td>\n",
       "      <td>1</td>\n",
       "      <td>0.0</td>\n",
       "      <td>690000.0</td>\n",
       "      <td>0.0</td>\n",
       "    </tr>\n",
       "  </tbody>\n",
       "</table>\n",
       "</div>"
      ],
      "text/plain": [
       "        age gender  year     refund      fee  has_paid   income_근로  \\\n",
       "10034  34.0      M  2015  -231000.0   8500.0         1   8989000.0   \n",
       "10624  25.0      F  2018    -7000.0    400.0         1   7508000.0   \n",
       "22506  32.0      F  2019    -5000.0    400.0         0   7118000.0   \n",
       "29515  41.0      F  2017   -10000.0    400.0         1  19718000.0   \n",
       "52648  26.0      F  2020  -397000.0   1300.0         0   8175000.0   \n",
       "52858  34.0      M  2017 -2328000.0    400.0         0  16759000.0   \n",
       "54256  48.0      F  2018  -948000.0   3000.0         1   8157000.0   \n",
       "55168  28.0      F  2020 -1658000.0   1700.0         0  10509000.0   \n",
       "57756  38.0      F  2017  -107000.0   4300.0         1  16619000.0   \n",
       "68881  33.0      M  2016  -322000.0    400.0         1         0.0   \n",
       "70198  28.0      M  2020  -583000.0    900.0         0   8389000.0   \n",
       "82203  32.0      M  2018   -89000.0   3800.0         0   9982000.0   \n",
       "83050  33.0      M  2017  -175000.0    400.0         0   8242000.0   \n",
       "94281  39.0      F  2020  -683000.0  39100.0         0   6082000.0   \n",
       "98352  33.0      M  2018 -8265000.0   4300.0         1         0.0   \n",
       "\n",
       "        income_사업  income_기타  \n",
       "10034   1714000.0        0.0  \n",
       "10624     28000.0        0.0  \n",
       "22506    259000.0        0.0  \n",
       "29515    162000.0   128000.0  \n",
       "52648    247000.0        0.0  \n",
       "52858     28000.0   441000.0  \n",
       "54256   3975000.0        0.0  \n",
       "55168    570000.0        0.0  \n",
       "57756    737000.0        0.0  \n",
       "68881     57000.0        0.0  \n",
       "70198    298000.0        0.0  \n",
       "82203   1095000.0   425000.0  \n",
       "83050    386000.0   289000.0  \n",
       "94281  10649000.0        0.0  \n",
       "98352    690000.0        0.0  "
      ]
     },
     "execution_count": 14,
     "metadata": {},
     "output_type": "execute_result"
    }
   ],
   "source": [
    "df[df['refund']<0]"
   ]
  },
  {
   "cell_type": "markdown",
   "metadata": {},
   "source": [
    "- 삼쩜삼 서비스 설명에 따르면 수수료를 결제 했는데 환급을 못받는 경우, 수수료는 다시 환불된다. 따라서 신경 쓰지 않아도 될 것으로 보인다.\n",
    "\n",
    "[떼인 세금 삼쩜삼%, 환급 ‘가능vs불가능’ 케이스](https://help.jobis.co/hc/ko/articles/900003046406-%EB%96%BC%EC%9D%B8-%EC%84%B8%EA%B8%88-%EC%82%BC%EC%A9%9C%EC%82%BC-%ED%99%98%EA%B8%89-%EA%B0%80%EB%8A%A5vs%EB%B6%88%EA%B0%80%EB%8A%A5-%EC%BC%80%EC%9D%B4%EC%8A%A4)"
   ]
  },
  {
   "cell_type": "markdown",
   "metadata": {},
   "source": [
    "## 각 칼럼들간의 상관관계"
   ]
  },
  {
   "cell_type": "code",
   "execution_count": 15,
   "metadata": {},
   "outputs": [
    {
     "data": {
      "text/html": [
       "<div>\n",
       "<style scoped>\n",
       "    .dataframe tbody tr th:only-of-type {\n",
       "        vertical-align: middle;\n",
       "    }\n",
       "\n",
       "    .dataframe tbody tr th {\n",
       "        vertical-align: top;\n",
       "    }\n",
       "\n",
       "    .dataframe thead th {\n",
       "        text-align: right;\n",
       "    }\n",
       "</style>\n",
       "<table border=\"1\" class=\"dataframe\">\n",
       "  <thead>\n",
       "    <tr style=\"text-align: right;\">\n",
       "      <th></th>\n",
       "      <th>age</th>\n",
       "      <th>year</th>\n",
       "      <th>refund</th>\n",
       "      <th>fee</th>\n",
       "      <th>has_paid</th>\n",
       "      <th>income_근로</th>\n",
       "      <th>income_사업</th>\n",
       "      <th>income_기타</th>\n",
       "    </tr>\n",
       "  </thead>\n",
       "  <tbody>\n",
       "    <tr>\n",
       "      <th>age</th>\n",
       "      <td>1.000000</td>\n",
       "      <td>-0.113500</td>\n",
       "      <td>0.078485</td>\n",
       "      <td>0.072135</td>\n",
       "      <td>-0.022918</td>\n",
       "      <td>0.217894</td>\n",
       "      <td>0.069412</td>\n",
       "      <td>0.054130</td>\n",
       "    </tr>\n",
       "    <tr>\n",
       "      <th>year</th>\n",
       "      <td>-0.113500</td>\n",
       "      <td>1.000000</td>\n",
       "      <td>0.140977</td>\n",
       "      <td>0.169537</td>\n",
       "      <td>-0.136060</td>\n",
       "      <td>0.124501</td>\n",
       "      <td>0.153693</td>\n",
       "      <td>0.036665</td>\n",
       "    </tr>\n",
       "    <tr>\n",
       "      <th>refund</th>\n",
       "      <td>0.078485</td>\n",
       "      <td>0.140977</td>\n",
       "      <td>1.000000</td>\n",
       "      <td>0.969427</td>\n",
       "      <td>-0.094061</td>\n",
       "      <td>-0.079797</td>\n",
       "      <td>0.610592</td>\n",
       "      <td>0.507695</td>\n",
       "    </tr>\n",
       "    <tr>\n",
       "      <th>fee</th>\n",
       "      <td>0.072135</td>\n",
       "      <td>0.169537</td>\n",
       "      <td>0.969427</td>\n",
       "      <td>1.000000</td>\n",
       "      <td>-0.117695</td>\n",
       "      <td>-0.079523</td>\n",
       "      <td>0.601112</td>\n",
       "      <td>0.531414</td>\n",
       "    </tr>\n",
       "    <tr>\n",
       "      <th>has_paid</th>\n",
       "      <td>-0.022918</td>\n",
       "      <td>-0.136060</td>\n",
       "      <td>-0.094061</td>\n",
       "      <td>-0.117695</td>\n",
       "      <td>1.000000</td>\n",
       "      <td>0.048247</td>\n",
       "      <td>-0.014917</td>\n",
       "      <td>-0.044802</td>\n",
       "    </tr>\n",
       "    <tr>\n",
       "      <th>income_근로</th>\n",
       "      <td>0.217894</td>\n",
       "      <td>0.124501</td>\n",
       "      <td>-0.079797</td>\n",
       "      <td>-0.079523</td>\n",
       "      <td>0.048247</td>\n",
       "      <td>1.000000</td>\n",
       "      <td>-0.086807</td>\n",
       "      <td>0.098044</td>\n",
       "    </tr>\n",
       "    <tr>\n",
       "      <th>income_사업</th>\n",
       "      <td>0.069412</td>\n",
       "      <td>0.153693</td>\n",
       "      <td>0.610592</td>\n",
       "      <td>0.601112</td>\n",
       "      <td>-0.014917</td>\n",
       "      <td>-0.086807</td>\n",
       "      <td>1.000000</td>\n",
       "      <td>-0.049067</td>\n",
       "    </tr>\n",
       "    <tr>\n",
       "      <th>income_기타</th>\n",
       "      <td>0.054130</td>\n",
       "      <td>0.036665</td>\n",
       "      <td>0.507695</td>\n",
       "      <td>0.531414</td>\n",
       "      <td>-0.044802</td>\n",
       "      <td>0.098044</td>\n",
       "      <td>-0.049067</td>\n",
       "      <td>1.000000</td>\n",
       "    </tr>\n",
       "  </tbody>\n",
       "</table>\n",
       "</div>"
      ],
      "text/plain": [
       "                age      year    refund       fee  has_paid  income_근로  \\\n",
       "age        1.000000 -0.113500  0.078485  0.072135 -0.022918   0.217894   \n",
       "year      -0.113500  1.000000  0.140977  0.169537 -0.136060   0.124501   \n",
       "refund     0.078485  0.140977  1.000000  0.969427 -0.094061  -0.079797   \n",
       "fee        0.072135  0.169537  0.969427  1.000000 -0.117695  -0.079523   \n",
       "has_paid  -0.022918 -0.136060 -0.094061 -0.117695  1.000000   0.048247   \n",
       "income_근로  0.217894  0.124501 -0.079797 -0.079523  0.048247   1.000000   \n",
       "income_사업  0.069412  0.153693  0.610592  0.601112 -0.014917  -0.086807   \n",
       "income_기타  0.054130  0.036665  0.507695  0.531414 -0.044802   0.098044   \n",
       "\n",
       "           income_사업  income_기타  \n",
       "age         0.069412   0.054130  \n",
       "year        0.153693   0.036665  \n",
       "refund      0.610592   0.507695  \n",
       "fee         0.601112   0.531414  \n",
       "has_paid   -0.014917  -0.044802  \n",
       "income_근로  -0.086807   0.098044  \n",
       "income_사업   1.000000  -0.049067  \n",
       "income_기타  -0.049067   1.000000  "
      ]
     },
     "execution_count": 15,
     "metadata": {},
     "output_type": "execute_result"
    }
   ],
   "source": [
    "df.corr()"
   ]
  },
  {
   "cell_type": "code",
   "execution_count": 16,
   "metadata": {},
   "outputs": [
    {
     "data": {
      "text/plain": [
       "<AxesSubplot:>"
      ]
     },
     "execution_count": 16,
     "metadata": {},
     "output_type": "execute_result"
    },
    {
     "data": {
      "image/png": "[encoded data removed]",
      "text/plain": [
       "<Figure size 720x576 with 2 Axes>"
      ]
     },
     "metadata": {
      "needs_background": "light"
     },
     "output_type": "display_data"
    }
   ],
   "source": [
    "plt.figure(figsize=(10,8))\n",
    "sns.heatmap(data = df.corr(), annot=True, cmap='Reds',vmin=-1,vmax=1)"
   ]
  },
  {
   "cell_type": "markdown",
   "metadata": {},
   "source": [
    "- refund(예상환금액)과 상관관계가 있는 요소: fee(수수료), 사업소득, 기타소득\n",
    "- has_paid(수수료 결제여부)와 그나마 상관관계가 있는 요소: year, fee"
   ]
  },
  {
   "cell_type": "code",
   "execution_count": 17,
   "metadata": {},
   "outputs": [],
   "source": [
    "# 예상환급액 대비 수수료 칼럼 추가\n",
    "df['예상환급액_대비_수수료(%)'] = df['fee'] / df['refund'] * 100"
   ]
  },
  {
   "cell_type": "code",
   "execution_count": 18,
   "metadata": {},
   "outputs": [],
   "source": [
    "# 소득 합계 칼럼 추가\n",
    "df['income_합계'] = df['income_근로'] + df['income_사업'] + df['income_기타']"
   ]
  },
  {
   "cell_type": "markdown",
   "metadata": {},
   "source": [
    "# segment 나누기 1) 연령별"
   ]
  },
  {
   "cell_type": "markdown",
   "metadata": {},
   "source": [
    "### 연령별 income_합계를 시각화하여 연령대별 소득구간으로 묶어보자."
   ]
  },
  {
   "cell_type": "code",
   "execution_count": 19,
   "metadata": {},
   "outputs": [
    {
     "data": {
      "text/plain": [
       "<AxesSubplot:xlabel='age', ylabel='income_합계'>"
      ]
     },
     "execution_count": 19,
     "metadata": {},
     "output_type": "execute_result"
    },
    {
     "data": {
      "image/png": "[encoded data removed]",
      "text/plain": [
       "<Figure size 720x360 with 1 Axes>"
      ]
     },
     "metadata": {
      "needs_background": "light"
     },
     "output_type": "display_data"
    }
   ],
   "source": [
    "# 10대\n",
    "plt.figure(figsize=(10,5))\n",
    "sns.boxplot(data = df[df['age']<20], x ='age',y='income_합계')"
   ]
  },
  {
   "cell_type": "code",
   "execution_count": 20,
   "metadata": {},
   "outputs": [
    {
     "data": {
      "text/plain": [
       "<AxesSubplot:xlabel='age', ylabel='income_합계'>"
      ]
     },
     "execution_count": 20,
     "metadata": {},
     "output_type": "execute_result"
    },
    {
     "data": {
      "image/png": "[encoded data removed]",
      "text/plain": [
       "<Figure size 720x360 with 1 Axes>"
      ]
     },
     "metadata": {
      "needs_background": "light"
     },
     "output_type": "display_data"
    }
   ],
   "source": [
    "# 20대~30대\n",
    "plt.figure(figsize=(10,5))\n",
    "sns.boxplot(data = df[(df['age'] >= 20) & (df['age']<40)], x ='age',y='income_합계')"
   ]
  },
  {
   "cell_type": "code",
   "execution_count": 21,
   "metadata": {},
   "outputs": [
    {
     "data": {
      "text/plain": [
       "<AxesSubplot:xlabel='age', ylabel='income_합계'>"
      ]
     },
     "execution_count": 21,
     "metadata": {},
     "output_type": "execute_result"
    },
    {
     "data": {
      "image/png": "[encoded data removed]",
      "text/plain": [
       "<Figure size 720x360 with 1 Axes>"
      ]
     },
     "metadata": {
      "needs_background": "light"
     },
     "output_type": "display_data"
    }
   ],
   "source": [
    "# 40대\n",
    "plt.figure(figsize=(10,5))\n",
    "sns.boxplot(data = df[(df['age'] >= 40) & (df['age']<50)], x ='age',y='income_합계')"
   ]
  },
  {
   "cell_type": "code",
   "execution_count": 22,
   "metadata": {},
   "outputs": [
    {
     "data": {
      "text/plain": [
       "<AxesSubplot:xlabel='age', ylabel='income_합계'>"
      ]
     },
     "execution_count": 22,
     "metadata": {},
     "output_type": "execute_result"
    },
    {
     "data": {
      "image/png": "[encoded data removed]",
      "text/plain": [
       "<Figure size 720x360 with 1 Axes>"
      ]
     },
     "metadata": {
      "needs_background": "light"
     },
     "output_type": "display_data"
    }
   ],
   "source": [
    "# 40대~50대\n",
    "plt.figure(figsize=(10,5))\n",
    "sns.boxplot(data = df[(df['age'] >= 40) & (df['age']<60)], x ='age',y='income_합계')"
   ]
  },
  {
   "cell_type": "code",
   "execution_count": 23,
   "metadata": {},
   "outputs": [
    {
     "data": {
      "text/plain": [
       "<AxesSubplot:xlabel='age', ylabel='income_합계'>"
      ]
     },
     "execution_count": 23,
     "metadata": {},
     "output_type": "execute_result"
    },
    {
     "data": {
      "image/png": "[encoded data removed]",
      "text/plain": [
       "<Figure size 720x360 with 1 Axes>"
      ]
     },
     "metadata": {
      "needs_background": "light"
     },
     "output_type": "display_data"
    }
   ],
   "source": [
    "# 60대~80대\n",
    "plt.figure(figsize=(10,5))\n",
    "sns.boxplot(data = df[(df['age'] >= 60) & (df['age']<90)], x ='age',y='income_합계')"
   ]
  },
  {
   "cell_type": "code",
   "execution_count": 24,
   "metadata": {},
   "outputs": [],
   "source": [
    "def age_category(age):\n",
    "    category =''\n",
    "    if age < 20:\n",
    "        category = '10대'\n",
    "    elif 20 <= age <= 23:\n",
    "        category = '20대초반'\n",
    "    elif 24 <= age <= 26:\n",
    "        category = '20대중반'\n",
    "    elif 27 <= age <= 29:\n",
    "        category = '20대후반'\n",
    "    elif 30 <= age <= 33:\n",
    "        category = '30대초반'\n",
    "    elif 34 <= age <= 36:\n",
    "        category = '30대중반'\n",
    "    elif 37 <= age <= 39:\n",
    "        category = '30대후반'\n",
    "    elif age < 50:\n",
    "        category = '40대'\n",
    "    elif age < 60:\n",
    "        category = '50대'\n",
    "    elif age < 70:\n",
    "        category = '60대'\n",
    "    else:\n",
    "        category = '70대이상'\n",
    "    return category"
   ]
  },
  {
   "cell_type": "code",
   "execution_count": 25,
   "metadata": {},
   "outputs": [],
   "source": [
    "df['연령대'] = df['age'].apply(age_category)"
   ]
  },
  {
   "cell_type": "markdown",
   "metadata": {},
   "source": [
    "## 연령대별 결제비율"
   ]
  },
  {
   "cell_type": "code",
   "execution_count": 26,
   "metadata": {},
   "outputs": [
    {
     "data": {
      "text/html": [
       "<div>\n",
       "<style scoped>\n",
       "    .dataframe tbody tr th:only-of-type {\n",
       "        vertical-align: middle;\n",
       "    }\n",
       "\n",
       "    .dataframe tbody tr th {\n",
       "        vertical-align: top;\n",
       "    }\n",
       "\n",
       "    .dataframe thead th {\n",
       "        text-align: right;\n",
       "    }\n",
       "</style>\n",
       "<table border=\"1\" class=\"dataframe\">\n",
       "  <thead>\n",
       "    <tr style=\"text-align: right;\">\n",
       "      <th></th>\n",
       "      <th>has_paid</th>\n",
       "    </tr>\n",
       "    <tr>\n",
       "      <th>연령대</th>\n",
       "      <th></th>\n",
       "    </tr>\n",
       "  </thead>\n",
       "  <tbody>\n",
       "    <tr>\n",
       "      <th>10대</th>\n",
       "      <td>0.692729</td>\n",
       "    </tr>\n",
       "    <tr>\n",
       "      <th>20대중반</th>\n",
       "      <td>0.652642</td>\n",
       "    </tr>\n",
       "    <tr>\n",
       "      <th>20대초반</th>\n",
       "      <td>0.654712</td>\n",
       "    </tr>\n",
       "    <tr>\n",
       "      <th>20대후반</th>\n",
       "      <td>0.653160</td>\n",
       "    </tr>\n",
       "    <tr>\n",
       "      <th>30대중반</th>\n",
       "      <td>0.622094</td>\n",
       "    </tr>\n",
       "    <tr>\n",
       "      <th>30대초반</th>\n",
       "      <td>0.641802</td>\n",
       "    </tr>\n",
       "    <tr>\n",
       "      <th>30대후반</th>\n",
       "      <td>0.632556</td>\n",
       "    </tr>\n",
       "    <tr>\n",
       "      <th>40대</th>\n",
       "      <td>0.610124</td>\n",
       "    </tr>\n",
       "    <tr>\n",
       "      <th>50대</th>\n",
       "      <td>0.617035</td>\n",
       "    </tr>\n",
       "    <tr>\n",
       "      <th>60대</th>\n",
       "      <td>0.675565</td>\n",
       "    </tr>\n",
       "    <tr>\n",
       "      <th>70대이상</th>\n",
       "      <td>0.800000</td>\n",
       "    </tr>\n",
       "  </tbody>\n",
       "</table>\n",
       "</div>"
      ],
      "text/plain": [
       "       has_paid\n",
       "연령대            \n",
       "10대    0.692729\n",
       "20대중반  0.652642\n",
       "20대초반  0.654712\n",
       "20대후반  0.653160\n",
       "30대중반  0.622094\n",
       "30대초반  0.641802\n",
       "30대후반  0.632556\n",
       "40대    0.610124\n",
       "50대    0.617035\n",
       "60대    0.675565\n",
       "70대이상  0.800000"
      ]
     },
     "execution_count": 26,
     "metadata": {},
     "output_type": "execute_result"
    }
   ],
   "source": [
    "pd.DataFrame(df.groupby('연령대')['has_paid'].mean())"
   ]
  },
  {
   "cell_type": "code",
   "execution_count": 27,
   "metadata": {},
   "outputs": [
    {
     "data": {
      "text/plain": [
       "<AxesSubplot:xlabel='연령대', ylabel='has_paid'>"
      ]
     },
     "execution_count": 27,
     "metadata": {},
     "output_type": "execute_result"
    },
    {
     "data": {
      "image/png": "[encoded data removed]",
      "text/plain": [
       "<Figure size 720x360 with 1 Axes>"
      ]
     },
     "metadata": {
      "needs_background": "light"
     },
     "output_type": "display_data"
    }
   ],
   "source": [
    "plt.figure(figsize=(10,5))\n",
    "sns.barplot(data = pd.DataFrame(df.groupby('연령대')['has_paid'].mean()), \n",
    "            x=pd.DataFrame(df.groupby('연령대')['has_paid'].mean()).index,\n",
    "            y= 'has_paid',\n",
    "           order = ['10대','20대초반','20대중반','20대후반','30대초반','30대중반','30대후반','40대','50대','60대','70대이상'])"
   ]
  },
  {
   "cell_type": "markdown",
   "metadata": {},
   "source": [
    "- 70대 이상을 제외한 대부분 60~70% 결제율을 보인다.\n",
    "- 그러나 70대 이상은 80%의 결제율을 보이지만, 데이터의 수가 매우 적으므로 나이대별로 큰 차이를 보이지는 않는다."
   ]
  },
  {
   "cell_type": "markdown",
   "metadata": {},
   "source": [
    "# Segment 나누기 2) 환급 예상 금액별"
   ]
  },
  {
   "cell_type": "code",
   "execution_count": 28,
   "metadata": {},
   "outputs": [
    {
     "data": {
      "text/plain": [
       "count    1.000000e+05\n",
       "mean     2.081422e+05\n",
       "std      3.071744e+05\n",
       "min     -8.265000e+06\n",
       "25%      3.300000e+04\n",
       "50%      9.900000e+04\n",
       "75%      2.540000e+05\n",
       "max      7.725000e+06\n",
       "Name: refund, dtype: float64"
      ]
     },
     "execution_count": 28,
     "metadata": {},
     "output_type": "execute_result"
    }
   ],
   "source": [
    "df['refund'].describe()"
   ]
  },
  {
   "cell_type": "code",
   "execution_count": 29,
   "metadata": {},
   "outputs": [
    {
     "data": {
      "text/plain": [
       "0          (999.999, 11000.0]\n",
       "1         (99000.0, 144000.0]\n",
       "2        (211000.0, 312000.0]\n",
       "3        (312000.0, 585000.0]\n",
       "4         (99000.0, 144000.0]\n",
       "                 ...         \n",
       "99995    (211000.0, 312000.0]\n",
       "99996      (66000.0, 99000.0]\n",
       "99997      (999.999, 11000.0]\n",
       "99998      (24000.0, 42000.0]\n",
       "99999      (24000.0, 42000.0]\n",
       "Name: refund, Length: 99924, dtype: category\n",
       "Categories (10, interval[float64]): [(999.999, 11000.0] < (11000.0, 24000.0] < (24000.0, 42000.0] < (42000.0, 66000.0] ... (144000.0, 211000.0] < (211000.0, 312000.0] < (312000.0, 585000.0] < (585000.0, 7725000.0]]"
      ]
     },
     "execution_count": 29,
     "metadata": {},
     "output_type": "execute_result"
    }
   ],
   "source": [
    "# 10개의 구간으로 나누기\n",
    "pd.qcut(df[df['refund']>0]['refund'],10)"
   ]
  },
  {
   "cell_type": "code",
   "execution_count": 30,
   "metadata": {},
   "outputs": [],
   "source": [
    "df['refund_구간'] = pd.qcut(df[df['refund']>0]['refund'],10)"
   ]
  },
  {
   "cell_type": "code",
   "execution_count": 31,
   "metadata": {},
   "outputs": [
    {
     "data": {
      "text/plain": [
       "-0.0          61\n",
       "-683000.0      1\n",
       "-2328000.0     1\n",
       "-89000.0       1\n",
       "-231000.0      1\n",
       "-583000.0      1\n",
       "-1658000.0     1\n",
       "-107000.0      1\n",
       "-175000.0      1\n",
       "-8265000.0     1\n",
       "-948000.0      1\n",
       "-322000.0      1\n",
       "-397000.0      1\n",
       "-10000.0       1\n",
       "-5000.0        1\n",
       "-7000.0        1\n",
       "Name: refund, dtype: int64"
      ]
     },
     "execution_count": 31,
     "metadata": {},
     "output_type": "execute_result"
    }
   ],
   "source": [
    "df[df['refund_구간'].isna()]['refund'].value_counts()"
   ]
  },
  {
   "cell_type": "code",
   "execution_count": 32,
   "metadata": {},
   "outputs": [
    {
     "data": {
      "text/plain": [
       "refund_구간\n",
       "(999.999, 11000.0]       10836\n",
       "(11000.0, 24000.0]        9161\n",
       "(24000.0, 42000.0]       10345\n",
       "(42000.0, 66000.0]        9828\n",
       "(66000.0, 99000.0]       10015\n",
       "(99000.0, 144000.0]       9921\n",
       "(144000.0, 211000.0]      9876\n",
       "(211000.0, 312000.0]      9972\n",
       "(312000.0, 585000.0]      9982\n",
       "(585000.0, 7725000.0]     9988\n",
       "Name: has_paid, dtype: int64"
      ]
     },
     "execution_count": 32,
     "metadata": {},
     "output_type": "execute_result"
    }
   ],
   "source": [
    "df.groupby('refund_구간')['has_paid'].count()"
   ]
  },
  {
   "cell_type": "code",
   "execution_count": 33,
   "metadata": {},
   "outputs": [
    {
     "data": {
      "text/plain": [
       "<AxesSubplot:xlabel='refund_구간', ylabel='has_paid'>"
      ]
     },
     "execution_count": 33,
     "metadata": {},
     "output_type": "execute_result"
    },
    {
     "data": {
      "image/png": "[encoded data removed]",
      "text/plain": [
       "<Figure size 1440x576 with 1 Axes>"
      ]
     },
     "metadata": {
      "needs_background": "light"
     },
     "output_type": "display_data"
    }
   ],
   "source": [
    "plt.figure(figsize=(20,8))\n",
    "sns.barplot(data = df, \n",
    "            x='refund_구간',\n",
    "            y= 'has_paid')"
   ]
  },
  {
   "cell_type": "markdown",
   "metadata": {},
   "source": [
    "- 66,000원을 기준으로 수수료 결제율이 감소하는 추세를 보인다.\n",
    "- **환급 예상액 0원~ 11,000원 구간의 10836명과 585,000원~7,725,000원 구간의 9988명의 경우 수수료 결제율이 낮으므로 이들을 대상으로 promotion을 진행할 필요가 있다.**"
   ]
  },
  {
   "cell_type": "markdown",
   "metadata": {},
   "source": [
    "# Segment 나누기 3) 결제수수료별"
   ]
  },
  {
   "cell_type": "code",
   "execution_count": 34,
   "metadata": {},
   "outputs": [
    {
     "data": {
      "text/plain": [
       "count    100000.000000\n",
       "mean       7247.641000\n",
       "std       11926.896979\n",
       "min         400.000000\n",
       "10%         400.000000\n",
       "20%         400.000000\n",
       "30%         400.000000\n",
       "40%        1300.000000\n",
       "50%        4300.000000\n",
       "60%        4700.000000\n",
       "70%        8100.000000\n",
       "80%       11100.000000\n",
       "90%       20800.000000\n",
       "max      307000.000000\n",
       "Name: fee, dtype: float64"
      ]
     },
     "execution_count": 34,
     "metadata": {},
     "output_type": "execute_result"
    }
   ],
   "source": [
    "df['fee'].describe(percentiles=[0.1, 0.2, 0.3, 0.4, 0.5, 0.6, 0.7, 0.8, 0.9])"
   ]
  },
  {
   "cell_type": "code",
   "execution_count": 35,
   "metadata": {},
   "outputs": [],
   "source": [
    "# 임의의 9개의 구간으로 나누기\n",
    "def fee_category(fee):\n",
    "    category = ''\n",
    "    if 0 < fee <= 400:\n",
    "        category = '0~400원'\n",
    "    elif 400 < fee <= 1300:\n",
    "        category='400~1,300원'\n",
    "    elif 1300 < fee <= 4300:\n",
    "        category = '1,300~4,300원'\n",
    "    elif 4300 < fee <= 8100:\n",
    "        category = '4,300~8,100원'\n",
    "    elif 8100 < fee <= 11100:\n",
    "        category = '8,100~11,100원'\n",
    "    elif 11100 < fee <= 20800:\n",
    "        category = '11,100~20,800원'\n",
    "    elif 20800 < fee <= 50000:\n",
    "        category = '20,800~50,000원'\n",
    "    elif 50000 < fee <= 100000:\n",
    "        category = '50,000~100,000원'\n",
    "    elif 100000 < fee <= 307000:\n",
    "        category = '100,000~307,000원'\n",
    "    return category"
   ]
  },
  {
   "cell_type": "code",
   "execution_count": 36,
   "metadata": {},
   "outputs": [],
   "source": [
    "df['fee_구간'] = df['fee'].apply(fee_category)"
   ]
  },
  {
   "cell_type": "code",
   "execution_count": 37,
   "metadata": {},
   "outputs": [
    {
     "data": {
      "text/plain": [
       "0~400원              33955\n",
       "1,300~4,300원        15668\n",
       "4,300~8,100원        10948\n",
       "400~1,300원          10307\n",
       "11,100~20,800원      10078\n",
       "8,100~11,100원        9224\n",
       "20,800~50,000원       8835\n",
       "50,000~100,000원       824\n",
       "100,000~307,000원      161\n",
       "Name: fee_구간, dtype: int64"
      ]
     },
     "execution_count": 37,
     "metadata": {},
     "output_type": "execute_result"
    }
   ],
   "source": [
    "df['fee_구간'].value_counts()"
   ]
  },
  {
   "cell_type": "code",
   "execution_count": 38,
   "metadata": {},
   "outputs": [
    {
     "data": {
      "text/plain": [
       "<AxesSubplot:xlabel='fee_구간', ylabel='has_paid'>"
      ]
     },
     "execution_count": 38,
     "metadata": {},
     "output_type": "execute_result"
    },
    {
     "data": {
      "image/png": "[encoded data removed]",
      "text/plain": [
       "<Figure size 1080x360 with 1 Axes>"
      ]
     },
     "metadata": {
      "needs_background": "light"
     },
     "output_type": "display_data"
    }
   ],
   "source": [
    "plt.figure(figsize=(15,5))\n",
    "sns.barplot(data = df, \n",
    "            x='fee_구간',\n",
    "            y= 'has_paid',\n",
    "           order = ['0~400원','400~1,300원','1,300~4,300원','4,300~8,100원','8,100~11,100원','11,100~20,800원',\n",
    "                   '20,800~50,000원','50,000~100,000원','100,000~307,000원'])"
   ]
  },
  {
   "cell_type": "code",
   "execution_count": 39,
   "metadata": {},
   "outputs": [
    {
     "data": {
      "text/plain": [
       "(19898, 14)"
      ]
     },
     "execution_count": 39,
     "metadata": {},
     "output_type": "execute_result"
    }
   ],
   "source": [
    "df[df['fee']>11100].shape"
   ]
  },
  {
   "cell_type": "markdown",
   "metadata": {},
   "source": [
    "- 수수료가 11,100원을 넘어가면서 수수료 결제율이 지속적으로 감소한다.\n",
    "#### 수수료와 수수료 결제율은 상관관계가 있다."
   ]
  },
  {
   "cell_type": "markdown",
   "metadata": {},
   "source": [
    "# Segment 나누기 4) 예상환급액 대비 수수료별"
   ]
  },
  {
   "cell_type": "code",
   "execution_count": 126,
   "metadata": {},
   "outputs": [
    {
     "data": {
      "text/plain": [
       "0          (4.886, inf]\n",
       "1        (1.688, 1.977]\n",
       "2        (3.959, 4.886]\n",
       "3        (3.922, 3.959]\n",
       "4        (3.333, 3.839]\n",
       "              ...      \n",
       "99995    (3.922, 3.959]\n",
       "99996     (1.29, 1.688]\n",
       "99997    (3.959, 4.886]\n",
       "99998      (-inf, 1.29]\n",
       "99999      (-inf, 1.29]\n",
       "Name: 예상환급액_대비_수수료(%), Length: 100000, dtype: category\n",
       "Categories (10, interval[float64]): [(-inf, 1.29] < (1.29, 1.688] < (1.688, 1.977] < (1.977, 2.622] ... (3.839, 3.922] < (3.922, 3.959] < (3.959, 4.886] < (4.886, inf]]"
      ]
     },
     "execution_count": 126,
     "metadata": {},
     "output_type": "execute_result"
    }
   ],
   "source": [
    "pd.qcut(df['예상환급액_대비_수수료(%)'],10)"
   ]
  },
  {
   "cell_type": "code",
   "execution_count": 153,
   "metadata": {},
   "outputs": [],
   "source": [
    "# 임의의 구간으로 나누기\n",
    "def 수수료비율_category(수수료비율):\n",
    "    category = ''\n",
    "    if 수수료비율 <= 0:\n",
    "        category = '0%'\n",
    "    elif 0 < 수수료비율 <= 0.5:\n",
    "        category='0~0.5%'\n",
    "    elif 0.5 < 수수료비율 <= 1:\n",
    "        category = '0.5~1%'\n",
    "    elif 1 < 수수료비율 <= 1.5:\n",
    "        category = '1~1.5%'\n",
    "    elif 1.5 < 수수료비율 <= 2:\n",
    "        category = '1.5~2%'\n",
    "    elif 2 < 수수료비율 <= 2.5:\n",
    "        category = '2~2.5%'\n",
    "    elif 2.5 < 수수료비율 <= 3:\n",
    "        category = '2.5~3%'\n",
    "    elif 3 < 수수료비율 <= 3.5:\n",
    "        category = '3~3.5%'\n",
    "    elif 3.5 < 수수료비율 <= 4:\n",
    "        category = '3.5~4%'\n",
    "    elif 4 < 수수료비율 <= 4.5:\n",
    "        category = '4~4.5%'\n",
    "    elif 4.5 < 수수료비율 <= 5:\n",
    "        category = '4.5~5%'  \n",
    "    else:\n",
    "        category = '5% 이상' \n",
    "    return category"
   ]
  },
  {
   "cell_type": "code",
   "execution_count": 154,
   "metadata": {},
   "outputs": [],
   "source": [
    "df['예상환급액_대비_수수료(%)_구간'] = df['예상환급액_대비_수수료(%)'].apply(수수료비율_category)"
   ]
  },
  {
   "cell_type": "code",
   "execution_count": 155,
   "metadata": {},
   "outputs": [
    {
     "data": {
      "text/plain": [
       "3.5~4%    35633\n",
       "1.5~2%    17048\n",
       "5% 이상      8762\n",
       "1~1.5%     8642\n",
       "2.5~3%     8552\n",
       "2~2.5%     7791\n",
       "0.5~1%     5464\n",
       "3~3.5%     3848\n",
       "4~4.5%     2225\n",
       "4.5~5%     1971\n",
       "0%           64\n",
       "Name: 예상환급액_대비_수수료(%)_구간, dtype: int64"
      ]
     },
     "execution_count": 155,
     "metadata": {},
     "output_type": "execute_result"
    }
   ],
   "source": [
    "df['예상환급액_대비_수수료(%)_구간'].value_counts()"
   ]
  },
  {
   "cell_type": "code",
   "execution_count": 156,
   "metadata": {},
   "outputs": [
    {
     "data": {
      "text/plain": [
       "Index(['0%', '0.5~1%', '1.5~2%', '1~1.5%', '2.5~3%', '2~2.5%', '3.5~4%',\n",
       "       '3~3.5%', '4.5~5%', '4~4.5%', '5% 이상'],\n",
       "      dtype='object')"
      ]
     },
     "execution_count": 156,
     "metadata": {},
     "output_type": "execute_result"
    }
   ],
   "source": [
    "df['예상환급액_대비_수수료(%)_구간'].value_counts().sort_index().index"
   ]
  },
  {
   "cell_type": "code",
   "execution_count": 157,
   "metadata": {},
   "outputs": [
    {
     "data": {
      "text/plain": [
       "<AxesSubplot:xlabel='예상환급액_대비_수수료(%)_구간', ylabel='has_paid'>"
      ]
     },
     "execution_count": 157,
     "metadata": {},
     "output_type": "execute_result"
    },
    {
     "data": {
      "image/png": "[encoded data removed]",
      "text/plain": [
       "<Figure size 1080x360 with 1 Axes>"
      ]
     },
     "metadata": {
      "needs_background": "light"
     },
     "output_type": "display_data"
    }
   ],
   "source": [
    "plt.figure(figsize=(15,5))\n",
    "sns.barplot(data = df, \n",
    "            x='예상환급액_대비_수수료(%)_구간',\n",
    "            y= 'has_paid',\n",
    "           order = df['예상환급액_대비_수수료(%)_구간'].value_counts().sort_index().index)"
   ]
  },
  {
   "cell_type": "markdown",
   "metadata": {},
   "source": [
    "- 예상환급액 대비 수수료가 3.5%~4%인 경우가 가장 많은 비중을 차지하는데, 가장 수수료 결제비율이 낮다.\n",
    "#### 대체로 결제여부는 예상환급액 대비 수수료 비율보다는, \"절대적인 수수료 액수 그 자체\"에 영향을 더 많이 받는다."
   ]
  },
  {
   "cell_type": "markdown",
   "metadata": {},
   "source": [
    "# Segment 나누기 5) 근로소득별"
   ]
  },
  {
   "cell_type": "code",
   "execution_count": 40,
   "metadata": {},
   "outputs": [
    {
     "data": {
      "text/plain": [
       "count    1.000000e+05\n",
       "mean     2.623921e+06\n",
       "std      5.260655e+06\n",
       "min      0.000000e+00\n",
       "10%      0.000000e+00\n",
       "20%      0.000000e+00\n",
       "30%      0.000000e+00\n",
       "40%      0.000000e+00\n",
       "50%      0.000000e+00\n",
       "60%      0.000000e+00\n",
       "70%      1.720000e+06\n",
       "80%      4.649000e+06\n",
       "90%      9.420000e+06\n",
       "max      1.823350e+08\n",
       "Name: income_근로, dtype: float64"
      ]
     },
     "execution_count": 40,
     "metadata": {},
     "output_type": "execute_result"
    }
   ],
   "source": [
    "df['income_근로'].describe(percentiles = [0.1, 0.2, 0.3, 0.4, 0.5, 0.6, 0.7, 0.8, 0.9])"
   ]
  },
  {
   "cell_type": "code",
   "execution_count": 41,
   "metadata": {},
   "outputs": [],
   "source": [
    "# 임의의 구간으로 나누기\n",
    "def income_근로_category(income_근로):\n",
    "    category = ''\n",
    "    if income_근로 == 0:\n",
    "        category = '0원'\n",
    "    elif 0 < income_근로 <= 100000:\n",
    "        category='0~100,000원'\n",
    "    elif 100000 < income_근로 <= 1000000:\n",
    "        category = '100,000~1,000,000원'\n",
    "    elif 1000000 < income_근로 <= 5000000:\n",
    "        category = '1,000,000~5,000,000원'\n",
    "    elif 5000000 < income_근로 <= 10000000:\n",
    "        category = '5,000,000~10,000,000원'\n",
    "    elif 10000000 < income_근로 <= 100000000:\n",
    "        category = '10,000,000~100,000,000원'\n",
    "    elif 100000000 < income_근로 <= 200000000:\n",
    "        category = '100,000,000~200,000,000원'\n",
    "    return category"
   ]
  },
  {
   "cell_type": "code",
   "execution_count": 42,
   "metadata": {},
   "outputs": [],
   "source": [
    "df['근로소득_구간'] = df['income_근로'].apply(income_근로_category)"
   ]
  },
  {
   "cell_type": "code",
   "execution_count": 43,
   "metadata": {},
   "outputs": [
    {
     "data": {
      "text/plain": [
       "0원                          60108\n",
       "1,000,000~5,000,000원        14680\n",
       "5,000,000~10,000,000원       10155\n",
       "10,000,000~100,000,000원      8977\n",
       "100,000~1,000,000원           5507\n",
       "0~100,000원                    566\n",
       "100,000,000~200,000,000원        7\n",
       "Name: 근로소득_구간, dtype: int64"
      ]
     },
     "execution_count": 43,
     "metadata": {},
     "output_type": "execute_result"
    }
   ],
   "source": [
    "df['근로소득_구간'].value_counts()"
   ]
  },
  {
   "cell_type": "code",
   "execution_count": 44,
   "metadata": {},
   "outputs": [
    {
     "data": {
      "text/plain": [
       "<AxesSubplot:xlabel='근로소득_구간', ylabel='has_paid'>"
      ]
     },
     "execution_count": 44,
     "metadata": {},
     "output_type": "execute_result"
    },
    {
     "data": {
      "image/png": "[encoded data removed]",
      "text/plain": [
       "<Figure size 1080x360 with 1 Axes>"
      ]
     },
     "metadata": {
      "needs_background": "light"
     },
     "output_type": "display_data"
    }
   ],
   "source": [
    "plt.figure(figsize=(15,5))\n",
    "sns.barplot(data = df, \n",
    "            x='근로소득_구간',\n",
    "            y= 'has_paid',\n",
    "           order = ['0원','0~100,000원','100,000~1,000,000원','1,000,000~5,000,000원',\n",
    "                    '5,000,000~10,000,000원','100,000,000~200,000,000원'])"
   ]
  },
  {
   "cell_type": "markdown",
   "metadata": {},
   "source": [
    "- 근로소득과 수수료 결제율은 상관이 없어보인다."
   ]
  },
  {
   "cell_type": "markdown",
   "metadata": {},
   "source": [
    "# Segment 나누기 6) 사업소득별"
   ]
  },
  {
   "cell_type": "code",
   "execution_count": 45,
   "metadata": {},
   "outputs": [
    {
     "data": {
      "text/plain": [
       "0            (31000.0, 328000.0]\n",
       "1              (-0.001, 31000.0]\n",
       "2        (1235000.0, 39934000.0]\n",
       "3        (1235000.0, 39934000.0]\n",
       "4          (328000.0, 1235000.0]\n",
       "                  ...           \n",
       "99995          (-0.001, 31000.0]\n",
       "99996      (328000.0, 1235000.0]\n",
       "99997        (31000.0, 328000.0]\n",
       "99998        (31000.0, 328000.0]\n",
       "99999        (31000.0, 328000.0]\n",
       "Name: income_사업, Length: 100000, dtype: category\n",
       "Categories (4, interval[float64]): [(-0.001, 31000.0] < (31000.0, 328000.0] < (328000.0, 1235000.0] < (1235000.0, 39934000.0]]"
      ]
     },
     "execution_count": 45,
     "metadata": {},
     "output_type": "execute_result"
    }
   ],
   "source": [
    "pd.qcut(df['income_사업'],4)"
   ]
  },
  {
   "cell_type": "code",
   "execution_count": 46,
   "metadata": {},
   "outputs": [
    {
     "data": {
      "text/plain": [
       "count    1.000000e+05\n",
       "mean     1.182567e+06\n",
       "std      2.254789e+06\n",
       "min      0.000000e+00\n",
       "10%      0.000000e+00\n",
       "20%      0.000000e+00\n",
       "30%      6.000000e+04\n",
       "40%      1.610000e+05\n",
       "50%      3.280000e+05\n",
       "60%      5.890000e+05\n",
       "70%      9.630000e+05\n",
       "80%      1.566200e+06\n",
       "90%      3.302100e+06\n",
       "max      3.993400e+07\n",
       "Name: income_사업, dtype: float64"
      ]
     },
     "execution_count": 46,
     "metadata": {},
     "output_type": "execute_result"
    }
   ],
   "source": [
    "df['income_사업'].describe(percentiles = [0.1, 0.2, 0.3, 0.4, 0.5, 0.6, 0.7, 0.8, 0.9])"
   ]
  },
  {
   "cell_type": "code",
   "execution_count": 47,
   "metadata": {},
   "outputs": [],
   "source": [
    "# 임의의 구간으로 나누기\n",
    "def income_사업_category(income_사업):\n",
    "    category = ''\n",
    "    if income_사업 <= 0:\n",
    "        category = '0원'\n",
    "    elif 0 < income_사업 <= 31000:\n",
    "        category='0~31,000원'\n",
    "    elif 31000 < income_사업 <= 60000:\n",
    "        category = '31,000~60,000원'\n",
    "    elif 60000 < income_사업 <= 161000:\n",
    "        category = '60,000~161,000원'\n",
    "    elif 161000 < income_사업 <= 328000:\n",
    "        category = '161,000~328,000원'\n",
    "    elif 328000 < income_사업 <= 589000:\n",
    "        category = '328,000~589,000원'\n",
    "    elif 589000 < income_사업 <= 1235000:\n",
    "        category = '589,000~1,235,000원'\n",
    "    elif 1235000 < income_사업 <= 1566200:\n",
    "        category = '1,235,000~1,566,200원'\n",
    "    elif 1566200 < income_사업 <= 3302100:\n",
    "        category = '1,566,200~3,302,100원'\n",
    "    elif 3302100 < income_사업 <= 40000000:\n",
    "        category = '3,302,100~4000만원'\n",
    "    return category"
   ]
  },
  {
   "cell_type": "code",
   "execution_count": 48,
   "metadata": {},
   "outputs": [],
   "source": [
    "df['사업소득_구간'] = df['income_사업'].apply(income_사업_category)"
   ]
  },
  {
   "cell_type": "code",
   "execution_count": 49,
   "metadata": {},
   "outputs": [
    {
     "data": {
      "text/plain": [
       "0원                      21830\n",
       "589,000~1,235,000원      15018\n",
       "3,302,100~4000만원        10000\n",
       "1,566,200~3,302,100원    10000\n",
       "161,000~328,000원         9988\n",
       "328,000~589,000원         9988\n",
       "60,000~161,000원          9937\n",
       "1,235,000~1,566,200원     4981\n",
       "31,000~60,000원           4816\n",
       "0~31,000원                3442\n",
       "Name: 사업소득_구간, dtype: int64"
      ]
     },
     "execution_count": 49,
     "metadata": {},
     "output_type": "execute_result"
    }
   ],
   "source": [
    "df['사업소득_구간'].value_counts()"
   ]
  },
  {
   "cell_type": "code",
   "execution_count": 50,
   "metadata": {},
   "outputs": [
    {
     "data": {
      "text/plain": [
       "<AxesSubplot:xlabel='사업소득_구간', ylabel='has_paid'>"
      ]
     },
     "execution_count": 50,
     "metadata": {},
     "output_type": "execute_result"
    },
    {
     "data": {
      "image/png": "[encoded data removed]",
      "text/plain": [
       "<Figure size 1440x360 with 1 Axes>"
      ]
     },
     "metadata": {
      "needs_background": "light"
     },
     "output_type": "display_data"
    }
   ],
   "source": [
    "plt.figure(figsize=(20,5))\n",
    "sns.barplot(data = df, \n",
    "            x='사업소득_구간',\n",
    "            y= 'has_paid',\n",
    "           order = ['0원','0~31,000원','31,000~60,000원','60,000~161,000원','161,000~328,000원','328,000~589,000원',\n",
    "                    '589,000~1,235,000원','1,235,000~1,566,200원','1,566,200~3,302,100원','3,302,100~4000만원'])"
   ]
  },
  {
   "cell_type": "markdown",
   "metadata": {},
   "source": [
    "- 사업 소득과 비례하여 수수료 결제 비율이 높아지다가, 약 60만원을 기점으로 결제 비율이 하락하는 모습을 보인다.\n",
    "- 사업소득과 수수로 결제율은 상관관계가 있다."
   ]
  },
  {
   "cell_type": "markdown",
   "metadata": {},
   "source": [
    "# Segment 나누기 7) 기타소득별"
   ]
  },
  {
   "cell_type": "code",
   "execution_count": 51,
   "metadata": {},
   "outputs": [
    {
     "data": {
      "text/plain": [
       "count    1.000000e+05\n",
       "mean     1.607252e+05\n",
       "std      7.958761e+05\n",
       "min      0.000000e+00\n",
       "10%      0.000000e+00\n",
       "20%      0.000000e+00\n",
       "30%      0.000000e+00\n",
       "40%      0.000000e+00\n",
       "50%      0.000000e+00\n",
       "60%      0.000000e+00\n",
       "70%      0.000000e+00\n",
       "80%      6.400000e+04\n",
       "90%      3.160000e+05\n",
       "max      6.281000e+07\n",
       "Name: income_기타, dtype: float64"
      ]
     },
     "execution_count": 51,
     "metadata": {},
     "output_type": "execute_result"
    }
   ],
   "source": [
    "df['income_기타'].describe(percentiles = [0.1, 0.2, 0.3, 0.4, 0.5, 0.6, 0.7, 0.8, 0.9])"
   ]
  },
  {
   "cell_type": "code",
   "execution_count": 52,
   "metadata": {},
   "outputs": [],
   "source": [
    "# 임의의 구간으로 나누기\n",
    "def income_기타_category(income_기타):\n",
    "    category = ''\n",
    "    if income_기타 <= 0:\n",
    "        category = '0원'\n",
    "    elif 0 < income_기타 <= 10000:\n",
    "        category='0~10,000원'\n",
    "    elif 10000 < income_기타 <= 100000:\n",
    "        category = '10,000~100,000원'\n",
    "    elif 100000 < income_기타 <= 500000:\n",
    "        category = '100,000~500,000원'\n",
    "    elif 500000 < income_기타 <= 1000000:\n",
    "        category = '500,000~1,000,000원'\n",
    "    elif 1000000 <income_기타 <=3000000:\n",
    "        category = '1,000,000~3,000,000원'\n",
    "    else:\n",
    "        category = '300만원~'\n",
    "    return category"
   ]
  },
  {
   "cell_type": "code",
   "execution_count": 53,
   "metadata": {},
   "outputs": [],
   "source": [
    "df['기타소득_구간'] = df['income_기타'].apply(income_기타_category)"
   ]
  },
  {
   "cell_type": "code",
   "execution_count": 54,
   "metadata": {},
   "outputs": [
    {
     "data": {
      "text/plain": [
       "0원                      74888\n",
       "100,000~500,000원        10266\n",
       "10,000~100,000원          7090\n",
       "500,000~1,000,000원       3294\n",
       "1,000,000~3,000,000원     2810\n",
       "300만원~                   1040\n",
       "0~10,000원                 612\n",
       "Name: 기타소득_구간, dtype: int64"
      ]
     },
     "execution_count": 54,
     "metadata": {},
     "output_type": "execute_result"
    }
   ],
   "source": [
    "df['기타소득_구간'].value_counts()"
   ]
  },
  {
   "cell_type": "code",
   "execution_count": 55,
   "metadata": {},
   "outputs": [
    {
     "data": {
      "text/plain": [
       "<AxesSubplot:xlabel='기타소득_구간', ylabel='has_paid'>"
      ]
     },
     "execution_count": 55,
     "metadata": {},
     "output_type": "execute_result"
    },
    {
     "data": {
      "image/png": "[encoded data removed]",
      "text/plain": [
       "<Figure size 1440x360 with 1 Axes>"
      ]
     },
     "metadata": {
      "needs_background": "light"
     },
     "output_type": "display_data"
    }
   ],
   "source": [
    "plt.figure(figsize=(20,5))\n",
    "sns.barplot(data = df, \n",
    "            x='기타소득_구간',\n",
    "            y= 'has_paid',\n",
    "           order = ['0원','0~10,000원','10,000~100,000원','100,000~500,000원','500,000~1,000,000원','1,000,000~3,000,000원',\n",
    "                    '300만원~'])"
   ]
  },
  {
   "cell_type": "markdown",
   "metadata": {},
   "source": [
    "- 대부분의 기타소득이 0원임을 유념\n",
    "- 약 50만원을 기점으로 50만원 이상의 경우 수수료 결제율이 감소한다."
   ]
  },
  {
   "cell_type": "markdown",
   "metadata": {},
   "source": [
    "# 정리\n",
    "1. 2020년의 수수료 결제 비율이 줄어들어든 이유는 사업소득과 결제수수료가 매우 큰 폭으로 증가했기 때문이다. 따라서 귀속연도가 2020년인 경우 사업 소득이 높은 사람들을 대상으로 결제수수료와 관련한 action plan을 제시하는 것이 필요하다.\n",
    "2. 환급 예상액 1,000원~ 11,000원 구간의 10,836명과 585,000원~7,725,000원 구간의 9,988명의 경우가 수수료 결제율이 낮으므로 이들 중 결제하지 않은 사람들 대상으로 action을 진행할 필요가 있다.\n",
    "3. 수수료가 11,100원을 넘어가면서 수수료 결제율이 지속적으로 감소한다. 11,000원 이상의 수수료의 경우 사람들이 결제하는데 부담을 느낀다.\n",
    "4. 예상환급액 대비 수수료가 3.5%~4%인 경우가 가장 많은 비중을 차지하는데, 가장 수수료 결제비율이 낮다.\n",
    "5. 대체로 결제여부는 예상환급액 대비 수수료 비율보다는, 절대적인 수수료 액수 그 자체에 영향을 더 많이 받는다.\n",
    "6. 사업소득이 16만원 이하인 그룹, 156만원 이상인 그룹을 대상으로 action을 진행할 필요가 있다."
   ]
  },
  {
   "cell_type": "markdown",
   "metadata": {},
   "source": [
    "- 위 대상들을 조합하여 한 depth 더 들어간 분석 필요\n",
    "# Action Plan"
   ]
  },
  {
   "cell_type": "markdown",
   "metadata": {},
   "source": [
    "1. 환급 예상액 1,000원~11,000원 구간\n",
    "2. 환급 예상액 585,000원~7,725,000원 구간\n",
    "3. 사업 소득이 16만원 이하인 그룹\n",
    "4. 사업 소득이 150만원 이상인 그룹\n",
    "5. 예상환급액 대비 수수료가 3.5%~4%인 그룹 "
   ]
  },
  {
   "cell_type": "code",
   "execution_count": 64,
   "metadata": {},
   "outputs": [],
   "source": [
    "# 환급 예상액 1,000원~11,000원 구간\n",
    "group1_paid = df.query('1000 < refund <=11000 and has_paid == 1' )\n",
    "group1_non_paid = df.query('1000 < refund <=11000 and has_paid == 0' )"
   ]
  },
  {
   "cell_type": "code",
   "execution_count": 78,
   "metadata": {},
   "outputs": [
    {
     "data": {
      "text/plain": [
       "2098400.0"
      ]
     },
     "execution_count": 78,
     "metadata": {},
     "output_type": "execute_result"
    }
   ],
   "source": [
    "group1_non_paid['fee'].sum()"
   ]
  },
  {
   "cell_type": "code",
   "execution_count": 73,
   "metadata": {},
   "outputs": [],
   "source": [
    "# 환급 예상액 585,000원~7,725,000원 구간\n",
    "group2_paid = df.query('585000 < refund <= 7725000 and has_paid == 1' )\n",
    "group2_non_paid = df.query('585000 < refund <=7725000 and has_paid == 0' )"
   ]
  },
  {
   "cell_type": "code",
   "execution_count": 79,
   "metadata": {},
   "outputs": [
    {
     "data": {
      "text/plain": [
       "179392300.0"
      ]
     },
     "execution_count": 79,
     "metadata": {},
     "output_type": "execute_result"
    }
   ],
   "source": [
    "group2_non_paid['fee'].sum()"
   ]
  },
  {
   "cell_type": "code",
   "execution_count": 81,
   "metadata": {},
   "outputs": [],
   "source": [
    "# 사업 소득이 16만원 이하인 그룹\n",
    "group3_paid = df.query('income_사업 <= 160000 and has_paid == 1' )\n",
    "group3_non_paid = df.query('income_사업 <= 160000 and has_paid == 0' )"
   ]
  },
  {
   "cell_type": "code",
   "execution_count": 83,
   "metadata": {},
   "outputs": [
    {
     "data": {
      "text/plain": [
       "106595100.0"
      ]
     },
     "execution_count": 83,
     "metadata": {},
     "output_type": "execute_result"
    }
   ],
   "source": [
    "group3_non_paid['fee'].sum()"
   ]
  },
  {
   "cell_type": "code",
   "execution_count": 101,
   "metadata": {},
   "outputs": [],
   "source": [
    "# 사업 소득이 156만원 이상인 그룹\n",
    "group4_paid = df.query('income_사업 >= 1560000 and has_paid == 1' )\n",
    "group4_non_paid = df.query('income_사업 >= 1560000 and has_paid == 0' )"
   ]
  },
  {
   "cell_type": "code",
   "execution_count": 102,
   "metadata": {},
   "outputs": [
    {
     "data": {
      "text/plain": [
       "169819600.0"
      ]
     },
     "execution_count": 102,
     "metadata": {},
     "output_type": "execute_result"
    }
   ],
   "source": [
    "group4_non_paid['fee'].sum()"
   ]
  },
  {
   "cell_type": "code",
   "execution_count": 173,
   "metadata": {},
   "outputs": [],
   "source": [
    "group5_paid = df[(df['예상환급액_대비_수수료(%)_구간']=='3.5~4%') & df['has_paid']==1]\n",
    "group5_non_paid = df[(df['예상환급액_대비_수수료(%)_구간']=='3.5~4%') & df['has_paid']==0]"
   ]
  },
  {
   "cell_type": "code",
   "execution_count": 174,
   "metadata": {},
   "outputs": [
    {
     "data": {
      "text/plain": [
       "459678000.0"
      ]
     },
     "execution_count": 174,
     "metadata": {},
     "output_type": "execute_result"
    }
   ],
   "source": [
    "group5_non_paid['fee'].sum()"
   ]
  },
  {
   "cell_type": "markdown",
   "metadata": {},
   "source": [
    "## 단 한 그룹을 대상으로 action을 취한다면?\n",
    "> ### 예상 환급액이 585,000원~7,725,000원 구간이고, 사업 소득이 156만원 이상이며, 예상환급액 대비 수수료가 3.5 - 4%인 그룹"
   ]
  },
  {
   "cell_type": "code",
   "execution_count": 183,
   "metadata": {},
   "outputs": [],
   "source": [
    "# 예상 환급액이 585,000원~7,725,000원 구간이며 사업 소득이 156만원 이상인 그룹\n",
    "group6_paid = df.query('585000 < refund <= 7725000 and income_사업 >= 1560000 and has_paid == 1')\n",
    "group6_non_paid = df.query('585000 < refund <= 7725000 and income_사업 >= 1560000 and has_paid == 0')"
   ]
  },
  {
   "cell_type": "code",
   "execution_count": 187,
   "metadata": {},
   "outputs": [],
   "source": [
    "# 예상 환급액이 585,000원~7,725,000원 구간이고 사업 소득이 156만원 이상이며 예상환급액 대비 수수료가 3.5 ~ 4%인 그룹\n",
    "group6_paid = group6_paid[group6_paid['예상환급액_대비_수수료(%)_구간']=='3.5~4%']\n",
    "group6_non_paid = group6_non_paid[group6_non_paid['예상환급액_대비_수수료(%)_구간']=='3.5~4%']"
   ]
  },
  {
   "cell_type": "code",
   "execution_count": 188,
   "metadata": {},
   "outputs": [
    {
     "name": "stdout",
     "output_type": "stream",
     "text": [
      "(2641, 18)\n",
      "(3152, 18)\n"
     ]
    }
   ],
   "source": [
    "print(group6_paid.shape)\n",
    "print(group6_non_paid.shape)"
   ]
  },
  {
   "cell_type": "code",
   "execution_count": 190,
   "metadata": {},
   "outputs": [
    {
     "data": {
      "text/plain": [
       "108158400.0"
      ]
     },
     "execution_count": 190,
     "metadata": {},
     "output_type": "execute_result"
    }
   ],
   "source": [
    "group6_non_paid['fee'].sum()"
   ]
  },
  {
   "cell_type": "code",
   "execution_count": 191,
   "metadata": {},
   "outputs": [
    {
     "data": {
      "text/html": [
       "<div>\n",
       "<style scoped>\n",
       "    .dataframe tbody tr th:only-of-type {\n",
       "        vertical-align: middle;\n",
       "    }\n",
       "\n",
       "    .dataframe tbody tr th {\n",
       "        vertical-align: top;\n",
       "    }\n",
       "\n",
       "    .dataframe thead th {\n",
       "        text-align: right;\n",
       "    }\n",
       "</style>\n",
       "<table border=\"1\" class=\"dataframe\">\n",
       "  <thead>\n",
       "    <tr style=\"text-align: right;\">\n",
       "      <th></th>\n",
       "      <th>age</th>\n",
       "      <th>year</th>\n",
       "      <th>refund</th>\n",
       "      <th>fee</th>\n",
       "      <th>has_paid</th>\n",
       "      <th>income_근로</th>\n",
       "      <th>income_사업</th>\n",
       "      <th>income_기타</th>\n",
       "      <th>예상환급액_대비_수수료(%)</th>\n",
       "      <th>income_합계</th>\n",
       "    </tr>\n",
       "  </thead>\n",
       "  <tbody>\n",
       "    <tr>\n",
       "      <th>count</th>\n",
       "      <td>2641.000000</td>\n",
       "      <td>2641.000000</td>\n",
       "      <td>2.641000e+03</td>\n",
       "      <td>2641.000000</td>\n",
       "      <td>2641.0</td>\n",
       "      <td>2.641000e+03</td>\n",
       "      <td>2.641000e+03</td>\n",
       "      <td>2.641000e+03</td>\n",
       "      <td>2641.000000</td>\n",
       "      <td>2.641000e+03</td>\n",
       "    </tr>\n",
       "    <tr>\n",
       "      <th>mean</th>\n",
       "      <td>30.534267</td>\n",
       "      <td>2018.895115</td>\n",
       "      <td>8.304915e+05</td>\n",
       "      <td>32791.291178</td>\n",
       "      <td>1.0</td>\n",
       "      <td>8.963730e+05</td>\n",
       "      <td>7.210174e+06</td>\n",
       "      <td>1.379016e+05</td>\n",
       "      <td>3.947756</td>\n",
       "      <td>8.244449e+06</td>\n",
       "    </tr>\n",
       "    <tr>\n",
       "      <th>std</th>\n",
       "      <td>8.335238</td>\n",
       "      <td>1.383609</td>\n",
       "      <td>2.691369e+05</td>\n",
       "      <td>10672.093311</td>\n",
       "      <td>0.0</td>\n",
       "      <td>2.062825e+06</td>\n",
       "      <td>3.378786e+06</td>\n",
       "      <td>7.297099e+05</td>\n",
       "      <td>0.030377</td>\n",
       "      <td>3.849298e+06</td>\n",
       "    </tr>\n",
       "    <tr>\n",
       "      <th>min</th>\n",
       "      <td>17.000000</td>\n",
       "      <td>2015.000000</td>\n",
       "      <td>5.860000e+05</td>\n",
       "      <td>23000.000000</td>\n",
       "      <td>1.0</td>\n",
       "      <td>0.000000e+00</td>\n",
       "      <td>1.563000e+06</td>\n",
       "      <td>0.000000e+00</td>\n",
       "      <td>3.526971</td>\n",
       "      <td>2.130000e+06</td>\n",
       "    </tr>\n",
       "    <tr>\n",
       "      <th>25%</th>\n",
       "      <td>25.000000</td>\n",
       "      <td>2018.000000</td>\n",
       "      <td>6.600000e+05</td>\n",
       "      <td>25900.000000</td>\n",
       "      <td>1.0</td>\n",
       "      <td>0.000000e+00</td>\n",
       "      <td>4.698000e+06</td>\n",
       "      <td>0.000000e+00</td>\n",
       "      <td>3.935484</td>\n",
       "      <td>5.370000e+06</td>\n",
       "    </tr>\n",
       "    <tr>\n",
       "      <th>50%</th>\n",
       "      <td>28.000000</td>\n",
       "      <td>2020.000000</td>\n",
       "      <td>7.580000e+05</td>\n",
       "      <td>29800.000000</td>\n",
       "      <td>1.0</td>\n",
       "      <td>0.000000e+00</td>\n",
       "      <td>6.440000e+06</td>\n",
       "      <td>0.000000e+00</td>\n",
       "      <td>3.952180</td>\n",
       "      <td>7.440000e+06</td>\n",
       "    </tr>\n",
       "    <tr>\n",
       "      <th>75%</th>\n",
       "      <td>33.000000</td>\n",
       "      <td>2020.000000</td>\n",
       "      <td>9.140000e+05</td>\n",
       "      <td>36100.000000</td>\n",
       "      <td>1.0</td>\n",
       "      <td>8.740000e+05</td>\n",
       "      <td>9.012000e+06</td>\n",
       "      <td>0.000000e+00</td>\n",
       "      <td>3.964687</td>\n",
       "      <td>1.007500e+07</td>\n",
       "    </tr>\n",
       "    <tr>\n",
       "      <th>max</th>\n",
       "      <td>70.000000</td>\n",
       "      <td>2020.000000</td>\n",
       "      <td>5.119000e+06</td>\n",
       "      <td>203200.000000</td>\n",
       "      <td>1.0</td>\n",
       "      <td>2.467600e+07</td>\n",
       "      <td>3.266500e+07</td>\n",
       "      <td>1.770200e+07</td>\n",
       "      <td>3.983957</td>\n",
       "      <td>3.484800e+07</td>\n",
       "    </tr>\n",
       "  </tbody>\n",
       "</table>\n",
       "</div>"
      ],
      "text/plain": [
       "               age         year        refund            fee  has_paid  \\\n",
       "count  2641.000000  2641.000000  2.641000e+03    2641.000000    2641.0   \n",
       "mean     30.534267  2018.895115  8.304915e+05   32791.291178       1.0   \n",
       "std       8.335238     1.383609  2.691369e+05   10672.093311       0.0   \n",
       "min      17.000000  2015.000000  5.860000e+05   23000.000000       1.0   \n",
       "25%      25.000000  2018.000000  6.600000e+05   25900.000000       1.0   \n",
       "50%      28.000000  2020.000000  7.580000e+05   29800.000000       1.0   \n",
       "75%      33.000000  2020.000000  9.140000e+05   36100.000000       1.0   \n",
       "max      70.000000  2020.000000  5.119000e+06  203200.000000       1.0   \n",
       "\n",
       "          income_근로     income_사업     income_기타  예상환급액_대비_수수료(%)     income_합계  \n",
       "count  2.641000e+03  2.641000e+03  2.641000e+03      2641.000000  2.641000e+03  \n",
       "mean   8.963730e+05  7.210174e+06  1.379016e+05         3.947756  8.244449e+06  \n",
       "std    2.062825e+06  3.378786e+06  7.297099e+05         0.030377  3.849298e+06  \n",
       "min    0.000000e+00  1.563000e+06  0.000000e+00         3.526971  2.130000e+06  \n",
       "25%    0.000000e+00  4.698000e+06  0.000000e+00         3.935484  5.370000e+06  \n",
       "50%    0.000000e+00  6.440000e+06  0.000000e+00         3.952180  7.440000e+06  \n",
       "75%    8.740000e+05  9.012000e+06  0.000000e+00         3.964687  1.007500e+07  \n",
       "max    2.467600e+07  3.266500e+07  1.770200e+07         3.983957  3.484800e+07  "
      ]
     },
     "execution_count": 191,
     "metadata": {},
     "output_type": "execute_result"
    }
   ],
   "source": [
    "group6_paid.describe()"
   ]
  },
  {
   "cell_type": "code",
   "execution_count": 192,
   "metadata": {},
   "outputs": [
    {
     "data": {
      "text/html": [
       "<div>\n",
       "<style scoped>\n",
       "    .dataframe tbody tr th:only-of-type {\n",
       "        vertical-align: middle;\n",
       "    }\n",
       "\n",
       "    .dataframe tbody tr th {\n",
       "        vertical-align: top;\n",
       "    }\n",
       "\n",
       "    .dataframe thead th {\n",
       "        text-align: right;\n",
       "    }\n",
       "</style>\n",
       "<table border=\"1\" class=\"dataframe\">\n",
       "  <thead>\n",
       "    <tr style=\"text-align: right;\">\n",
       "      <th></th>\n",
       "      <th>age</th>\n",
       "      <th>year</th>\n",
       "      <th>refund</th>\n",
       "      <th>fee</th>\n",
       "      <th>has_paid</th>\n",
       "      <th>income_근로</th>\n",
       "      <th>income_사업</th>\n",
       "      <th>income_기타</th>\n",
       "      <th>예상환급액_대비_수수료(%)</th>\n",
       "      <th>income_합계</th>\n",
       "    </tr>\n",
       "  </thead>\n",
       "  <tbody>\n",
       "    <tr>\n",
       "      <th>count</th>\n",
       "      <td>3152.000000</td>\n",
       "      <td>3152.000000</td>\n",
       "      <td>3.152000e+03</td>\n",
       "      <td>3152.000000</td>\n",
       "      <td>3152.0</td>\n",
       "      <td>3.152000e+03</td>\n",
       "      <td>3.152000e+03</td>\n",
       "      <td>3.152000e+03</td>\n",
       "      <td>3152.000000</td>\n",
       "      <td>3.152000e+03</td>\n",
       "    </tr>\n",
       "    <tr>\n",
       "      <th>mean</th>\n",
       "      <td>30.154188</td>\n",
       "      <td>2019.436865</td>\n",
       "      <td>8.683093e+05</td>\n",
       "      <td>34314.213198</td>\n",
       "      <td>0.0</td>\n",
       "      <td>6.475029e+05</td>\n",
       "      <td>7.548142e+06</td>\n",
       "      <td>2.065181e+05</td>\n",
       "      <td>3.949995</td>\n",
       "      <td>8.402163e+06</td>\n",
       "    </tr>\n",
       "    <tr>\n",
       "      <th>std</th>\n",
       "      <td>8.243999</td>\n",
       "      <td>1.131112</td>\n",
       "      <td>3.354251e+05</td>\n",
       "      <td>13336.087478</td>\n",
       "      <td>0.0</td>\n",
       "      <td>1.797140e+06</td>\n",
       "      <td>3.592968e+06</td>\n",
       "      <td>1.587988e+06</td>\n",
       "      <td>0.019325</td>\n",
       "      <td>4.141355e+06</td>\n",
       "    </tr>\n",
       "    <tr>\n",
       "      <th>min</th>\n",
       "      <td>17.000000</td>\n",
       "      <td>2016.000000</td>\n",
       "      <td>5.860000e+05</td>\n",
       "      <td>23000.000000</td>\n",
       "      <td>0.0</td>\n",
       "      <td>0.000000e+00</td>\n",
       "      <td>1.575000e+06</td>\n",
       "      <td>0.000000e+00</td>\n",
       "      <td>3.589527</td>\n",
       "      <td>2.124000e+06</td>\n",
       "    </tr>\n",
       "    <tr>\n",
       "      <th>25%</th>\n",
       "      <td>25.000000</td>\n",
       "      <td>2020.000000</td>\n",
       "      <td>6.730000e+05</td>\n",
       "      <td>26400.000000</td>\n",
       "      <td>0.0</td>\n",
       "      <td>0.000000e+00</td>\n",
       "      <td>4.741000e+06</td>\n",
       "      <td>0.000000e+00</td>\n",
       "      <td>3.937330</td>\n",
       "      <td>5.287250e+06</td>\n",
       "    </tr>\n",
       "    <tr>\n",
       "      <th>50%</th>\n",
       "      <td>28.000000</td>\n",
       "      <td>2020.000000</td>\n",
       "      <td>7.895000e+05</td>\n",
       "      <td>31000.000000</td>\n",
       "      <td>0.0</td>\n",
       "      <td>0.000000e+00</td>\n",
       "      <td>6.798000e+06</td>\n",
       "      <td>0.000000e+00</td>\n",
       "      <td>3.952435</td>\n",
       "      <td>7.542500e+06</td>\n",
       "    </tr>\n",
       "    <tr>\n",
       "      <th>75%</th>\n",
       "      <td>33.000000</td>\n",
       "      <td>2020.000000</td>\n",
       "      <td>9.540000e+05</td>\n",
       "      <td>37800.000000</td>\n",
       "      <td>0.0</td>\n",
       "      <td>0.000000e+00</td>\n",
       "      <td>9.542750e+06</td>\n",
       "      <td>0.000000e+00</td>\n",
       "      <td>3.964211</td>\n",
       "      <td>1.034400e+07</td>\n",
       "    </tr>\n",
       "    <tr>\n",
       "      <th>max</th>\n",
       "      <td>68.000000</td>\n",
       "      <td>2020.000000</td>\n",
       "      <td>6.054000e+06</td>\n",
       "      <td>240600.000000</td>\n",
       "      <td>0.0</td>\n",
       "      <td>3.408500e+07</td>\n",
       "      <td>2.117100e+07</td>\n",
       "      <td>6.281000e+07</td>\n",
       "      <td>3.983871</td>\n",
       "      <td>7.020900e+07</td>\n",
       "    </tr>\n",
       "  </tbody>\n",
       "</table>\n",
       "</div>"
      ],
      "text/plain": [
       "               age         year        refund            fee  has_paid  \\\n",
       "count  3152.000000  3152.000000  3.152000e+03    3152.000000    3152.0   \n",
       "mean     30.154188  2019.436865  8.683093e+05   34314.213198       0.0   \n",
       "std       8.243999     1.131112  3.354251e+05   13336.087478       0.0   \n",
       "min      17.000000  2016.000000  5.860000e+05   23000.000000       0.0   \n",
       "25%      25.000000  2020.000000  6.730000e+05   26400.000000       0.0   \n",
       "50%      28.000000  2020.000000  7.895000e+05   31000.000000       0.0   \n",
       "75%      33.000000  2020.000000  9.540000e+05   37800.000000       0.0   \n",
       "max      68.000000  2020.000000  6.054000e+06  240600.000000       0.0   \n",
       "\n",
       "          income_근로     income_사업     income_기타  예상환급액_대비_수수료(%)     income_합계  \n",
       "count  3.152000e+03  3.152000e+03  3.152000e+03      3152.000000  3.152000e+03  \n",
       "mean   6.475029e+05  7.548142e+06  2.065181e+05         3.949995  8.402163e+06  \n",
       "std    1.797140e+06  3.592968e+06  1.587988e+06         0.019325  4.141355e+06  \n",
       "min    0.000000e+00  1.575000e+06  0.000000e+00         3.589527  2.124000e+06  \n",
       "25%    0.000000e+00  4.741000e+06  0.000000e+00         3.937330  5.287250e+06  \n",
       "50%    0.000000e+00  6.798000e+06  0.000000e+00         3.952435  7.542500e+06  \n",
       "75%    0.000000e+00  9.542750e+06  0.000000e+00         3.964211  1.034400e+07  \n",
       "max    3.408500e+07  2.117100e+07  6.281000e+07         3.983871  7.020900e+07  "
      ]
     },
     "execution_count": 192,
     "metadata": {},
     "output_type": "execute_result"
    }
   ],
   "source": [
    "group6_non_paid.describe()"
   ]
  },
  {
   "cell_type": "code",
   "execution_count": 195,
   "metadata": {},
   "outputs": [
    {
     "name": "stdout",
     "output_type": "stream",
     "text": [
      "29800.0 31000.0\n"
     ]
    }
   ],
   "source": [
    "print(group6_paid['fee'].median(), group6_non_paid['fee'].median())"
   ]
  },
  {
   "cell_type": "code",
   "execution_count": 196,
   "metadata": {},
   "outputs": [
    {
     "data": {
      "text/plain": [
       "1200.0"
      ]
     },
     "execution_count": 196,
     "metadata": {},
     "output_type": "execute_result"
    }
   ],
   "source": [
    "group6_non_paid['fee'].median() - group6_paid['fee'].median()"
   ]
  },
  {
   "cell_type": "code",
   "execution_count": 198,
   "metadata": {},
   "outputs": [
    {
     "data": {
      "text/plain": [
       "1522.9220203852892"
      ]
     },
     "execution_count": 198,
     "metadata": {},
     "output_type": "execute_result"
    }
   ],
   "source": [
    "group6_non_paid['fee'].mean() - group6_paid['fee'].mean()"
   ]
  },
  {
   "cell_type": "markdown",
   "metadata": {},
   "source": [
    "## 수수료를 결제하지 않은 3152명을 대상으로 수수료를 1500원씩 인하한다면?\n",
    "- 쿠폰 발행\n",
    "- 페이백"
   ]
  },
  {
   "cell_type": "code",
   "execution_count": 203,
   "metadata": {},
   "outputs": [
    {
     "data": {
      "text/plain": [
       "32814.21319796954"
      ]
     },
     "execution_count": 203,
     "metadata": {},
     "output_type": "execute_result"
    }
   ],
   "source": [
    "(group6_non_paid['fee'] - 1500).mean()"
   ]
  },
  {
   "cell_type": "code",
   "execution_count": 204,
   "metadata": {},
   "outputs": [
    {
     "data": {
      "text/plain": [
       "103430399.99999999"
      ]
     },
     "execution_count": 204,
     "metadata": {},
     "output_type": "execute_result"
    }
   ],
   "source": [
    "3152 * (group6_non_paid['fee'] - 1500).mean()"
   ]
  },
  {
   "cell_type": "code",
   "execution_count": 208,
   "metadata": {},
   "outputs": [
    {
     "data": {
      "text/plain": [
       "103430400"
      ]
     },
     "execution_count": 208,
     "metadata": {},
     "output_type": "execute_result"
    }
   ],
   "source": [
    "round(103430399.99999999)"
   ]
  },
  {
   "cell_type": "markdown",
   "metadata": {},
   "source": [
    "### 결론: 최대 103,430,400원의 수익을 얻을 수 있을 것이다."
   ]
  },
  {
   "cell_type": "markdown",
   "metadata": {},
   "source": [
    " "
   ]
  },
  {
   "cell_type": "markdown",
   "metadata": {},
   "source": [
    "### *참고로 autoML활용한 경우 결제에 영향을 미치는 요인은 다음과 같음. \n",
    "(2)에 작성한 내용"
   ]
  },
  {
   "attachments": {
    "image-2.png": {
     "image/png": "[encoded data removed]"
    },
    "image.png": {
     "image/png": "[encoded data removed]"
    }
   },
   "cell_type": "markdown",
   "metadata": {},
   "source": [
    "<LGBM 모델 사용>\n",
    "\n",
    "feature importance\n",
    "![image-2.png](attachment:image-2.png)\n",
    "\n",
    "permuatation importance\n",
    "![image.png](attachment:image.png)"
   ]
  },
  {
   "cell_type": "code",
   "execution_count": null,
   "metadata": {},
   "outputs": [],
   "source": []
  }
 ],
 "metadata": {
  "kernelspec": {
   "display_name": "Python 3",
   "language": "python",
   "name": "python3"
  },
  "language_info": {
   "codemirror_mode": {
    "name": "ipython",
    "version": 3
   },
   "file_extension": ".py",
   "mimetype": "text/x-python",
   "name": "python",
   "nbconvert_exporter": "python",
   "pygments_lexer": "ipython3",
   "version": "3.8.5"
  }
 },
 "nbformat": 4,
 "nbformat_minor": 4
}
